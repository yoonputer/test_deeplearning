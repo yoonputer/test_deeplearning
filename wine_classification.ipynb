{
  "nbformat": 4,
  "nbformat_minor": 0,
  "metadata": {
    "colab": {
      "name": "wine_classification.ipynb",
      "provenance": [],
      "authorship_tag": "ABX9TyPpMPc+OQglVjOAAQdhJdLp",
      "include_colab_link": true
    },
    "kernelspec": {
      "name": "python3",
      "display_name": "Python 3"
    },
    "language_info": {
      "name": "python"
    }
  },
  "cells": [
    {
      "cell_type": "markdown",
      "metadata": {
        "id": "view-in-github",
        "colab_type": "text"
      },
      "source": [
        "<a href=\"https://colab.research.google.com/github/yoonputer/test_deeplearning/blob/master/wine_classification.ipynb\" target=\"_parent\"><img src=\"https://colab.research.google.com/assets/colab-badge.svg\" alt=\"Open In Colab\"/></a>"
      ]
    },
    {
      "cell_type": "code",
      "metadata": {
        "id": "L5X0P7-lbxft"
      },
      "source": [
        "from sklearn import datasets"
      ],
      "execution_count": 1,
      "outputs": []
    },
    {
      "cell_type": "code",
      "metadata": {
        "colab": {
          "base_uri": "https://localhost:8080/"
        },
        "id": "EFuItZWQb2GA",
        "outputId": "347549db-1339-4499-c406-bba4b6e56ad6"
      },
      "source": [
        "wine = datasets.load_wine()\n",
        "wine.keys()"
      ],
      "execution_count": 2,
      "outputs": [
        {
          "output_type": "execute_result",
          "data": {
            "text/plain": [
              "dict_keys(['data', 'target', 'target_names', 'DESCR', 'feature_names'])"
            ]
          },
          "metadata": {
            "tags": []
          },
          "execution_count": 2
        }
      ]
    },
    {
      "cell_type": "code",
      "metadata": {
        "colab": {
          "base_uri": "https://localhost:8080/"
        },
        "id": "CBaSA4t4cKcd",
        "outputId": "2035242d-6c5e-4d43-fb5f-fa9e330a401a"
      },
      "source": [
        "x_data = wine['data']\n",
        "x_data.shape"
      ],
      "execution_count": 3,
      "outputs": [
        {
          "output_type": "execute_result",
          "data": {
            "text/plain": [
              "(178, 13)"
            ]
          },
          "metadata": {
            "tags": []
          },
          "execution_count": 3
        }
      ]
    },
    {
      "cell_type": "code",
      "metadata": {
        "colab": {
          "base_uri": "https://localhost:8080/"
        },
        "id": "VYG6UHsddBOz",
        "outputId": "5abb21fb-ea69-4719-a6d9-f087bb95f0d0"
      },
      "source": [
        "y_data = wine['target']\n",
        "y_data"
      ],
      "execution_count": 4,
      "outputs": [
        {
          "output_type": "execute_result",
          "data": {
            "text/plain": [
              "array([0, 0, 0, 0, 0, 0, 0, 0, 0, 0, 0, 0, 0, 0, 0, 0, 0, 0, 0, 0, 0, 0,\n",
              "       0, 0, 0, 0, 0, 0, 0, 0, 0, 0, 0, 0, 0, 0, 0, 0, 0, 0, 0, 0, 0, 0,\n",
              "       0, 0, 0, 0, 0, 0, 0, 0, 0, 0, 0, 0, 0, 0, 0, 1, 1, 1, 1, 1, 1, 1,\n",
              "       1, 1, 1, 1, 1, 1, 1, 1, 1, 1, 1, 1, 1, 1, 1, 1, 1, 1, 1, 1, 1, 1,\n",
              "       1, 1, 1, 1, 1, 1, 1, 1, 1, 1, 1, 1, 1, 1, 1, 1, 1, 1, 1, 1, 1, 1,\n",
              "       1, 1, 1, 1, 1, 1, 1, 1, 1, 1, 1, 1, 1, 1, 1, 1, 1, 1, 1, 1, 2, 2,\n",
              "       2, 2, 2, 2, 2, 2, 2, 2, 2, 2, 2, 2, 2, 2, 2, 2, 2, 2, 2, 2, 2, 2,\n",
              "       2, 2, 2, 2, 2, 2, 2, 2, 2, 2, 2, 2, 2, 2, 2, 2, 2, 2, 2, 2, 2, 2,\n",
              "       2, 2])"
            ]
          },
          "metadata": {
            "tags": []
          },
          "execution_count": 4
        }
      ]
    },
    {
      "cell_type": "code",
      "metadata": {
        "id": "03l9A_3PdIOz"
      },
      "source": [
        "import pandas as pd"
      ],
      "execution_count": 5,
      "outputs": []
    },
    {
      "cell_type": "code",
      "metadata": {
        "colab": {
          "base_uri": "https://localhost:8080/"
        },
        "id": "7yxtDEgytEbc",
        "outputId": "ccb8380c-077d-4db7-fce4-17708357fc37"
      },
      "source": [
        "df_wine = pd.DataFrame(wine.data)\n",
        "df_wine.info()"
      ],
      "execution_count": 6,
      "outputs": [
        {
          "output_type": "stream",
          "text": [
            "<class 'pandas.core.frame.DataFrame'>\n",
            "RangeIndex: 178 entries, 0 to 177\n",
            "Data columns (total 13 columns):\n",
            " #   Column  Non-Null Count  Dtype  \n",
            "---  ------  --------------  -----  \n",
            " 0   0       178 non-null    float64\n",
            " 1   1       178 non-null    float64\n",
            " 2   2       178 non-null    float64\n",
            " 3   3       178 non-null    float64\n",
            " 4   4       178 non-null    float64\n",
            " 5   5       178 non-null    float64\n",
            " 6   6       178 non-null    float64\n",
            " 7   7       178 non-null    float64\n",
            " 8   8       178 non-null    float64\n",
            " 9   9       178 non-null    float64\n",
            " 10  10      178 non-null    float64\n",
            " 11  11      178 non-null    float64\n",
            " 12  12      178 non-null    float64\n",
            "dtypes: float64(13)\n",
            "memory usage: 18.2 KB\n"
          ],
          "name": "stdout"
        }
      ]
    },
    {
      "cell_type": "code",
      "metadata": {
        "colab": {
          "base_uri": "https://localhost:8080/",
          "height": 419
        },
        "id": "TuUKWu30tIQj",
        "outputId": "8114a076-fa3f-49f4-95ae-9089b09594bd"
      },
      "source": [
        "df_twine = pd.DataFrame(wine.target)\n",
        "df_twine"
      ],
      "execution_count": 7,
      "outputs": [
        {
          "output_type": "execute_result",
          "data": {
            "text/html": [
              "<div>\n",
              "<style scoped>\n",
              "    .dataframe tbody tr th:only-of-type {\n",
              "        vertical-align: middle;\n",
              "    }\n",
              "\n",
              "    .dataframe tbody tr th {\n",
              "        vertical-align: top;\n",
              "    }\n",
              "\n",
              "    .dataframe thead th {\n",
              "        text-align: right;\n",
              "    }\n",
              "</style>\n",
              "<table border=\"1\" class=\"dataframe\">\n",
              "  <thead>\n",
              "    <tr style=\"text-align: right;\">\n",
              "      <th></th>\n",
              "      <th>0</th>\n",
              "    </tr>\n",
              "  </thead>\n",
              "  <tbody>\n",
              "    <tr>\n",
              "      <th>0</th>\n",
              "      <td>0</td>\n",
              "    </tr>\n",
              "    <tr>\n",
              "      <th>1</th>\n",
              "      <td>0</td>\n",
              "    </tr>\n",
              "    <tr>\n",
              "      <th>2</th>\n",
              "      <td>0</td>\n",
              "    </tr>\n",
              "    <tr>\n",
              "      <th>3</th>\n",
              "      <td>0</td>\n",
              "    </tr>\n",
              "    <tr>\n",
              "      <th>4</th>\n",
              "      <td>0</td>\n",
              "    </tr>\n",
              "    <tr>\n",
              "      <th>...</th>\n",
              "      <td>...</td>\n",
              "    </tr>\n",
              "    <tr>\n",
              "      <th>173</th>\n",
              "      <td>2</td>\n",
              "    </tr>\n",
              "    <tr>\n",
              "      <th>174</th>\n",
              "      <td>2</td>\n",
              "    </tr>\n",
              "    <tr>\n",
              "      <th>175</th>\n",
              "      <td>2</td>\n",
              "    </tr>\n",
              "    <tr>\n",
              "      <th>176</th>\n",
              "      <td>2</td>\n",
              "    </tr>\n",
              "    <tr>\n",
              "      <th>177</th>\n",
              "      <td>2</td>\n",
              "    </tr>\n",
              "  </tbody>\n",
              "</table>\n",
              "<p>178 rows × 1 columns</p>\n",
              "</div>"
            ],
            "text/plain": [
              "     0\n",
              "0    0\n",
              "1    0\n",
              "2    0\n",
              "3    0\n",
              "4    0\n",
              "..  ..\n",
              "173  2\n",
              "174  2\n",
              "175  2\n",
              "176  2\n",
              "177  2\n",
              "\n",
              "[178 rows x 1 columns]"
            ]
          },
          "metadata": {
            "tags": []
          },
          "execution_count": 7
        }
      ]
    },
    {
      "cell_type": "code",
      "metadata": {
        "id": "P3Lfh8ggwpPw"
      },
      "source": [
        "df_wine['y_col'] = df_twine"
      ],
      "execution_count": 8,
      "outputs": []
    },
    {
      "cell_type": "code",
      "metadata": {
        "id": "ITstel1kkOdE"
      },
      "source": [
        "import sqlite3\n",
        "connect = sqlite3.connect('./db.sqlite3')\n",
        "df_wine.to_sql('datax_resource', connect, if_exists='append', index=False)\n",
        "df_twine.to_sql('datay_resource', connect, if_exists='append', index=False)"
      ],
      "execution_count": 9,
      "outputs": []
    },
    {
      "cell_type": "code",
      "metadata": {
        "colab": {
          "base_uri": "https://localhost:8080/",
          "height": 173
        },
        "id": "f1ctnClDxQqp",
        "outputId": "fe506de8-93c0-4bcc-9336-c49dc636006c"
      },
      "source": [
        "db_wine = pd.read_sql_query('select * from datax_resource',connect)\n",
        "db_wine.head(4)"
      ],
      "execution_count": 10,
      "outputs": [
        {
          "output_type": "execute_result",
          "data": {
            "text/html": [
              "<div>\n",
              "<style scoped>\n",
              "    .dataframe tbody tr th:only-of-type {\n",
              "        vertical-align: middle;\n",
              "    }\n",
              "\n",
              "    .dataframe tbody tr th {\n",
              "        vertical-align: top;\n",
              "    }\n",
              "\n",
              "    .dataframe thead th {\n",
              "        text-align: right;\n",
              "    }\n",
              "</style>\n",
              "<table border=\"1\" class=\"dataframe\">\n",
              "  <thead>\n",
              "    <tr style=\"text-align: right;\">\n",
              "      <th></th>\n",
              "      <th>0</th>\n",
              "      <th>1</th>\n",
              "      <th>2</th>\n",
              "      <th>3</th>\n",
              "      <th>4</th>\n",
              "      <th>5</th>\n",
              "      <th>6</th>\n",
              "      <th>7</th>\n",
              "      <th>8</th>\n",
              "      <th>9</th>\n",
              "      <th>10</th>\n",
              "      <th>11</th>\n",
              "      <th>12</th>\n",
              "      <th>y_col</th>\n",
              "    </tr>\n",
              "  </thead>\n",
              "  <tbody>\n",
              "    <tr>\n",
              "      <th>0</th>\n",
              "      <td>14.23</td>\n",
              "      <td>1.71</td>\n",
              "      <td>2.43</td>\n",
              "      <td>15.6</td>\n",
              "      <td>127.0</td>\n",
              "      <td>2.80</td>\n",
              "      <td>3.06</td>\n",
              "      <td>0.28</td>\n",
              "      <td>2.29</td>\n",
              "      <td>5.64</td>\n",
              "      <td>1.04</td>\n",
              "      <td>3.92</td>\n",
              "      <td>1065.0</td>\n",
              "      <td>0</td>\n",
              "    </tr>\n",
              "    <tr>\n",
              "      <th>1</th>\n",
              "      <td>13.20</td>\n",
              "      <td>1.78</td>\n",
              "      <td>2.14</td>\n",
              "      <td>11.2</td>\n",
              "      <td>100.0</td>\n",
              "      <td>2.65</td>\n",
              "      <td>2.76</td>\n",
              "      <td>0.26</td>\n",
              "      <td>1.28</td>\n",
              "      <td>4.38</td>\n",
              "      <td>1.05</td>\n",
              "      <td>3.40</td>\n",
              "      <td>1050.0</td>\n",
              "      <td>0</td>\n",
              "    </tr>\n",
              "    <tr>\n",
              "      <th>2</th>\n",
              "      <td>13.16</td>\n",
              "      <td>2.36</td>\n",
              "      <td>2.67</td>\n",
              "      <td>18.6</td>\n",
              "      <td>101.0</td>\n",
              "      <td>2.80</td>\n",
              "      <td>3.24</td>\n",
              "      <td>0.30</td>\n",
              "      <td>2.81</td>\n",
              "      <td>5.68</td>\n",
              "      <td>1.03</td>\n",
              "      <td>3.17</td>\n",
              "      <td>1185.0</td>\n",
              "      <td>0</td>\n",
              "    </tr>\n",
              "    <tr>\n",
              "      <th>3</th>\n",
              "      <td>14.37</td>\n",
              "      <td>1.95</td>\n",
              "      <td>2.50</td>\n",
              "      <td>16.8</td>\n",
              "      <td>113.0</td>\n",
              "      <td>3.85</td>\n",
              "      <td>3.49</td>\n",
              "      <td>0.24</td>\n",
              "      <td>2.18</td>\n",
              "      <td>7.80</td>\n",
              "      <td>0.86</td>\n",
              "      <td>3.45</td>\n",
              "      <td>1480.0</td>\n",
              "      <td>0</td>\n",
              "    </tr>\n",
              "  </tbody>\n",
              "</table>\n",
              "</div>"
            ],
            "text/plain": [
              "       0     1     2     3      4     5  ...     8     9    10    11      12  y_col\n",
              "0  14.23  1.71  2.43  15.6  127.0  2.80  ...  2.29  5.64  1.04  3.92  1065.0      0\n",
              "1  13.20  1.78  2.14  11.2  100.0  2.65  ...  1.28  4.38  1.05  3.40  1050.0      0\n",
              "2  13.16  2.36  2.67  18.6  101.0  2.80  ...  2.81  5.68  1.03  3.17  1185.0      0\n",
              "3  14.37  1.95  2.50  16.8  113.0  3.85  ...  2.18  7.80  0.86  3.45  1480.0      0\n",
              "\n",
              "[4 rows x 14 columns]"
            ]
          },
          "metadata": {
            "tags": []
          },
          "execution_count": 10
        }
      ]
    },
    {
      "cell_type": "code",
      "metadata": {
        "colab": {
          "base_uri": "https://localhost:8080/"
        },
        "id": "skCtitMenzmE",
        "outputId": "c5245a76-df4e-4f89-9ae9-15545cf46dcf"
      },
      "source": [
        "# x_data = wine['data']\n",
        "# x_data.shape\n",
        "\n",
        "dfnpx = df_wine.iloc[:,[0,1,2,3,4,5,6,7,8,9,10,11,12]].to_numpy()\n",
        "#dfnpx = df_wine.drop('y_col',axis=1).to_numpy()\n",
        "dfnpx.shape"
      ],
      "execution_count": 11,
      "outputs": [
        {
          "output_type": "execute_result",
          "data": {
            "text/plain": [
              "(178, 13)"
            ]
          },
          "metadata": {
            "tags": []
          },
          "execution_count": 11
        }
      ]
    },
    {
      "cell_type": "code",
      "metadata": {
        "colab": {
          "base_uri": "https://localhost:8080/"
        },
        "id": "oFENczaw1t1M",
        "outputId": "68915cc4-8bca-4ac2-ef44-bcd5e5cf68bd"
      },
      "source": [
        "dfnpy = df_wine.loc[:,'y_col']\n",
        "dfnpy"
      ],
      "execution_count": 12,
      "outputs": [
        {
          "output_type": "execute_result",
          "data": {
            "text/plain": [
              "0      0\n",
              "1      0\n",
              "2      0\n",
              "3      0\n",
              "4      0\n",
              "      ..\n",
              "173    2\n",
              "174    2\n",
              "175    2\n",
              "176    2\n",
              "177    2\n",
              "Name: y_col, Length: 178, dtype: int64"
            ]
          },
          "metadata": {
            "tags": []
          },
          "execution_count": 12
        }
      ]
    },
    {
      "cell_type": "code",
      "metadata": {
        "id": "bB1XgXnxrBxm"
      },
      "source": [
        "import numpy as np"
      ],
      "execution_count": 13,
      "outputs": []
    },
    {
      "cell_type": "code",
      "metadata": {
        "colab": {
          "base_uri": "https://localhost:8080/"
        },
        "id": "9qJ0mXXOoRXN",
        "outputId": "5a47cddd-6fe3-414a-b690-b8788154c62f"
      },
      "source": [
        "# y_data\n",
        "# y_data, np.unique(y_data)\n",
        "dfnpy, np.unique(dfnpy)"
      ],
      "execution_count": 14,
      "outputs": [
        {
          "output_type": "execute_result",
          "data": {
            "text/plain": [
              "(0      0\n",
              " 1      0\n",
              " 2      0\n",
              " 3      0\n",
              " 4      0\n",
              "       ..\n",
              " 173    2\n",
              " 174    2\n",
              " 175    2\n",
              " 176    2\n",
              " 177    2\n",
              " Name: y_col, Length: 178, dtype: int64, array([0, 1, 2]))"
            ]
          },
          "metadata": {
            "tags": []
          },
          "execution_count": 14
        }
      ]
    },
    {
      "cell_type": "code",
      "metadata": {
        "id": "YhvVeYD4oYw0"
      },
      "source": [
        "import tensorflow as tf"
      ],
      "execution_count": 15,
      "outputs": []
    },
    {
      "cell_type": "code",
      "metadata": {
        "colab": {
          "base_uri": "https://localhost:8080/"
        },
        "id": "yxwShj6VolTj",
        "outputId": "e396a2bf-c283-4f48-a8d5-c4b9fcfec61b"
      },
      "source": [
        "model = tf.keras.Sequential()\n",
        "\n",
        "model.add(tf.keras.Input(shape=(13,))) # input layer \n",
        "\n",
        "model.add(tf.keras.layers.Dense(64, activation='relu')) # hidden layer\n",
        "model.add(tf.keras.layers.Dense(64, activation='relu')) # hidden layer\n",
        "\n",
        "model.add(tf.keras.layers.Dense(3, activation='softmax')) # output layer\n",
        "\n",
        "model.compile(optimizer='adam', loss = 'sparse_categorical_crossentropy',metrics=['acc'])"
      ],
      "execution_count": 16,
      "outputs": [
        {
          "output_type": "stream",
          "text": [
            "WARNING:tensorflow:Please add `keras.layers.InputLayer` instead of `keras.Input` to Sequential model. `keras.Input` is intended to be used by Functional model.\n"
          ],
          "name": "stdout"
        }
      ]
    },
    {
      "cell_type": "code",
      "metadata": {
        "colab": {
          "base_uri": "https://localhost:8080/"
        },
        "id": "oibP2GXzoswb",
        "outputId": "8376a8c9-a4c7-48d3-9ce9-a14333c20393"
      },
      "source": [
        "model.summary()"
      ],
      "execution_count": 17,
      "outputs": [
        {
          "output_type": "stream",
          "text": [
            "Model: \"sequential\"\n",
            "_________________________________________________________________\n",
            "Layer (type)                 Output Shape              Param #   \n",
            "=================================================================\n",
            "dense (Dense)                (None, 64)                896       \n",
            "_________________________________________________________________\n",
            "dense_1 (Dense)              (None, 64)                4160      \n",
            "_________________________________________________________________\n",
            "dense_2 (Dense)              (None, 3)                 195       \n",
            "=================================================================\n",
            "Total params: 5,251\n",
            "Trainable params: 5,251\n",
            "Non-trainable params: 0\n",
            "_________________________________________________________________\n"
          ],
          "name": "stdout"
        }
      ]
    },
    {
      "cell_type": "code",
      "metadata": {
        "colab": {
          "base_uri": "https://localhost:8080/"
        },
        "id": "BOEUQZGaouvz",
        "outputId": "7dd4d115-eed7-4cff-b4fa-baf91f89dc6f"
      },
      "source": [
        "model.fit(dfnpx, dfnpy, epochs=50, validation_split=0.3)"
      ],
      "execution_count": 18,
      "outputs": [
        {
          "output_type": "stream",
          "text": [
            "Epoch 1/50\n",
            "4/4 [==============================] - 1s 63ms/step - loss: 223.9878 - acc: 0.4194 - val_loss: 0.4822 - val_acc: 0.8889\n",
            "Epoch 2/50\n",
            "4/4 [==============================] - 0s 8ms/step - loss: 158.6598 - acc: 0.1855 - val_loss: 9.2015 - val_acc: 0.1111\n",
            "Epoch 3/50\n",
            "4/4 [==============================] - 0s 11ms/step - loss: 96.0259 - acc: 0.5242 - val_loss: 2.1362 - val_acc: 0.1111\n",
            "Epoch 4/50\n",
            "4/4 [==============================] - 0s 8ms/step - loss: 35.0275 - acc: 0.1774 - val_loss: 6.4503 - val_acc: 0.0000e+00\n",
            "Epoch 5/50\n",
            "4/4 [==============================] - 0s 9ms/step - loss: 10.4022 - acc: 0.4355 - val_loss: 57.2656 - val_acc: 0.0000e+00\n",
            "Epoch 6/50\n",
            "4/4 [==============================] - 0s 8ms/step - loss: 17.6420 - acc: 0.4758 - val_loss: 79.3170 - val_acc: 0.0000e+00\n",
            "Epoch 7/50\n",
            "4/4 [==============================] - 0s 50ms/step - loss: 11.2841 - acc: 0.4758 - val_loss: 82.4853 - val_acc: 0.0000e+00\n",
            "Epoch 8/50\n",
            "4/4 [==============================] - 0s 9ms/step - loss: 6.3667 - acc: 0.5242 - val_loss: 96.7073 - val_acc: 0.1111\n",
            "Epoch 9/50\n",
            "4/4 [==============================] - 0s 8ms/step - loss: 3.9942 - acc: 0.4516 - val_loss: 103.1479 - val_acc: 0.0000e+00\n",
            "Epoch 10/50\n",
            "4/4 [==============================] - 0s 8ms/step - loss: 6.2383 - acc: 0.4758 - val_loss: 107.3301 - val_acc: 0.0000e+00\n",
            "Epoch 11/50\n",
            "4/4 [==============================] - 0s 8ms/step - loss: 2.5474 - acc: 0.5645 - val_loss: 109.6605 - val_acc: 0.1111\n",
            "Epoch 12/50\n",
            "4/4 [==============================] - 0s 8ms/step - loss: 2.6263 - acc: 0.5645 - val_loss: 109.6625 - val_acc: 0.0000e+00\n",
            "Epoch 13/50\n",
            "4/4 [==============================] - 0s 9ms/step - loss: 2.6345 - acc: 0.4839 - val_loss: 109.9138 - val_acc: 0.0370\n",
            "Epoch 14/50\n",
            "4/4 [==============================] - 0s 11ms/step - loss: 0.9100 - acc: 0.6371 - val_loss: 111.6703 - val_acc: 0.1111\n",
            "Epoch 15/50\n",
            "4/4 [==============================] - 0s 10ms/step - loss: 0.6129 - acc: 0.7419 - val_loss: 111.1160 - val_acc: 0.0926\n",
            "Epoch 16/50\n",
            "4/4 [==============================] - 0s 10ms/step - loss: 0.4698 - acc: 0.7984 - val_loss: 113.1865 - val_acc: 0.1111\n",
            "Epoch 17/50\n",
            "4/4 [==============================] - 0s 16ms/step - loss: 0.3478 - acc: 0.8468 - val_loss: 112.0447 - val_acc: 0.0926\n",
            "Epoch 18/50\n",
            "4/4 [==============================] - 0s 9ms/step - loss: 0.4489 - acc: 0.8387 - val_loss: 112.9501 - val_acc: 0.1111\n",
            "Epoch 19/50\n",
            "4/4 [==============================] - 0s 9ms/step - loss: 0.3390 - acc: 0.8710 - val_loss: 113.5653 - val_acc: 0.1111\n",
            "Epoch 20/50\n",
            "4/4 [==============================] - 0s 10ms/step - loss: 0.2806 - acc: 0.8952 - val_loss: 112.6982 - val_acc: 0.0926\n",
            "Epoch 21/50\n",
            "4/4 [==============================] - 0s 9ms/step - loss: 0.3031 - acc: 0.8790 - val_loss: 113.8590 - val_acc: 0.1111\n",
            "Epoch 22/50\n",
            "4/4 [==============================] - 0s 9ms/step - loss: 0.2611 - acc: 0.9113 - val_loss: 112.7779 - val_acc: 0.1111\n",
            "Epoch 23/50\n",
            "4/4 [==============================] - 0s 8ms/step - loss: 0.2790 - acc: 0.8387 - val_loss: 113.1525 - val_acc: 0.1111\n",
            "Epoch 24/50\n",
            "4/4 [==============================] - 0s 9ms/step - loss: 0.2321 - acc: 0.9113 - val_loss: 112.9618 - val_acc: 0.1111\n",
            "Epoch 25/50\n",
            "4/4 [==============================] - 0s 9ms/step - loss: 0.2363 - acc: 0.8710 - val_loss: 112.8883 - val_acc: 0.1111\n",
            "Epoch 26/50\n",
            "4/4 [==============================] - 0s 14ms/step - loss: 0.2530 - acc: 0.9113 - val_loss: 112.9004 - val_acc: 0.1111\n",
            "Epoch 27/50\n",
            "4/4 [==============================] - 0s 9ms/step - loss: 0.2776 - acc: 0.8548 - val_loss: 112.7781 - val_acc: 0.1111\n",
            "Epoch 28/50\n",
            "4/4 [==============================] - 0s 10ms/step - loss: 0.2319 - acc: 0.9032 - val_loss: 113.2516 - val_acc: 0.1111\n",
            "Epoch 29/50\n",
            "4/4 [==============================] - 0s 11ms/step - loss: 0.2434 - acc: 0.8952 - val_loss: 112.7431 - val_acc: 0.1111\n",
            "Epoch 30/50\n",
            "4/4 [==============================] - 0s 10ms/step - loss: 0.2701 - acc: 0.8952 - val_loss: 112.8836 - val_acc: 0.1111\n",
            "Epoch 31/50\n",
            "4/4 [==============================] - 0s 9ms/step - loss: 0.2560 - acc: 0.8629 - val_loss: 112.9641 - val_acc: 0.1111\n",
            "Epoch 32/50\n",
            "4/4 [==============================] - 0s 9ms/step - loss: 0.2356 - acc: 0.8952 - val_loss: 112.9692 - val_acc: 0.1111\n",
            "Epoch 33/50\n",
            "4/4 [==============================] - 0s 11ms/step - loss: 0.2294 - acc: 0.8710 - val_loss: 112.8882 - val_acc: 0.1111\n",
            "Epoch 34/50\n",
            "4/4 [==============================] - 0s 11ms/step - loss: 0.2270 - acc: 0.8952 - val_loss: 113.0159 - val_acc: 0.1111\n",
            "Epoch 35/50\n",
            "4/4 [==============================] - 0s 10ms/step - loss: 0.2562 - acc: 0.8548 - val_loss: 113.0069 - val_acc: 0.1111\n",
            "Epoch 36/50\n",
            "4/4 [==============================] - 0s 8ms/step - loss: 0.2601 - acc: 0.8952 - val_loss: 113.0844 - val_acc: 0.1111\n",
            "Epoch 37/50\n",
            "4/4 [==============================] - 0s 10ms/step - loss: 0.2204 - acc: 0.8710 - val_loss: 112.7568 - val_acc: 0.1111\n",
            "Epoch 38/50\n",
            "4/4 [==============================] - 0s 9ms/step - loss: 0.2508 - acc: 0.9032 - val_loss: 113.4738 - val_acc: 0.1111\n",
            "Epoch 39/50\n",
            "4/4 [==============================] - 0s 10ms/step - loss: 0.2124 - acc: 0.8790 - val_loss: 112.6100 - val_acc: 0.1111\n",
            "Epoch 40/50\n",
            "4/4 [==============================] - 0s 10ms/step - loss: 0.2670 - acc: 0.8548 - val_loss: 113.7163 - val_acc: 0.1111\n",
            "Epoch 41/50\n",
            "4/4 [==============================] - 0s 9ms/step - loss: 0.2652 - acc: 0.8790 - val_loss: 112.5699 - val_acc: 0.1111\n",
            "Epoch 42/50\n",
            "4/4 [==============================] - 0s 10ms/step - loss: 0.2544 - acc: 0.8871 - val_loss: 113.1320 - val_acc: 0.1111\n",
            "Epoch 43/50\n",
            "4/4 [==============================] - 0s 9ms/step - loss: 0.2346 - acc: 0.8871 - val_loss: 113.1256 - val_acc: 0.1111\n",
            "Epoch 44/50\n",
            "4/4 [==============================] - 0s 12ms/step - loss: 0.2591 - acc: 0.9194 - val_loss: 112.8154 - val_acc: 0.1111\n",
            "Epoch 45/50\n",
            "4/4 [==============================] - 0s 10ms/step - loss: 0.2482 - acc: 0.8710 - val_loss: 112.9925 - val_acc: 0.1111\n",
            "Epoch 46/50\n",
            "4/4 [==============================] - 0s 10ms/step - loss: 0.2384 - acc: 0.9194 - val_loss: 112.9531 - val_acc: 0.1111\n",
            "Epoch 47/50\n",
            "4/4 [==============================] - 0s 9ms/step - loss: 0.2321 - acc: 0.8629 - val_loss: 112.9210 - val_acc: 0.1111\n",
            "Epoch 48/50\n",
            "4/4 [==============================] - 0s 9ms/step - loss: 0.2210 - acc: 0.9194 - val_loss: 112.8476 - val_acc: 0.1111\n",
            "Epoch 49/50\n",
            "4/4 [==============================] - 0s 9ms/step - loss: 0.2437 - acc: 0.8548 - val_loss: 113.0876 - val_acc: 0.1111\n",
            "Epoch 50/50\n",
            "4/4 [==============================] - 0s 8ms/step - loss: 0.2582 - acc: 0.9032 - val_loss: 112.6023 - val_acc: 0.1111\n"
          ],
          "name": "stdout"
        },
        {
          "output_type": "execute_result",
          "data": {
            "text/plain": [
              "<tensorflow.python.keras.callbacks.History at 0x7f4bf8917750>"
            ]
          },
          "metadata": {
            "tags": []
          },
          "execution_count": 18
        }
      ]
    },
    {
      "cell_type": "markdown",
      "metadata": {
        "id": "4ajuLHA_sA4Z"
      },
      "source": [
        "# Evaluation"
      ]
    },
    {
      "cell_type": "code",
      "metadata": {
        "colab": {
          "base_uri": "https://localhost:8080/"
        },
        "id": "6vOk-Nupo0P0",
        "outputId": "13300680-1e1a-4344-d2cb-ef1e77c57376"
      },
      "source": [
        "model.evaluate(dfnpx, dfnpy)"
      ],
      "execution_count": 19,
      "outputs": [
        {
          "output_type": "stream",
          "text": [
            "6/6 [==============================] - 0s 2ms/step - loss: 34.3256 - acc: 0.6348\n"
          ],
          "name": "stdout"
        },
        {
          "output_type": "execute_result",
          "data": {
            "text/plain": [
              "[34.325618743896484, 0.6348314881324768]"
            ]
          },
          "metadata": {
            "tags": []
          },
          "execution_count": 19
        }
      ]
    },
    {
      "cell_type": "markdown",
      "metadata": {
        "id": "L9BEAF7fsI-s"
      },
      "source": [
        "# Service"
      ]
    },
    {
      "cell_type": "code",
      "metadata": {
        "colab": {
          "base_uri": "https://localhost:8080/"
        },
        "id": "q_6IN-j5sHlB",
        "outputId": "808f732f-5407-43ed-c59f-dff529fd6da3"
      },
      "source": [
        "dfnpx[25], dfnpy[25]"
      ],
      "execution_count": 20,
      "outputs": [
        {
          "output_type": "execute_result",
          "data": {
            "text/plain": [
              "(array([1.305e+01, 2.050e+00, 3.220e+00, 2.500e+01, 1.240e+02, 2.630e+00,\n",
              "        2.680e+00, 4.700e-01, 1.920e+00, 3.580e+00, 1.130e+00, 3.200e+00,\n",
              "        8.300e+02]), 0)"
            ]
          },
          "metadata": {
            "tags": []
          },
          "execution_count": 20
        }
      ]
    },
    {
      "cell_type": "code",
      "metadata": {
        "colab": {
          "base_uri": "https://localhost:8080/"
        },
        "id": "fughYAtfsO58",
        "outputId": "c83646ed-2037-45a3-aee5-29b200c3bada"
      },
      "source": [
        "pred = model.predict([[1.305e+01, 2.050e+00, 3.220e+00, 2.500e+01, 1.240e+02, 2.630e+00,\n",
        "        2.680e+00, 4.700e-01, 1.920e+00, 3.580e+00, 1.130e+00, 3.200e+00,\n",
        "        8.300e+02]])\n",
        "pred"
      ],
      "execution_count": 21,
      "outputs": [
        {
          "output_type": "execute_result",
          "data": {
            "text/plain": [
              "array([[0.55189264, 0.4481074 , 0.        ]], dtype=float32)"
            ]
          },
          "metadata": {
            "tags": []
          },
          "execution_count": 21
        }
      ]
    },
    {
      "cell_type": "code",
      "metadata": {
        "colab": {
          "base_uri": "https://localhost:8080/"
        },
        "id": "nEHn9cHesV6M",
        "outputId": "333e8ba6-962b-4258-8ed9-69a8f3264a69"
      },
      "source": [
        "np.argmax(pred)"
      ],
      "execution_count": 22,
      "outputs": [
        {
          "output_type": "execute_result",
          "data": {
            "text/plain": [
              "0"
            ]
          },
          "metadata": {
            "tags": []
          },
          "execution_count": 22
        }
      ]
    },
    {
      "cell_type": "code",
      "metadata": {
        "id": "eMXQW5fcsXoE"
      },
      "source": [
        ""
      ],
      "execution_count": 22,
      "outputs": []
    }
  ]
}
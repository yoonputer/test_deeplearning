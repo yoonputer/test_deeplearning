{
  "nbformat": 4,
  "nbformat_minor": 0,
  "metadata": {
    "colab": {
      "name": "iris_classification.ipynb",
      "provenance": [],
      "authorship_tag": "ABX9TyOXfbum9e+uo4K9kJcybyl7",
      "include_colab_link": true
    },
    "kernelspec": {
      "name": "python3",
      "display_name": "Python 3"
    },
    "language_info": {
      "name": "python"
    }
  },
  "cells": [
    {
      "cell_type": "markdown",
      "metadata": {
        "id": "view-in-github",
        "colab_type": "text"
      },
      "source": [
        "<a href=\"https://colab.research.google.com/github/yoonputer/test_deeplearning/blob/master/iris_classification.ipynb\" target=\"_parent\"><img src=\"https://colab.research.google.com/assets/colab-badge.svg\" alt=\"Open In Colab\"/></a>"
      ]
    },
    {
      "cell_type": "code",
      "metadata": {
        "id": "s9OtpRow-5Me"
      },
      "source": [
        "from sklearn import datasets"
      ],
      "execution_count": 1,
      "outputs": []
    },
    {
      "cell_type": "code",
      "metadata": {
        "colab": {
          "base_uri": "https://localhost:8080/"
        },
        "id": "kss7OalW_fcq",
        "outputId": "b6bbb2ff-3866-4089-c229-5d26d26f55bd"
      },
      "source": [
        "iris = datasets.load_iris()\n",
        "iris.feature_names"
      ],
      "execution_count": 4,
      "outputs": [
        {
          "output_type": "execute_result",
          "data": {
            "text/plain": [
              "['sepal length (cm)',\n",
              " 'sepal width (cm)',\n",
              " 'petal length (cm)',\n",
              " 'petal width (cm)']"
            ]
          },
          "metadata": {
            "tags": []
          },
          "execution_count": 4
        }
      ]
    },
    {
      "cell_type": "code",
      "metadata": {
        "colab": {
          "base_uri": "https://localhost:8080/"
        },
        "id": "wfn08cKU_1M8",
        "outputId": "797f392a-915a-459e-f643-2205a639b716"
      },
      "source": [
        "import pandas as pd\n",
        "df_iris = pd.DataFrame(iris.data)\n",
        "df_iris.info()"
      ],
      "execution_count": 6,
      "outputs": [
        {
          "output_type": "stream",
          "text": [
            "<class 'pandas.core.frame.DataFrame'>\n",
            "RangeIndex: 150 entries, 0 to 149\n",
            "Data columns (total 4 columns):\n",
            " #   Column  Non-Null Count  Dtype  \n",
            "---  ------  --------------  -----  \n",
            " 0   0       150 non-null    float64\n",
            " 1   1       150 non-null    float64\n",
            " 2   2       150 non-null    float64\n",
            " 3   3       150 non-null    float64\n",
            "dtypes: float64(4)\n",
            "memory usage: 4.8 KB\n"
          ],
          "name": "stdout"
        }
      ]
    },
    {
      "cell_type": "code",
      "metadata": {
        "id": "UMXKkWowAUpM"
      },
      "source": [
        "import sqlite3\n",
        "connect = sqlite3.connect('./db.sqlite3')\n",
        "df_iris.to_sql('iris_resource', connect, if_exists='append', index=False)"
      ],
      "execution_count": 8,
      "outputs": []
    },
    {
      "cell_type": "code",
      "metadata": {
        "colab": {
          "base_uri": "https://localhost:8080/",
          "height": 173
        },
        "id": "64OFU_TcCWEZ",
        "outputId": "af716664-ee85-4ec3-b528-2aff4e841fe0"
      },
      "source": [
        "df_load = pd.read_sql_query('select * from iris_resource',connect)\n",
        "df_load.head(4)"
      ],
      "execution_count": 9,
      "outputs": [
        {
          "output_type": "execute_result",
          "data": {
            "text/html": [
              "<div>\n",
              "<style scoped>\n",
              "    .dataframe tbody tr th:only-of-type {\n",
              "        vertical-align: middle;\n",
              "    }\n",
              "\n",
              "    .dataframe tbody tr th {\n",
              "        vertical-align: top;\n",
              "    }\n",
              "\n",
              "    .dataframe thead th {\n",
              "        text-align: right;\n",
              "    }\n",
              "</style>\n",
              "<table border=\"1\" class=\"dataframe\">\n",
              "  <thead>\n",
              "    <tr style=\"text-align: right;\">\n",
              "      <th></th>\n",
              "      <th>0</th>\n",
              "      <th>1</th>\n",
              "      <th>2</th>\n",
              "      <th>3</th>\n",
              "    </tr>\n",
              "  </thead>\n",
              "  <tbody>\n",
              "    <tr>\n",
              "      <th>0</th>\n",
              "      <td>5.1</td>\n",
              "      <td>3.5</td>\n",
              "      <td>1.4</td>\n",
              "      <td>0.2</td>\n",
              "    </tr>\n",
              "    <tr>\n",
              "      <th>1</th>\n",
              "      <td>4.9</td>\n",
              "      <td>3.0</td>\n",
              "      <td>1.4</td>\n",
              "      <td>0.2</td>\n",
              "    </tr>\n",
              "    <tr>\n",
              "      <th>2</th>\n",
              "      <td>4.7</td>\n",
              "      <td>3.2</td>\n",
              "      <td>1.3</td>\n",
              "      <td>0.2</td>\n",
              "    </tr>\n",
              "    <tr>\n",
              "      <th>3</th>\n",
              "      <td>4.6</td>\n",
              "      <td>3.1</td>\n",
              "      <td>1.5</td>\n",
              "      <td>0.2</td>\n",
              "    </tr>\n",
              "  </tbody>\n",
              "</table>\n",
              "</div>"
            ],
            "text/plain": [
              "     0    1    2    3\n",
              "0  5.1  3.5  1.4  0.2\n",
              "1  4.9  3.0  1.4  0.2\n",
              "2  4.7  3.2  1.3  0.2\n",
              "3  4.6  3.1  1.5  0.2"
            ]
          },
          "metadata": {
            "tags": []
          },
          "execution_count": 9
        }
      ]
    },
    {
      "cell_type": "code",
      "metadata": {
        "colab": {
          "base_uri": "https://localhost:8080/"
        },
        "id": "d1vJS0wJDFfR",
        "outputId": "c23b36bf-9338-449b-e16f-83124a03675e"
      },
      "source": [
        "x_data = df_load.to_numpy()\n",
        "x_data.shape"
      ],
      "execution_count": 10,
      "outputs": [
        {
          "output_type": "execute_result",
          "data": {
            "text/plain": [
              "(150, 4)"
            ]
          },
          "metadata": {
            "tags": []
          },
          "execution_count": 10
        }
      ]
    },
    {
      "cell_type": "code",
      "metadata": {
        "id": "HsGT9zO6VuMD"
      },
      "source": [
        "import numpy as np"
      ],
      "execution_count": 13,
      "outputs": []
    },
    {
      "cell_type": "code",
      "metadata": {
        "colab": {
          "base_uri": "https://localhost:8080/"
        },
        "id": "4DlRcYdCDuow",
        "outputId": "7fbcdf35-2a3d-41b7-acb9-2f33f94738e8"
      },
      "source": [
        "y_data = iris.target\n",
        "y_data, np.unique(y_data)"
      ],
      "execution_count": 14,
      "outputs": [
        {
          "output_type": "execute_result",
          "data": {
            "text/plain": [
              "(array([0, 0, 0, 0, 0, 0, 0, 0, 0, 0, 0, 0, 0, 0, 0, 0, 0, 0, 0, 0, 0, 0,\n",
              "        0, 0, 0, 0, 0, 0, 0, 0, 0, 0, 0, 0, 0, 0, 0, 0, 0, 0, 0, 0, 0, 0,\n",
              "        0, 0, 0, 0, 0, 0, 1, 1, 1, 1, 1, 1, 1, 1, 1, 1, 1, 1, 1, 1, 1, 1,\n",
              "        1, 1, 1, 1, 1, 1, 1, 1, 1, 1, 1, 1, 1, 1, 1, 1, 1, 1, 1, 1, 1, 1,\n",
              "        1, 1, 1, 1, 1, 1, 1, 1, 1, 1, 1, 1, 2, 2, 2, 2, 2, 2, 2, 2, 2, 2,\n",
              "        2, 2, 2, 2, 2, 2, 2, 2, 2, 2, 2, 2, 2, 2, 2, 2, 2, 2, 2, 2, 2, 2,\n",
              "        2, 2, 2, 2, 2, 2, 2, 2, 2, 2, 2, 2, 2, 2, 2, 2, 2, 2]),\n",
              " array([0, 1, 2]))"
            ]
          },
          "metadata": {
            "tags": []
          },
          "execution_count": 14
        }
      ]
    },
    {
      "cell_type": "code",
      "metadata": {
        "id": "Si8Geh65EWvu"
      },
      "source": [
        "import tensorflow as tf"
      ],
      "execution_count": 12,
      "outputs": []
    },
    {
      "cell_type": "code",
      "metadata": {
        "colab": {
          "base_uri": "https://localhost:8080/"
        },
        "id": "htL9LvD9DzVu",
        "outputId": "6d1b72ca-07a8-4411-c745-fcd53f8d3036"
      },
      "source": [
        "model = tf.keras.Sequential()\n",
        "\n",
        "model.add(tf.keras.Input(shape=(4,))) # input layer \n",
        "\n",
        "model.add(tf.keras.layers.Dense(64, activation='relu')) # hidden layer\n",
        "model.add(tf.keras.layers.Dense(64, activation='relu')) # hidden layer\n",
        "\n",
        "model.add(tf.keras.layers.Dense(3, activation='softmax')) # output layer\n",
        "\n",
        "model.compile(optimizer='adam', loss='mse',metrics=['acc']) #"
      ],
      "execution_count": 19,
      "outputs": [
        {
          "output_type": "stream",
          "text": [
            "WARNING:tensorflow:Please add `keras.layers.InputLayer` instead of `keras.Input` to Sequential model. `keras.Input` is intended to be used by Functional model.\n"
          ],
          "name": "stdout"
        }
      ]
    },
    {
      "cell_type": "code",
      "metadata": {
        "colab": {
          "base_uri": "https://localhost:8080/"
        },
        "id": "a2v_d-_fYmdI",
        "outputId": "b3dfb09b-c2ff-4afc-8c96-67005d72fb67"
      },
      "source": [
        "model.summary()"
      ],
      "execution_count": 20,
      "outputs": [
        {
          "output_type": "stream",
          "text": [
            "Model: \"sequential_2\"\n",
            "_________________________________________________________________\n",
            "Layer (type)                 Output Shape              Param #   \n",
            "=================================================================\n",
            "dense_3 (Dense)              (None, 64)                320       \n",
            "_________________________________________________________________\n",
            "dense_4 (Dense)              (None, 64)                4160      \n",
            "_________________________________________________________________\n",
            "dense_5 (Dense)              (None, 3)                 195       \n",
            "=================================================================\n",
            "Total params: 4,675\n",
            "Trainable params: 4,675\n",
            "Non-trainable params: 0\n",
            "_________________________________________________________________\n"
          ],
          "name": "stdout"
        }
      ]
    },
    {
      "cell_type": "code",
      "metadata": {
        "colab": {
          "base_uri": "https://localhost:8080/"
        },
        "id": "OsYxJU3HEugk",
        "outputId": "8664263e-5d49-443e-cc27-aef2bace5aed"
      },
      "source": [
        "model.fit(x_data, y_data, epochs=50, validation_split=0.3) # 학습"
      ],
      "execution_count": 21,
      "outputs": [
        {
          "output_type": "stream",
          "text": [
            "Epoch 1/50\n",
            "4/4 [==============================] - 1s 57ms/step - loss: 0.4285 - acc: 0.4381 - val_loss: 2.7938 - val_acc: 0.6222\n",
            "Epoch 2/50\n",
            "4/4 [==============================] - 0s 10ms/step - loss: 0.4086 - acc: 0.0571 - val_loss: 2.7780 - val_acc: 0.8222\n",
            "Epoch 3/50\n",
            "4/4 [==============================] - 0s 9ms/step - loss: 0.3984 - acc: 0.3238 - val_loss: 2.7897 - val_acc: 0.0000e+00\n",
            "Epoch 4/50\n",
            "4/4 [==============================] - 0s 9ms/step - loss: 0.4018 - acc: 0.4762 - val_loss: 2.7882 - val_acc: 0.0000e+00\n",
            "Epoch 5/50\n",
            "4/4 [==============================] - 0s 9ms/step - loss: 0.3995 - acc: 0.4762 - val_loss: 2.7795 - val_acc: 0.0444\n",
            "Epoch 6/50\n",
            "4/4 [==============================] - 0s 9ms/step - loss: 0.3976 - acc: 0.2476 - val_loss: 2.7796 - val_acc: 1.0000\n",
            "Epoch 7/50\n",
            "4/4 [==============================] - 0s 10ms/step - loss: 0.3979 - acc: 0.0762 - val_loss: 2.7787 - val_acc: 0.9778\n",
            "Epoch 8/50\n",
            "4/4 [==============================] - 0s 11ms/step - loss: 0.3974 - acc: 0.4000 - val_loss: 2.7781 - val_acc: 0.0444\n",
            "Epoch 9/50\n",
            "4/4 [==============================] - 0s 9ms/step - loss: 0.3974 - acc: 0.4762 - val_loss: 2.7780 - val_acc: 0.0000e+00\n",
            "Epoch 10/50\n",
            "4/4 [==============================] - 0s 8ms/step - loss: 0.3972 - acc: 0.3143 - val_loss: 2.7779 - val_acc: 0.6667\n",
            "Epoch 11/50\n",
            "4/4 [==============================] - 0s 9ms/step - loss: 0.3970 - acc: 0.2095 - val_loss: 2.7785 - val_acc: 1.0000\n",
            "Epoch 12/50\n",
            "4/4 [==============================] - 0s 13ms/step - loss: 0.3971 - acc: 0.0952 - val_loss: 2.7786 - val_acc: 1.0000\n",
            "Epoch 13/50\n",
            "4/4 [==============================] - 0s 10ms/step - loss: 0.3970 - acc: 0.1048 - val_loss: 2.7781 - val_acc: 0.9111\n",
            "Epoch 14/50\n",
            "4/4 [==============================] - 0s 9ms/step - loss: 0.3969 - acc: 0.3238 - val_loss: 2.7779 - val_acc: 0.4444\n",
            "Epoch 15/50\n",
            "4/4 [==============================] - 0s 10ms/step - loss: 0.3969 - acc: 0.1905 - val_loss: 2.7778 - val_acc: 0.3111\n",
            "Epoch 16/50\n",
            "4/4 [==============================] - 0s 9ms/step - loss: 0.3969 - acc: 0.3714 - val_loss: 2.7779 - val_acc: 0.7333\n",
            "Epoch 17/50\n",
            "4/4 [==============================] - 0s 9ms/step - loss: 0.3969 - acc: 0.2952 - val_loss: 2.7779 - val_acc: 0.8000\n",
            "Epoch 18/50\n",
            "4/4 [==============================] - 0s 9ms/step - loss: 0.3969 - acc: 0.2762 - val_loss: 2.7779 - val_acc: 0.6667\n",
            "Epoch 19/50\n",
            "4/4 [==============================] - 0s 10ms/step - loss: 0.3969 - acc: 0.3524 - val_loss: 2.7779 - val_acc: 0.4222\n",
            "Epoch 20/50\n",
            "4/4 [==============================] - 0s 10ms/step - loss: 0.3969 - acc: 0.4000 - val_loss: 2.7779 - val_acc: 0.6000\n",
            "Epoch 21/50\n",
            "4/4 [==============================] - 0s 9ms/step - loss: 0.3969 - acc: 0.2857 - val_loss: 2.7779 - val_acc: 0.8000\n",
            "Epoch 22/50\n",
            "4/4 [==============================] - 0s 10ms/step - loss: 0.3969 - acc: 0.3333 - val_loss: 2.7779 - val_acc: 0.8000\n",
            "Epoch 23/50\n",
            "4/4 [==============================] - 0s 8ms/step - loss: 0.3969 - acc: 0.3238 - val_loss: 2.7778 - val_acc: 0.6444\n",
            "Epoch 24/50\n",
            "4/4 [==============================] - 0s 8ms/step - loss: 0.3969 - acc: 0.2667 - val_loss: 2.7779 - val_acc: 0.6222\n",
            "Epoch 25/50\n",
            "4/4 [==============================] - 0s 11ms/step - loss: 0.3969 - acc: 0.2571 - val_loss: 2.7778 - val_acc: 0.6000\n",
            "Epoch 26/50\n",
            "4/4 [==============================] - 0s 9ms/step - loss: 0.3969 - acc: 0.2667 - val_loss: 2.7779 - val_acc: 0.7556\n",
            "Epoch 27/50\n",
            "4/4 [==============================] - 0s 10ms/step - loss: 0.3969 - acc: 0.2857 - val_loss: 2.7779 - val_acc: 0.7556\n",
            "Epoch 28/50\n",
            "4/4 [==============================] - 0s 9ms/step - loss: 0.3969 - acc: 0.2762 - val_loss: 2.7778 - val_acc: 0.6000\n",
            "Epoch 29/50\n",
            "4/4 [==============================] - 0s 8ms/step - loss: 0.3969 - acc: 0.2571 - val_loss: 2.7778 - val_acc: 0.5778\n",
            "Epoch 30/50\n",
            "4/4 [==============================] - 0s 12ms/step - loss: 0.3969 - acc: 0.2667 - val_loss: 2.7778 - val_acc: 0.5778\n",
            "Epoch 31/50\n",
            "4/4 [==============================] - 0s 11ms/step - loss: 0.3969 - acc: 0.2571 - val_loss: 2.7778 - val_acc: 0.6444\n",
            "Epoch 32/50\n",
            "4/4 [==============================] - 0s 14ms/step - loss: 0.3969 - acc: 0.2667 - val_loss: 2.7778 - val_acc: 0.5111\n",
            "Epoch 33/50\n",
            "4/4 [==============================] - 0s 10ms/step - loss: 0.3969 - acc: 0.2381 - val_loss: 2.7778 - val_acc: 0.4000\n",
            "Epoch 34/50\n",
            "4/4 [==============================] - 0s 11ms/step - loss: 0.3969 - acc: 0.2381 - val_loss: 2.7778 - val_acc: 0.3333\n",
            "Epoch 35/50\n",
            "4/4 [==============================] - 0s 8ms/step - loss: 0.3969 - acc: 0.2190 - val_loss: 2.7778 - val_acc: 0.5333\n",
            "Epoch 36/50\n",
            "4/4 [==============================] - 0s 9ms/step - loss: 0.3969 - acc: 0.2190 - val_loss: 2.7778 - val_acc: 0.3111\n",
            "Epoch 37/50\n",
            "4/4 [==============================] - 0s 10ms/step - loss: 0.3969 - acc: 0.2190 - val_loss: 2.7778 - val_acc: 0.2000\n",
            "Epoch 38/50\n",
            "4/4 [==============================] - 0s 10ms/step - loss: 0.3969 - acc: 0.2190 - val_loss: 2.7778 - val_acc: 0.2889\n",
            "Epoch 39/50\n",
            "4/4 [==============================] - 0s 11ms/step - loss: 0.3968 - acc: 0.2000 - val_loss: 2.7778 - val_acc: 0.3556\n",
            "Epoch 40/50\n",
            "4/4 [==============================] - 0s 11ms/step - loss: 0.3968 - acc: 0.1810 - val_loss: 2.7778 - val_acc: 0.2444\n",
            "Epoch 41/50\n",
            "4/4 [==============================] - 0s 10ms/step - loss: 0.3968 - acc: 0.2190 - val_loss: 2.7778 - val_acc: 0.2000\n",
            "Epoch 42/50\n",
            "4/4 [==============================] - 0s 11ms/step - loss: 0.3968 - acc: 0.1905 - val_loss: 2.7778 - val_acc: 0.2889\n",
            "Epoch 43/50\n",
            "4/4 [==============================] - 0s 11ms/step - loss: 0.3968 - acc: 0.2000 - val_loss: 2.7778 - val_acc: 0.2222\n",
            "Epoch 44/50\n",
            "4/4 [==============================] - 0s 14ms/step - loss: 0.3968 - acc: 0.2286 - val_loss: 2.7778 - val_acc: 0.1556\n",
            "Epoch 45/50\n",
            "4/4 [==============================] - 0s 10ms/step - loss: 0.3968 - acc: 0.2476 - val_loss: 2.7778 - val_acc: 0.1556\n",
            "Epoch 46/50\n",
            "4/4 [==============================] - 0s 11ms/step - loss: 0.3968 - acc: 0.2571 - val_loss: 2.7778 - val_acc: 0.2000\n",
            "Epoch 47/50\n",
            "4/4 [==============================] - 0s 9ms/step - loss: 0.3968 - acc: 0.2381 - val_loss: 2.7778 - val_acc: 0.1333\n",
            "Epoch 48/50\n",
            "4/4 [==============================] - 0s 12ms/step - loss: 0.3968 - acc: 0.2571 - val_loss: 2.7778 - val_acc: 0.1556\n",
            "Epoch 49/50\n",
            "4/4 [==============================] - 0s 11ms/step - loss: 0.3968 - acc: 0.2476 - val_loss: 2.7778 - val_acc: 0.1556\n",
            "Epoch 50/50\n",
            "4/4 [==============================] - 0s 11ms/step - loss: 0.3968 - acc: 0.2190 - val_loss: 2.7778 - val_acc: 0.1556\n"
          ],
          "name": "stdout"
        },
        {
          "output_type": "execute_result",
          "data": {
            "text/plain": [
              "<tensorflow.python.keras.callbacks.History at 0x7f19e2eb5d90>"
            ]
          },
          "metadata": {
            "tags": []
          },
          "execution_count": 21
        }
      ]
    },
    {
      "cell_type": "markdown",
      "metadata": {
        "id": "M9P6IhWPZ0QL"
      },
      "source": [
        "# Evaluation"
      ]
    },
    {
      "cell_type": "code",
      "metadata": {
        "colab": {
          "base_uri": "https://localhost:8080/"
        },
        "id": "hk7bmWGgZ6B8",
        "outputId": "8e8f565b-135d-4466-d009-ff9a7a43b543"
      },
      "source": [
        "model.evaluate(x_data, y_data)"
      ],
      "execution_count": 22,
      "outputs": [
        {
          "output_type": "stream",
          "text": [
            "5/5 [==============================] - 0s 3ms/step - loss: 1.1111 - acc: 0.2000\n"
          ],
          "name": "stdout"
        },
        {
          "output_type": "execute_result",
          "data": {
            "text/plain": [
              "[1.111132264137268, 0.20000000298023224]"
            ]
          },
          "metadata": {
            "tags": []
          },
          "execution_count": 22
        }
      ]
    },
    {
      "cell_type": "markdown",
      "metadata": {
        "id": "s5uWGxgHTfAt"
      },
      "source": [
        "# Service"
      ]
    },
    {
      "cell_type": "code",
      "metadata": {
        "colab": {
          "base_uri": "https://localhost:8080/"
        },
        "id": "AlLe3LTqaW4d",
        "outputId": "c87fae09-fb06-47dd-e7d6-b4f7dfaf385a"
      },
      "source": [
        "x_data[25], y_data[25]"
      ],
      "execution_count": 24,
      "outputs": [
        {
          "output_type": "execute_result",
          "data": {
            "text/plain": [
              "(array([5. , 3. , 1.6, 0.2]), 0)"
            ]
          },
          "metadata": {
            "tags": []
          },
          "execution_count": 24
        }
      ]
    },
    {
      "cell_type": "code",
      "metadata": {
        "colab": {
          "base_uri": "https://localhost:8080/"
        },
        "id": "QY2ah3HHThRV",
        "outputId": "ef582d8d-1891-4f96-d6fc-51f2133f29b2"
      },
      "source": [
        "pred = model.predict([[5. , 3. , 1.6, 0.2]])\n",
        "pred"
      ],
      "execution_count": 26,
      "outputs": [
        {
          "output_type": "execute_result",
          "data": {
            "text/plain": [
              "array([[0.34098116, 0.33408517, 0.3249337 ]], dtype=float32)"
            ]
          },
          "metadata": {
            "tags": []
          },
          "execution_count": 26
        }
      ]
    },
    {
      "cell_type": "code",
      "metadata": {
        "colab": {
          "base_uri": "https://localhost:8080/"
        },
        "id": "snMkaeBCaoie",
        "outputId": "82b17b6f-3fba-4602-ed9d-7399c1867da3"
      },
      "source": [
        "import numpy as np\n",
        "np.argmax(pred)"
      ],
      "execution_count": 27,
      "outputs": [
        {
          "output_type": "execute_result",
          "data": {
            "text/plain": [
              "0"
            ]
          },
          "metadata": {
            "tags": []
          },
          "execution_count": 27
        }
      ]
    },
    {
      "cell_type": "code",
      "metadata": {
        "id": "Qz2uez39a_eZ"
      },
      "source": [
        ""
      ],
      "execution_count": null,
      "outputs": []
    }
  ]
}
{
  "nbformat": 4,
  "nbformat_minor": 0,
  "metadata": {
    "colab": {
      "name": "boston_housingwithregression.ipynb",
      "provenance": [],
      "authorship_tag": "ABX9TyMgKDaTp6Pv08EoV/4RqFV/",
      "include_colab_link": true
    },
    "kernelspec": {
      "name": "python3",
      "display_name": "Python 3"
    },
    "language_info": {
      "name": "python"
    }
  },
  "cells": [
    {
      "cell_type": "markdown",
      "metadata": {
        "id": "view-in-github",
        "colab_type": "text"
      },
      "source": [
        "<a href=\"https://colab.research.google.com/github/yoonputer/test_deeplearning/blob/master/boston_housingwithregression.ipynb\" target=\"_parent\"><img src=\"https://colab.research.google.com/assets/colab-badge.svg\" alt=\"Open In Colab\"/></a>"
      ]
    },
    {
      "cell_type": "code",
      "metadata": {
        "id": "8sSo0zHDYFPz"
      },
      "source": [
        "import tensorflow as tf\n",
        "from tensorflow.keras.datasets.boston_housing import load_data"
      ],
      "execution_count": 1,
      "outputs": []
    },
    {
      "cell_type": "markdown",
      "metadata": {
        "id": "8W9UuGdM1DkP"
      },
      "source": [
        "# Dataset"
      ]
    },
    {
      "cell_type": "code",
      "metadata": {
        "colab": {
          "base_uri": "https://localhost:8080/"
        },
        "id": "IDs2uYadbQmc",
        "outputId": "cac01d34-7a8c-4902-c7f9-5d712a03a61e"
      },
      "source": [
        "(x_train, y_train), (x_test, y_test) = load_data(path='boston_housing.npz', test_split=0.2, seed=113)\n",
        "x_train.shape, y_train.shape, x_test.shape, y_test.shape, type(x_train)"
      ],
      "execution_count": 46,
      "outputs": [
        {
          "output_type": "execute_result",
          "data": {
            "text/plain": [
              "((404, 13), (404,), (102, 13), (102,), numpy.ndarray)"
            ]
          },
          "metadata": {
            "tags": []
          },
          "execution_count": 46
        }
      ]
    },
    {
      "cell_type": "code",
      "metadata": {
        "id": "ByRfAiAW1Fve"
      },
      "source": [
        "import pandas as pd"
      ],
      "execution_count": 47,
      "outputs": []
    },
    {
      "cell_type": "code",
      "metadata": {
        "colab": {
          "base_uri": "https://localhost:8080/"
        },
        "id": "TfDvq3Yg1VUE",
        "outputId": "f201921f-2635-47e5-e9b9-1ac845adf3ec"
      },
      "source": [
        "df = pd.DataFrame(x_train)\n",
        "df.info()"
      ],
      "execution_count": 48,
      "outputs": [
        {
          "output_type": "stream",
          "text": [
            "<class 'pandas.core.frame.DataFrame'>\n",
            "RangeIndex: 404 entries, 0 to 403\n",
            "Data columns (total 13 columns):\n",
            " #   Column  Non-Null Count  Dtype  \n",
            "---  ------  --------------  -----  \n",
            " 0   0       404 non-null    float64\n",
            " 1   1       404 non-null    float64\n",
            " 2   2       404 non-null    float64\n",
            " 3   3       404 non-null    float64\n",
            " 4   4       404 non-null    float64\n",
            " 5   5       404 non-null    float64\n",
            " 6   6       404 non-null    float64\n",
            " 7   7       404 non-null    float64\n",
            " 8   8       404 non-null    float64\n",
            " 9   9       404 non-null    float64\n",
            " 10  10      404 non-null    float64\n",
            " 11  11      404 non-null    float64\n",
            " 12  12      404 non-null    float64\n",
            "dtypes: float64(13)\n",
            "memory usage: 41.2 KB\n"
          ],
          "name": "stdout"
        }
      ]
    },
    {
      "cell_type": "code",
      "metadata": {
        "colab": {
          "base_uri": "https://localhost:8080/",
          "height": 297
        },
        "id": "c2-uoVVG2SYV",
        "outputId": "e0e7a193-6e0e-41b8-cbf2-278a8caba2ec"
      },
      "source": [
        "df.describe()"
      ],
      "execution_count": 49,
      "outputs": [
        {
          "output_type": "execute_result",
          "data": {
            "text/html": [
              "<div>\n",
              "<style scoped>\n",
              "    .dataframe tbody tr th:only-of-type {\n",
              "        vertical-align: middle;\n",
              "    }\n",
              "\n",
              "    .dataframe tbody tr th {\n",
              "        vertical-align: top;\n",
              "    }\n",
              "\n",
              "    .dataframe thead th {\n",
              "        text-align: right;\n",
              "    }\n",
              "</style>\n",
              "<table border=\"1\" class=\"dataframe\">\n",
              "  <thead>\n",
              "    <tr style=\"text-align: right;\">\n",
              "      <th></th>\n",
              "      <th>0</th>\n",
              "      <th>1</th>\n",
              "      <th>2</th>\n",
              "      <th>3</th>\n",
              "      <th>4</th>\n",
              "      <th>5</th>\n",
              "      <th>6</th>\n",
              "      <th>7</th>\n",
              "      <th>8</th>\n",
              "      <th>9</th>\n",
              "      <th>10</th>\n",
              "      <th>11</th>\n",
              "      <th>12</th>\n",
              "    </tr>\n",
              "  </thead>\n",
              "  <tbody>\n",
              "    <tr>\n",
              "      <th>count</th>\n",
              "      <td>404.000000</td>\n",
              "      <td>404.000000</td>\n",
              "      <td>404.000000</td>\n",
              "      <td>404.000000</td>\n",
              "      <td>404.000000</td>\n",
              "      <td>404.000000</td>\n",
              "      <td>404.000000</td>\n",
              "      <td>404.000000</td>\n",
              "      <td>404.000000</td>\n",
              "      <td>404.000000</td>\n",
              "      <td>404.000000</td>\n",
              "      <td>404.000000</td>\n",
              "      <td>404.000000</td>\n",
              "    </tr>\n",
              "    <tr>\n",
              "      <th>mean</th>\n",
              "      <td>3.745111</td>\n",
              "      <td>11.480198</td>\n",
              "      <td>11.104431</td>\n",
              "      <td>0.061881</td>\n",
              "      <td>0.557356</td>\n",
              "      <td>6.267082</td>\n",
              "      <td>69.010644</td>\n",
              "      <td>3.740271</td>\n",
              "      <td>9.440594</td>\n",
              "      <td>405.898515</td>\n",
              "      <td>18.475990</td>\n",
              "      <td>354.783168</td>\n",
              "      <td>12.740817</td>\n",
              "    </tr>\n",
              "    <tr>\n",
              "      <th>std</th>\n",
              "      <td>9.240734</td>\n",
              "      <td>23.767711</td>\n",
              "      <td>6.811308</td>\n",
              "      <td>0.241238</td>\n",
              "      <td>0.117293</td>\n",
              "      <td>0.709788</td>\n",
              "      <td>27.940665</td>\n",
              "      <td>2.030215</td>\n",
              "      <td>8.698360</td>\n",
              "      <td>166.374543</td>\n",
              "      <td>2.200382</td>\n",
              "      <td>94.111148</td>\n",
              "      <td>7.254545</td>\n",
              "    </tr>\n",
              "    <tr>\n",
              "      <th>min</th>\n",
              "      <td>0.006320</td>\n",
              "      <td>0.000000</td>\n",
              "      <td>0.460000</td>\n",
              "      <td>0.000000</td>\n",
              "      <td>0.385000</td>\n",
              "      <td>3.561000</td>\n",
              "      <td>2.900000</td>\n",
              "      <td>1.129600</td>\n",
              "      <td>1.000000</td>\n",
              "      <td>188.000000</td>\n",
              "      <td>12.600000</td>\n",
              "      <td>0.320000</td>\n",
              "      <td>1.730000</td>\n",
              "    </tr>\n",
              "    <tr>\n",
              "      <th>25%</th>\n",
              "      <td>0.081437</td>\n",
              "      <td>0.000000</td>\n",
              "      <td>5.130000</td>\n",
              "      <td>0.000000</td>\n",
              "      <td>0.453000</td>\n",
              "      <td>5.874750</td>\n",
              "      <td>45.475000</td>\n",
              "      <td>2.077100</td>\n",
              "      <td>4.000000</td>\n",
              "      <td>279.000000</td>\n",
              "      <td>17.225000</td>\n",
              "      <td>374.672500</td>\n",
              "      <td>6.890000</td>\n",
              "    </tr>\n",
              "    <tr>\n",
              "      <th>50%</th>\n",
              "      <td>0.268880</td>\n",
              "      <td>0.000000</td>\n",
              "      <td>9.690000</td>\n",
              "      <td>0.000000</td>\n",
              "      <td>0.538000</td>\n",
              "      <td>6.198500</td>\n",
              "      <td>78.500000</td>\n",
              "      <td>3.142300</td>\n",
              "      <td>5.000000</td>\n",
              "      <td>330.000000</td>\n",
              "      <td>19.100000</td>\n",
              "      <td>391.250000</td>\n",
              "      <td>11.395000</td>\n",
              "    </tr>\n",
              "    <tr>\n",
              "      <th>75%</th>\n",
              "      <td>3.674808</td>\n",
              "      <td>12.500000</td>\n",
              "      <td>18.100000</td>\n",
              "      <td>0.000000</td>\n",
              "      <td>0.631000</td>\n",
              "      <td>6.609000</td>\n",
              "      <td>94.100000</td>\n",
              "      <td>5.118000</td>\n",
              "      <td>24.000000</td>\n",
              "      <td>666.000000</td>\n",
              "      <td>20.200000</td>\n",
              "      <td>396.157500</td>\n",
              "      <td>17.092500</td>\n",
              "    </tr>\n",
              "    <tr>\n",
              "      <th>max</th>\n",
              "      <td>88.976200</td>\n",
              "      <td>100.000000</td>\n",
              "      <td>27.740000</td>\n",
              "      <td>1.000000</td>\n",
              "      <td>0.871000</td>\n",
              "      <td>8.725000</td>\n",
              "      <td>100.000000</td>\n",
              "      <td>10.710300</td>\n",
              "      <td>24.000000</td>\n",
              "      <td>711.000000</td>\n",
              "      <td>22.000000</td>\n",
              "      <td>396.900000</td>\n",
              "      <td>37.970000</td>\n",
              "    </tr>\n",
              "  </tbody>\n",
              "</table>\n",
              "</div>"
            ],
            "text/plain": [
              "               0           1           2   ...          10          11          12\n",
              "count  404.000000  404.000000  404.000000  ...  404.000000  404.000000  404.000000\n",
              "mean     3.745111   11.480198   11.104431  ...   18.475990  354.783168   12.740817\n",
              "std      9.240734   23.767711    6.811308  ...    2.200382   94.111148    7.254545\n",
              "min      0.006320    0.000000    0.460000  ...   12.600000    0.320000    1.730000\n",
              "25%      0.081437    0.000000    5.130000  ...   17.225000  374.672500    6.890000\n",
              "50%      0.268880    0.000000    9.690000  ...   19.100000  391.250000   11.395000\n",
              "75%      3.674808   12.500000   18.100000  ...   20.200000  396.157500   17.092500\n",
              "max     88.976200  100.000000   27.740000  ...   22.000000  396.900000   37.970000\n",
              "\n",
              "[8 rows x 13 columns]"
            ]
          },
          "metadata": {
            "tags": []
          },
          "execution_count": 49
        }
      ]
    },
    {
      "cell_type": "code",
      "metadata": {
        "colab": {
          "base_uri": "https://localhost:8080/"
        },
        "id": "xdQGjyqZ2k22",
        "outputId": "b46a52d6-f34d-493b-f29d-7c18d5f3b7e3"
      },
      "source": [
        "from sklearn.preprocessing import StandardScaler\n",
        "scaler = StandardScaler()\n",
        "scaler.fit(x_train)"
      ],
      "execution_count": 50,
      "outputs": [
        {
          "output_type": "execute_result",
          "data": {
            "text/plain": [
              "StandardScaler(copy=True, with_mean=True, with_std=True)"
            ]
          },
          "metadata": {
            "tags": []
          },
          "execution_count": 50
        }
      ]
    },
    {
      "cell_type": "code",
      "metadata": {
        "colab": {
          "base_uri": "https://localhost:8080/"
        },
        "id": "MMQDwbUt3m56",
        "outputId": "bd0a4d11-3f58-4ed1-dcee-d28d7fa91f7b"
      },
      "source": [
        "x_train = scaler.transform(x_train)\n",
        "x_test = scaler.transform(x_test)\n",
        "x_train.shape, x_test.shape"
      ],
      "execution_count": 51,
      "outputs": [
        {
          "output_type": "execute_result",
          "data": {
            "text/plain": [
              "((404, 13), (102, 13))"
            ]
          },
          "metadata": {
            "tags": []
          },
          "execution_count": 51
        }
      ]
    },
    {
      "cell_type": "code",
      "metadata": {
        "colab": {
          "base_uri": "https://localhost:8080/",
          "height": 297
        },
        "id": "BeH-iWVJ4AHE",
        "outputId": "c02e0448-7924-43c4-b17c-d9c8c45da715"
      },
      "source": [
        "df = pd.DataFrame(x_train)\n",
        "df.describe()"
      ],
      "execution_count": 52,
      "outputs": [
        {
          "output_type": "execute_result",
          "data": {
            "text/html": [
              "<div>\n",
              "<style scoped>\n",
              "    .dataframe tbody tr th:only-of-type {\n",
              "        vertical-align: middle;\n",
              "    }\n",
              "\n",
              "    .dataframe tbody tr th {\n",
              "        vertical-align: top;\n",
              "    }\n",
              "\n",
              "    .dataframe thead th {\n",
              "        text-align: right;\n",
              "    }\n",
              "</style>\n",
              "<table border=\"1\" class=\"dataframe\">\n",
              "  <thead>\n",
              "    <tr style=\"text-align: right;\">\n",
              "      <th></th>\n",
              "      <th>0</th>\n",
              "      <th>1</th>\n",
              "      <th>2</th>\n",
              "      <th>3</th>\n",
              "      <th>4</th>\n",
              "      <th>5</th>\n",
              "      <th>6</th>\n",
              "      <th>7</th>\n",
              "      <th>8</th>\n",
              "      <th>9</th>\n",
              "      <th>10</th>\n",
              "      <th>11</th>\n",
              "      <th>12</th>\n",
              "    </tr>\n",
              "  </thead>\n",
              "  <tbody>\n",
              "    <tr>\n",
              "      <th>count</th>\n",
              "      <td>4.040000e+02</td>\n",
              "      <td>4.040000e+02</td>\n",
              "      <td>4.040000e+02</td>\n",
              "      <td>4.040000e+02</td>\n",
              "      <td>4.040000e+02</td>\n",
              "      <td>4.040000e+02</td>\n",
              "      <td>4.040000e+02</td>\n",
              "      <td>4.040000e+02</td>\n",
              "      <td>4.040000e+02</td>\n",
              "      <td>4.040000e+02</td>\n",
              "      <td>4.040000e+02</td>\n",
              "      <td>4.040000e+02</td>\n",
              "      <td>4.040000e+02</td>\n",
              "    </tr>\n",
              "    <tr>\n",
              "      <th>mean</th>\n",
              "      <td>-1.015414e-16</td>\n",
              "      <td>1.099231e-17</td>\n",
              "      <td>1.743380e-15</td>\n",
              "      <td>-1.266863e-16</td>\n",
              "      <td>-5.253773e-15</td>\n",
              "      <td>6.414149e-15</td>\n",
              "      <td>2.984411e-16</td>\n",
              "      <td>4.946538e-16</td>\n",
              "      <td>1.126711e-17</td>\n",
              "      <td>-1.981363e-16</td>\n",
              "      <td>2.366864e-14</td>\n",
              "      <td>5.956800e-15</td>\n",
              "      <td>6.139204e-16</td>\n",
              "    </tr>\n",
              "    <tr>\n",
              "      <th>std</th>\n",
              "      <td>1.001240e+00</td>\n",
              "      <td>1.001240e+00</td>\n",
              "      <td>1.001240e+00</td>\n",
              "      <td>1.001240e+00</td>\n",
              "      <td>1.001240e+00</td>\n",
              "      <td>1.001240e+00</td>\n",
              "      <td>1.001240e+00</td>\n",
              "      <td>1.001240e+00</td>\n",
              "      <td>1.001240e+00</td>\n",
              "      <td>1.001240e+00</td>\n",
              "      <td>1.001240e+00</td>\n",
              "      <td>1.001240e+00</td>\n",
              "      <td>1.001240e+00</td>\n",
              "    </tr>\n",
              "    <tr>\n",
              "      <th>min</th>\n",
              "      <td>-4.051005e-01</td>\n",
              "      <td>-4.836155e-01</td>\n",
              "      <td>-1.564696e+00</td>\n",
              "      <td>-2.568327e-01</td>\n",
              "      <td>-1.471269e+00</td>\n",
              "      <td>-3.817250e+00</td>\n",
              "      <td>-2.369042e+00</td>\n",
              "      <td>-1.287503e+00</td>\n",
              "      <td>-9.715693e-01</td>\n",
              "      <td>-1.311311e+00</td>\n",
              "      <td>-2.673752e+00</td>\n",
              "      <td>-3.771101e+00</td>\n",
              "      <td>-1.519664e+00</td>\n",
              "    </tr>\n",
              "    <tr>\n",
              "      <th>25%</th>\n",
              "      <td>-3.969615e-01</td>\n",
              "      <td>-4.836155e-01</td>\n",
              "      <td>-8.782218e-01</td>\n",
              "      <td>-2.568327e-01</td>\n",
              "      <td>-8.908055e-01</td>\n",
              "      <td>-5.534305e-01</td>\n",
              "      <td>-8.433882e-01</td>\n",
              "      <td>-8.202251e-01</td>\n",
              "      <td>-6.262491e-01</td>\n",
              "      <td>-7.636737e-01</td>\n",
              "      <td>-5.692381e-01</td>\n",
              "      <td>2.116008e-01</td>\n",
              "      <td>-8.075036e-01</td>\n",
              "    </tr>\n",
              "    <tr>\n",
              "      <th>50%</th>\n",
              "      <td>-3.766520e-01</td>\n",
              "      <td>-4.836155e-01</td>\n",
              "      <td>-2.079167e-01</td>\n",
              "      <td>-2.568327e-01</td>\n",
              "      <td>-1.652266e-01</td>\n",
              "      <td>-9.674263e-02</td>\n",
              "      <td>3.400464e-01</td>\n",
              "      <td>-2.949009e-01</td>\n",
              "      <td>-5.111423e-01</td>\n",
              "      <td>-4.567563e-01</td>\n",
              "      <td>2.839433e-01</td>\n",
              "      <td>3.879673e-01</td>\n",
              "      <td>-1.857436e-01</td>\n",
              "    </tr>\n",
              "    <tr>\n",
              "      <th>75%</th>\n",
              "      <td>-7.617386e-03</td>\n",
              "      <td>4.296024e-02</td>\n",
              "      <td>1.028326e+00</td>\n",
              "      <td>-2.568327e-01</td>\n",
              "      <td>6.286420e-01</td>\n",
              "      <td>4.823165e-01</td>\n",
              "      <td>8.990647e-01</td>\n",
              "      <td>6.794540e-01</td>\n",
              "      <td>1.675886e+00</td>\n",
              "      <td>1.565287e+00</td>\n",
              "      <td>7.844764e-01</td>\n",
              "      <td>4.401777e-01</td>\n",
              "      <td>6.005999e-01</td>\n",
              "    </tr>\n",
              "    <tr>\n",
              "      <th>max</th>\n",
              "      <td>9.234847e+00</td>\n",
              "      <td>3.728990e+00</td>\n",
              "      <td>2.445374e+00</td>\n",
              "      <td>3.893584e+00</td>\n",
              "      <td>2.677335e+00</td>\n",
              "      <td>3.467186e+00</td>\n",
              "      <td>1.110488e+00</td>\n",
              "      <td>3.437406e+00</td>\n",
              "      <td>1.675886e+00</td>\n",
              "      <td>1.836097e+00</td>\n",
              "      <td>1.603531e+00</td>\n",
              "      <td>4.480771e-01</td>\n",
              "      <td>3.482019e+00</td>\n",
              "    </tr>\n",
              "  </tbody>\n",
              "</table>\n",
              "</div>"
            ],
            "text/plain": [
              "                 0             1   ...            11            12\n",
              "count  4.040000e+02  4.040000e+02  ...  4.040000e+02  4.040000e+02\n",
              "mean  -1.015414e-16  1.099231e-17  ...  5.956800e-15  6.139204e-16\n",
              "std    1.001240e+00  1.001240e+00  ...  1.001240e+00  1.001240e+00\n",
              "min   -4.051005e-01 -4.836155e-01  ... -3.771101e+00 -1.519664e+00\n",
              "25%   -3.969615e-01 -4.836155e-01  ...  2.116008e-01 -8.075036e-01\n",
              "50%   -3.766520e-01 -4.836155e-01  ...  3.879673e-01 -1.857436e-01\n",
              "75%   -7.617386e-03  4.296024e-02  ...  4.401777e-01  6.005999e-01\n",
              "max    9.234847e+00  3.728990e+00  ...  4.480771e-01  3.482019e+00\n",
              "\n",
              "[8 rows x 13 columns]"
            ]
          },
          "metadata": {
            "tags": []
          },
          "execution_count": 52
        }
      ]
    },
    {
      "cell_type": "markdown",
      "metadata": {
        "id": "0WVA68zCx78O"
      },
      "source": [
        "# Model and fit"
      ]
    },
    {
      "cell_type": "code",
      "metadata": {
        "id": "8nxgicbtd3UV"
      },
      "source": [
        "model = tf.keras.models.Sequential()"
      ],
      "execution_count": 53,
      "outputs": []
    },
    {
      "cell_type": "code",
      "metadata": {
        "colab": {
          "base_uri": "https://localhost:8080/"
        },
        "id": "jM6e2m7geZ61",
        "outputId": "45de6c27-2c35-4716-e42e-923e8257bb3f"
      },
      "source": [
        "model.add(tf.keras.Input(shape=(13))) # input layer\n",
        "\n",
        "model.add(tf.keras.layers.Dense(64, activation='sigmoid')) # 기능 layer  # 정식명칭은 hidden layer\n",
        "model.add(tf.keras.layers.Dense(64, activation='sigmoid')) # 기능 layer\n",
        "model.add(tf.keras.layers.Dense(64, activation='sigmoid')) # 기능 layer\n",
        "\n",
        "model.add(tf.keras.layers.Dense(1,)) # output layer\n",
        "\n",
        "model.compile(optimizer='sgd',loss='mse', metrics=['mae'])"
      ],
      "execution_count": 54,
      "outputs": [
        {
          "output_type": "stream",
          "text": [
            "WARNING:tensorflow:Please add `keras.layers.InputLayer` instead of `keras.Input` to Sequential model. `keras.Input` is intended to be used by Functional model.\n"
          ],
          "name": "stdout"
        }
      ]
    },
    {
      "cell_type": "code",
      "metadata": {
        "colab": {
          "base_uri": "https://localhost:8080/",
          "height": 533
        },
        "id": "R6KSACl4qjDZ",
        "outputId": "14f9aad5-176b-4f81-8b5c-918e19d956c2"
      },
      "source": [
        "tf.keras.utils.plot_model(model, show_shapes=True)"
      ],
      "execution_count": 55,
      "outputs": [
        {
          "output_type": "execute_result",
          "data": {
            "image/png": "[encoded data removed]",
            "text/plain": [
              "<IPython.core.display.Image object>"
            ]
          },
          "metadata": {
            "tags": []
          },
          "execution_count": 55
        }
      ]
    },
    {
      "cell_type": "code",
      "metadata": {
        "colab": {
          "base_uri": "https://localhost:8080/"
        },
        "id": "6XLw-y4yrHfc",
        "outputId": "3c8f05aa-4c57-4d53-9cff-eac5d924b531"
      },
      "source": [
        "model.summary()  # 눈에 익혀놓는게 좋음"
      ],
      "execution_count": 56,
      "outputs": [
        {
          "output_type": "stream",
          "text": [
            "Model: \"sequential_4\"\n",
            "_________________________________________________________________\n",
            "Layer (type)                 Output Shape              Param #   \n",
            "=================================================================\n",
            "dense_22 (Dense)             (None, 64)                896       \n",
            "_________________________________________________________________\n",
            "dense_23 (Dense)             (None, 64)                4160      \n",
            "_________________________________________________________________\n",
            "dense_24 (Dense)             (None, 64)                4160      \n",
            "_________________________________________________________________\n",
            "dense_25 (Dense)             (None, 1)                 65        \n",
            "=================================================================\n",
            "Total params: 9,281\n",
            "Trainable params: 9,281\n",
            "Non-trainable params: 0\n",
            "_________________________________________________________________\n"
          ],
          "name": "stdout"
        }
      ]
    },
    {
      "cell_type": "code",
      "metadata": {
        "colab": {
          "base_uri": "https://localhost:8080/"
        },
        "id": "_1ahhUd-rNoM",
        "outputId": "0a319963-07e0-442e-ef43-6efbca8239fa"
      },
      "source": [
        "model.fit(x_train, y_train, epochs=100)"
      ],
      "execution_count": 57,
      "outputs": [
        {
          "output_type": "stream",
          "text": [
            "Epoch 1/100\n",
            "13/13 [==============================] - 1s 3ms/step - loss: 137.9870 - mae: 8.4829\n",
            "Epoch 2/100\n",
            "13/13 [==============================] - 0s 4ms/step - loss: 83.9568 - mae: 6.5743\n",
            "Epoch 3/100\n",
            "13/13 [==============================] - 0s 3ms/step - loss: 79.1208 - mae: 6.3874\n",
            "Epoch 4/100\n",
            "13/13 [==============================] - 0s 2ms/step - loss: 76.4017 - mae: 6.2081\n",
            "Epoch 5/100\n",
            "13/13 [==============================] - 0s 2ms/step - loss: 64.0665 - mae: 5.5891\n",
            "Epoch 6/100\n",
            "13/13 [==============================] - 0s 2ms/step - loss: 49.8989 - mae: 4.8470\n",
            "Epoch 7/100\n",
            "13/13 [==============================] - 0s 2ms/step - loss: 39.5088 - mae: 4.2014\n",
            "Epoch 8/100\n",
            "13/13 [==============================] - 0s 2ms/step - loss: 33.5292 - mae: 3.8051\n",
            "Epoch 9/100\n",
            "13/13 [==============================] - 0s 2ms/step - loss: 29.3486 - mae: 3.7055\n",
            "Epoch 10/100\n",
            "13/13 [==============================] - 0s 2ms/step - loss: 24.7938 - mae: 3.3985\n",
            "Epoch 11/100\n",
            "13/13 [==============================] - 0s 2ms/step - loss: 23.4691 - mae: 3.5047\n",
            "Epoch 12/100\n",
            "13/13 [==============================] - 0s 2ms/step - loss: 20.3996 - mae: 3.1409\n",
            "Epoch 13/100\n",
            "13/13 [==============================] - 0s 3ms/step - loss: 21.3701 - mae: 3.2906\n",
            "Epoch 14/100\n",
            "13/13 [==============================] - 0s 2ms/step - loss: 20.9263 - mae: 3.2335\n",
            "Epoch 15/100\n",
            "13/13 [==============================] - 0s 2ms/step - loss: 17.5092 - mae: 2.9177\n",
            "Epoch 16/100\n",
            "13/13 [==============================] - 0s 2ms/step - loss: 18.9003 - mae: 3.1860\n",
            "Epoch 17/100\n",
            "13/13 [==============================] - 0s 2ms/step - loss: 16.8545 - mae: 2.9611\n",
            "Epoch 18/100\n",
            "13/13 [==============================] - 0s 2ms/step - loss: 18.9138 - mae: 3.1623\n",
            "Epoch 19/100\n",
            "13/13 [==============================] - 0s 2ms/step - loss: 18.2724 - mae: 3.0862\n",
            "Epoch 20/100\n",
            "13/13 [==============================] - 0s 2ms/step - loss: 16.2070 - mae: 2.8929\n",
            "Epoch 21/100\n",
            "13/13 [==============================] - 0s 2ms/step - loss: 18.8785 - mae: 3.1094\n",
            "Epoch 22/100\n",
            "13/13 [==============================] - 0s 2ms/step - loss: 16.1607 - mae: 2.8414\n",
            "Epoch 23/100\n",
            "13/13 [==============================] - 0s 2ms/step - loss: 17.2765 - mae: 3.1186\n",
            "Epoch 24/100\n",
            "13/13 [==============================] - 0s 2ms/step - loss: 17.5437 - mae: 3.0673\n",
            "Epoch 25/100\n",
            "13/13 [==============================] - 0s 2ms/step - loss: 16.6759 - mae: 2.9293\n",
            "Epoch 26/100\n",
            "13/13 [==============================] - 0s 2ms/step - loss: 18.1593 - mae: 3.0791\n",
            "Epoch 27/100\n",
            "13/13 [==============================] - 0s 2ms/step - loss: 15.3740 - mae: 2.8869\n",
            "Epoch 28/100\n",
            "13/13 [==============================] - 0s 2ms/step - loss: 16.6214 - mae: 3.0597\n",
            "Epoch 29/100\n",
            "13/13 [==============================] - 0s 2ms/step - loss: 13.5260 - mae: 2.6726\n",
            "Epoch 30/100\n",
            "13/13 [==============================] - 0s 2ms/step - loss: 16.7321 - mae: 2.9241\n",
            "Epoch 31/100\n",
            "13/13 [==============================] - 0s 2ms/step - loss: 15.0467 - mae: 2.9203\n",
            "Epoch 32/100\n",
            "13/13 [==============================] - 0s 2ms/step - loss: 13.1706 - mae: 2.6203\n",
            "Epoch 33/100\n",
            "13/13 [==============================] - 0s 2ms/step - loss: 13.0629 - mae: 2.6258\n",
            "Epoch 34/100\n",
            "13/13 [==============================] - 0s 2ms/step - loss: 12.9061 - mae: 2.5870\n",
            "Epoch 35/100\n",
            "13/13 [==============================] - 0s 2ms/step - loss: 12.8779 - mae: 2.6263\n",
            "Epoch 36/100\n",
            "13/13 [==============================] - 0s 2ms/step - loss: 12.9073 - mae: 2.5697\n",
            "Epoch 37/100\n",
            "13/13 [==============================] - 0s 2ms/step - loss: 11.9115 - mae: 2.5289\n",
            "Epoch 38/100\n",
            "13/13 [==============================] - 0s 2ms/step - loss: 12.6602 - mae: 2.5710\n",
            "Epoch 39/100\n",
            "13/13 [==============================] - 0s 2ms/step - loss: 12.4834 - mae: 2.5375\n",
            "Epoch 40/100\n",
            "13/13 [==============================] - 0s 2ms/step - loss: 12.2257 - mae: 2.5353\n",
            "Epoch 41/100\n",
            "13/13 [==============================] - 0s 2ms/step - loss: 11.8502 - mae: 2.4809\n",
            "Epoch 42/100\n",
            "13/13 [==============================] - 0s 2ms/step - loss: 11.8824 - mae: 2.5259\n",
            "Epoch 43/100\n",
            "13/13 [==============================] - 0s 2ms/step - loss: 11.8975 - mae: 2.4869\n",
            "Epoch 44/100\n",
            "13/13 [==============================] - 0s 2ms/step - loss: 11.9488 - mae: 2.4924\n",
            "Epoch 45/100\n",
            "13/13 [==============================] - 0s 3ms/step - loss: 11.1558 - mae: 2.4583\n",
            "Epoch 46/100\n",
            "13/13 [==============================] - 0s 2ms/step - loss: 11.5603 - mae: 2.5160\n",
            "Epoch 47/100\n",
            "13/13 [==============================] - 0s 2ms/step - loss: 10.9416 - mae: 2.3954\n",
            "Epoch 48/100\n",
            "13/13 [==============================] - 0s 2ms/step - loss: 11.2255 - mae: 2.4363\n",
            "Epoch 49/100\n",
            "13/13 [==============================] - 0s 2ms/step - loss: 10.9155 - mae: 2.4145\n",
            "Epoch 50/100\n",
            "13/13 [==============================] - 0s 2ms/step - loss: 13.3574 - mae: 2.6181\n",
            "Epoch 51/100\n",
            "13/13 [==============================] - 0s 2ms/step - loss: 11.1443 - mae: 2.4104\n",
            "Epoch 52/100\n",
            "13/13 [==============================] - 0s 2ms/step - loss: 10.6419 - mae: 2.4496\n",
            "Epoch 53/100\n",
            "13/13 [==============================] - 0s 2ms/step - loss: 11.0369 - mae: 2.4498\n",
            "Epoch 54/100\n",
            "13/13 [==============================] - 0s 2ms/step - loss: 11.4861 - mae: 2.4739\n",
            "Epoch 55/100\n",
            "13/13 [==============================] - 0s 2ms/step - loss: 11.4420 - mae: 2.4657\n",
            "Epoch 56/100\n",
            "13/13 [==============================] - 0s 2ms/step - loss: 11.4902 - mae: 2.4493\n",
            "Epoch 57/100\n",
            "13/13 [==============================] - 0s 2ms/step - loss: 10.8330 - mae: 2.4003\n",
            "Epoch 58/100\n",
            "13/13 [==============================] - 0s 2ms/step - loss: 11.0957 - mae: 2.4276\n",
            "Epoch 59/100\n",
            "13/13 [==============================] - 0s 2ms/step - loss: 10.6743 - mae: 2.3842\n",
            "Epoch 60/100\n",
            "13/13 [==============================] - 0s 2ms/step - loss: 11.3012 - mae: 2.4221\n",
            "Epoch 61/100\n",
            "13/13 [==============================] - 0s 2ms/step - loss: 11.4547 - mae: 2.4528\n",
            "Epoch 62/100\n",
            "13/13 [==============================] - 0s 2ms/step - loss: 10.1740 - mae: 2.3397\n",
            "Epoch 63/100\n",
            "13/13 [==============================] - 0s 2ms/step - loss: 10.2369 - mae: 2.3528\n",
            "Epoch 64/100\n",
            "13/13 [==============================] - 0s 3ms/step - loss: 10.7461 - mae: 2.3782\n",
            "Epoch 65/100\n",
            "13/13 [==============================] - 0s 2ms/step - loss: 10.4678 - mae: 2.3959\n",
            "Epoch 66/100\n",
            "13/13 [==============================] - 0s 2ms/step - loss: 10.1699 - mae: 2.3381\n",
            "Epoch 67/100\n",
            "13/13 [==============================] - 0s 2ms/step - loss: 11.0453 - mae: 2.4049\n",
            "Epoch 68/100\n",
            "13/13 [==============================] - 0s 2ms/step - loss: 10.3896 - mae: 2.3621\n",
            "Epoch 69/100\n",
            "13/13 [==============================] - 0s 2ms/step - loss: 10.4350 - mae: 2.3711\n",
            "Epoch 70/100\n",
            "13/13 [==============================] - 0s 2ms/step - loss: 9.9229 - mae: 2.3081\n",
            "Epoch 71/100\n",
            "13/13 [==============================] - 0s 2ms/step - loss: 10.7308 - mae: 2.4138\n",
            "Epoch 72/100\n",
            "13/13 [==============================] - 0s 2ms/step - loss: 10.2081 - mae: 2.3369\n",
            "Epoch 73/100\n",
            "13/13 [==============================] - 0s 2ms/step - loss: 10.1423 - mae: 2.3738\n",
            "Epoch 74/100\n",
            "13/13 [==============================] - 0s 2ms/step - loss: 10.2201 - mae: 2.3191\n",
            "Epoch 75/100\n",
            "13/13 [==============================] - 0s 2ms/step - loss: 10.1165 - mae: 2.3626\n",
            "Epoch 76/100\n",
            "13/13 [==============================] - 0s 3ms/step - loss: 10.6726 - mae: 2.3518\n",
            "Epoch 77/100\n",
            "13/13 [==============================] - 0s 2ms/step - loss: 10.3379 - mae: 2.3674\n",
            "Epoch 78/100\n",
            "13/13 [==============================] - 0s 2ms/step - loss: 9.9438 - mae: 2.3553\n",
            "Epoch 79/100\n",
            "13/13 [==============================] - 0s 2ms/step - loss: 10.4901 - mae: 2.3739\n",
            "Epoch 80/100\n",
            "13/13 [==============================] - 0s 2ms/step - loss: 10.0598 - mae: 2.3170\n",
            "Epoch 81/100\n",
            "13/13 [==============================] - 0s 2ms/step - loss: 10.3830 - mae: 2.3655\n",
            "Epoch 82/100\n",
            "13/13 [==============================] - 0s 2ms/step - loss: 9.7902 - mae: 2.3067\n",
            "Epoch 83/100\n",
            "13/13 [==============================] - 0s 2ms/step - loss: 9.3006 - mae: 2.2225\n",
            "Epoch 84/100\n",
            "13/13 [==============================] - 0s 2ms/step - loss: 10.2068 - mae: 2.3392\n",
            "Epoch 85/100\n",
            "13/13 [==============================] - 0s 2ms/step - loss: 10.1703 - mae: 2.3335\n",
            "Epoch 86/100\n",
            "13/13 [==============================] - 0s 2ms/step - loss: 9.8754 - mae: 2.3075\n",
            "Epoch 87/100\n",
            "13/13 [==============================] - 0s 2ms/step - loss: 9.4727 - mae: 2.2753\n",
            "Epoch 88/100\n",
            "13/13 [==============================] - 0s 2ms/step - loss: 9.7266 - mae: 2.2956\n",
            "Epoch 89/100\n",
            "13/13 [==============================] - 0s 2ms/step - loss: 9.8731 - mae: 2.3380\n",
            "Epoch 90/100\n",
            "13/13 [==============================] - 0s 2ms/step - loss: 9.8123 - mae: 2.2777\n",
            "Epoch 91/100\n",
            "13/13 [==============================] - 0s 2ms/step - loss: 10.2567 - mae: 2.3421\n",
            "Epoch 92/100\n",
            "13/13 [==============================] - 0s 2ms/step - loss: 9.6634 - mae: 2.2785\n",
            "Epoch 93/100\n",
            "13/13 [==============================] - 0s 2ms/step - loss: 9.5301 - mae: 2.2890\n",
            "Epoch 94/100\n",
            "13/13 [==============================] - 0s 2ms/step - loss: 10.3789 - mae: 2.3832\n",
            "Epoch 95/100\n",
            "13/13 [==============================] - 0s 2ms/step - loss: 9.0371 - mae: 2.1915\n",
            "Epoch 96/100\n",
            "13/13 [==============================] - 0s 2ms/step - loss: 9.6286 - mae: 2.2864\n",
            "Epoch 97/100\n",
            "13/13 [==============================] - 0s 3ms/step - loss: 9.2302 - mae: 2.2493\n",
            "Epoch 98/100\n",
            "13/13 [==============================] - 0s 2ms/step - loss: 9.5649 - mae: 2.2846\n",
            "Epoch 99/100\n",
            "13/13 [==============================] - 0s 2ms/step - loss: 9.2923 - mae: 2.2247\n",
            "Epoch 100/100\n",
            "13/13 [==============================] - 0s 2ms/step - loss: 9.0536 - mae: 2.2658\n"
          ],
          "name": "stdout"
        },
        {
          "output_type": "execute_result",
          "data": {
            "text/plain": [
              "<tensorflow.python.keras.callbacks.History at 0x7f83784662d0>"
            ]
          },
          "metadata": {
            "tags": []
          },
          "execution_count": 57
        }
      ]
    },
    {
      "cell_type": "markdown",
      "metadata": {
        "id": "RLA_uzJCwV1G"
      },
      "source": [
        "# evaluation"
      ]
    },
    {
      "cell_type": "code",
      "metadata": {
        "colab": {
          "base_uri": "https://localhost:8080/"
        },
        "id": "68eAQ7Ddtkt0",
        "outputId": "abf605bd-8d6b-4954-af3c-a824f38b1cd0"
      },
      "source": [
        "model.evaluate(x_train, y_train)"
      ],
      "execution_count": 58,
      "outputs": [
        {
          "output_type": "stream",
          "text": [
            "13/13 [==============================] - 0s 1ms/step - loss: 8.6327 - mae: 2.2181\n"
          ],
          "name": "stdout"
        },
        {
          "output_type": "execute_result",
          "data": {
            "text/plain": [
              "[8.632672309875488, 2.2181365489959717]"
            ]
          },
          "metadata": {
            "tags": []
          },
          "execution_count": 58
        }
      ]
    },
    {
      "cell_type": "markdown",
      "metadata": {
        "id": "38tvuU91wocE"
      },
      "source": [
        "# Service"
      ]
    },
    {
      "cell_type": "code",
      "metadata": {
        "colab": {
          "base_uri": "https://localhost:8080/"
        },
        "id": "mZ0skPtaxfs6",
        "outputId": "d8b3efdf-ccd1-4ce0-a5de-9fcf06860cb3"
      },
      "source": [
        "x_train[10]"
      ],
      "execution_count": 68,
      "outputs": [
        {
          "output_type": "execute_result",
          "data": {
            "text/plain": [
              "array([ 0.63391647, -0.48361547,  1.0283258 , -0.25683275,  1.15788777,\n",
              "        0.19313958,  1.11048828, -1.03628262,  1.67588577,  1.5652875 ,\n",
              "        0.78447637,  0.22689422,  1.04466491])"
            ]
          },
          "metadata": {
            "tags": []
          },
          "execution_count": 68
        }
      ]
    },
    {
      "cell_type": "code",
      "metadata": {
        "colab": {
          "base_uri": "https://localhost:8080/"
        },
        "id": "eq8Qv5UWwgY_",
        "outputId": "ecc563ed-d88b-4a14-f56a-818d4d3492ef"
      },
      "source": [
        "model.predict([[ 0.63391647, -0.48361547,  1.0283258 , -0.25683275,  1.15788777,\n",
        "        0.19313958,  1.11048828, -1.03628262,  1.67588577,  1.5652875 ,\n",
        "        0.78447637,  0.22689422,  1.04466491]])"
      ],
      "execution_count": 69,
      "outputs": [
        {
          "output_type": "execute_result",
          "data": {
            "text/plain": [
              "array([[14.070499]], dtype=float32)"
            ]
          },
          "metadata": {
            "tags": []
          },
          "execution_count": 69
        }
      ]
    },
    {
      "cell_type": "code",
      "metadata": {
        "colab": {
          "base_uri": "https://localhost:8080/"
        },
        "id": "Lxe4baR5w16L",
        "outputId": "047bc679-8407-434e-f0b0-4b2523b9f859"
      },
      "source": [
        "y_train[10]"
      ],
      "execution_count": 70,
      "outputs": [
        {
          "output_type": "execute_result",
          "data": {
            "text/plain": [
              "12.1"
            ]
          },
          "metadata": {
            "tags": []
          },
          "execution_count": 70
        }
      ]
    },
    {
      "cell_type": "code",
      "metadata": {
        "id": "MPVKnous5nMJ"
      },
      "source": [
        ""
      ],
      "execution_count": null,
      "outputs": []
    }
  ]
}
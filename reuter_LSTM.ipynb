{
  "nbformat": 4,
  "nbformat_minor": 0,
  "metadata": {
    "colab": {
      "name": "reuter_LSTM.ipynb",
      "provenance": [],
      "collapsed_sections": [],
      "authorship_tag": "ABX9TyOE2fw+bTfld1TjDFNmrRkn",
      "include_colab_link": true
    },
    "kernelspec": {
      "name": "python3",
      "display_name": "Python 3"
    },
    "language_info": {
      "name": "python"
    }
  },
  "cells": [
    {
      "cell_type": "markdown",
      "metadata": {
        "id": "view-in-github",
        "colab_type": "text"
      },
      "source": [
        "<a href=\"https://colab.research.google.com/github/yoonputer/test_deeplearning/blob/master/reuter_LSTM.ipynb\" target=\"_parent\"><img src=\"https://colab.research.google.com/assets/colab-badge.svg\" alt=\"Open In Colab\"/></a>"
      ]
    },
    {
      "cell_type": "code",
      "metadata": {
        "id": "Bn_i16d03JAK"
      },
      "source": [
        "import tensorflow as tf"
      ],
      "execution_count": 1,
      "outputs": []
    },
    {
      "cell_type": "code",
      "metadata": {
        "colab": {
          "base_uri": "https://localhost:8080/"
        },
        "id": "eudQ7wrz4Irb",
        "outputId": "c2dc47c5-ee59-45a6-dc54-9985f7cfeb6b"
      },
      "source": [
        "(x_train, y_train),(x_test,y_test) = tf.keras.datasets.reuters.load_data(num_words=10000)\n",
        "x_train.shape, y_train.shape,x_test.shape,y_test.shape "
      ],
      "execution_count": 2,
      "outputs": [
        {
          "output_type": "stream",
          "text": [
            "Downloading data from https://storage.googleapis.com/tensorflow/tf-keras-datasets/reuters.npz\n",
            "2113536/2110848 [==============================] - 0s 0us/step\n"
          ],
          "name": "stdout"
        },
        {
          "output_type": "stream",
          "text": [
            "/usr/local/lib/python3.7/dist-packages/tensorflow/python/keras/datasets/reuters.py:143: VisibleDeprecationWarning: Creating an ndarray from ragged nested sequences (which is a list-or-tuple of lists-or-tuples-or ndarrays with different lengths or shapes) is deprecated. If you meant to do this, you must specify 'dtype=object' when creating the ndarray\n",
            "  x_train, y_train = np.array(xs[:idx]), np.array(labels[:idx])\n",
            "/usr/local/lib/python3.7/dist-packages/tensorflow/python/keras/datasets/reuters.py:144: VisibleDeprecationWarning: Creating an ndarray from ragged nested sequences (which is a list-or-tuple of lists-or-tuples-or ndarrays with different lengths or shapes) is deprecated. If you meant to do this, you must specify 'dtype=object' when creating the ndarray\n",
            "  x_test, y_test = np.array(xs[idx:]), np.array(labels[idx:])\n"
          ],
          "name": "stderr"
        },
        {
          "output_type": "execute_result",
          "data": {
            "text/plain": [
              "((8982,), (8982,), (2246,), (2246,))"
            ]
          },
          "metadata": {
            "tags": []
          },
          "execution_count": 2
        }
      ]
    },
    {
      "cell_type": "code",
      "metadata": {
        "colab": {
          "base_uri": "https://localhost:8080/"
        },
        "id": "ro013PNe6Cr5",
        "outputId": "d6c8fd7f-c4bd-40ef-b707-2b833d9df252"
      },
      "source": [
        "print(y_train[50], x_train[50])"
      ],
      "execution_count": 3,
      "outputs": [
        {
          "output_type": "stream",
          "text": [
            "4 [1, 1479, 1197, 71, 8, 25, 1479, 1197, 640, 71, 304, 471, 80, 9, 1379, 1901, 4530, 6797, 79, 5, 8144, 71, 175, 80, 58, 4, 1279, 5, 63, 32, 20, 5, 4, 326, 175, 80, 335, 7, 10, 845, 31, 4, 221, 9, 108, 259, 1479, 1197, 640, 8, 16, 600, 69, 68, 11, 15, 6, 8144, 21, 397, 321, 6, 438, 1761, 3072, 79, 5, 8144, 1040, 894, 1051, 617, 80, 4, 617, 80, 23, 1051, 172, 3814, 3206, 8144, 175, 79, 9, 1379, 6, 264, 395, 3814, 3206, 79, 1479, 1197, 9, 25, 323, 8, 4, 8144, 80, 23, 381, 43, 42, 205, 50, 77, 33, 909, 9, 3509, 22, 216, 6, 216, 17, 12]\n"
          ],
          "name": "stdout"
        }
      ]
    },
    {
      "cell_type": "code",
      "metadata": {
        "colab": {
          "base_uri": "https://localhost:8080/"
        },
        "id": "QO-YQlB96R3M",
        "outputId": "1428c607-00d0-40e7-a6c9-a71a1561d381"
      },
      "source": [
        "len(x_train[50]), len(x_train[400]), len(x_train[200])"
      ],
      "execution_count": 4,
      "outputs": [
        {
          "output_type": "execute_result",
          "data": {
            "text/plain": [
              "(118, 90, 212)"
            ]
          },
          "metadata": {
            "tags": []
          },
          "execution_count": 4
        }
      ]
    },
    {
      "cell_type": "code",
      "metadata": {
        "colab": {
          "base_uri": "https://localhost:8080/"
        },
        "id": "3ZF3JSumBMA7",
        "outputId": "951b5463-6cb8-495f-b67c-5f8038ea8718"
      },
      "source": [
        "pad_x_train = tf.keras.preprocessing.sequence.pad_sequences(x_train, maxlen=500)\n",
        "len(pad_x_train[50])"
      ],
      "execution_count": 5,
      "outputs": [
        {
          "output_type": "execute_result",
          "data": {
            "text/plain": [
              "500"
            ]
          },
          "metadata": {
            "tags": []
          },
          "execution_count": 5
        }
      ]
    },
    {
      "cell_type": "code",
      "metadata": {
        "id": "zS0HKlEzEU6p"
      },
      "source": [
        "import numpy as np"
      ],
      "execution_count": 6,
      "outputs": []
    },
    {
      "cell_type": "code",
      "metadata": {
        "colab": {
          "base_uri": "https://localhost:8080/"
        },
        "id": "3eAl0QXAEXOj",
        "outputId": "a2a6e1b8-73e4-4d5b-cdb0-e6fd87b19671"
      },
      "source": [
        "np.unique(y_train).shape, np.unique(y_train)"
      ],
      "execution_count": 7,
      "outputs": [
        {
          "output_type": "execute_result",
          "data": {
            "text/plain": [
              "((46,),\n",
              " array([ 0,  1,  2,  3,  4,  5,  6,  7,  8,  9, 10, 11, 12, 13, 14, 15, 16,\n",
              "        17, 18, 19, 20, 21, 22, 23, 24, 25, 26, 27, 28, 29, 30, 31, 32, 33,\n",
              "        34, 35, 36, 37, 38, 39, 40, 41, 42, 43, 44, 45]))"
            ]
          },
          "metadata": {
            "tags": []
          },
          "execution_count": 7
        }
      ]
    },
    {
      "cell_type": "markdown",
      "metadata": {
        "id": "_laukqcL7eC4"
      },
      "source": [
        "# make model"
      ]
    },
    {
      "cell_type": "code",
      "metadata": {
        "id": "dn9VK6Zk7jEP"
      },
      "source": [
        "model = tf.keras.models.Sequential()"
      ],
      "execution_count": 8,
      "outputs": []
    },
    {
      "cell_type": "code",
      "metadata": {
        "id": "Mb_5mliM77qQ"
      },
      "source": [
        "model.add(tf.keras.layers.Embedding(input_length=500, input_dim=10000, output_dim=24)) # input layer\n",
        "model.add(tf.keras.layers.LSTM(24, return_sequences=True, activation='tanh')) # hidden layer\n",
        "model.add(tf.keras.layers.LSTM(12, activation='tanh')) # hidden layer\n",
        "# model.add(tf.keras.layers.Flatten()) # hidden layer\n",
        "model.add(tf.keras.layers.Dense(46, activation='softmax')) # output layer\n",
        "\n",
        "model. compile(optimizer='adam', loss='sparse_categorical_crossentropy', metrics=['acc']) # gadget\n",
        "# sparse는 y까지 데이터를 카테고리화"
      ],
      "execution_count": 9,
      "outputs": []
    },
    {
      "cell_type": "code",
      "metadata": {
        "colab": {
          "base_uri": "https://localhost:8080/"
        },
        "id": "ExdMltpFH3k_",
        "outputId": "04f1eb88-f0da-4336-8bf2-ce0181deb640"
      },
      "source": [
        "#hist = model.fit(pad_x_train, y_train, epochs=5, validation_split=0.3, batch_size=128)\n",
        "hist = model.fit(pad_x_train, y_train, epochs=100, validation_split=0.3, batch_size=256)"
      ],
      "execution_count": 10,
      "outputs": [
        {
          "output_type": "stream",
          "text": [
            "Epoch 1/100\n",
            "25/25 [==============================] - 23s 774ms/step - loss: 3.7366 - acc: 0.3250 - val_loss: 3.4795 - val_acc: 0.3532\n",
            "Epoch 2/100\n",
            "25/25 [==============================] - 19s 744ms/step - loss: 3.1803 - acc: 0.3510 - val_loss: 2.8684 - val_acc: 0.3532\n",
            "Epoch 3/100\n",
            "25/25 [==============================] - 18s 737ms/step - loss: 2.7208 - acc: 0.3510 - val_loss: 2.5480 - val_acc: 0.3532\n",
            "Epoch 4/100\n",
            "25/25 [==============================] - 18s 741ms/step - loss: 2.5203 - acc: 0.3510 - val_loss: 2.4429 - val_acc: 0.3532\n",
            "Epoch 5/100\n",
            "25/25 [==============================] - 18s 742ms/step - loss: 2.4571 - acc: 0.3510 - val_loss: 2.4109 - val_acc: 0.3532\n",
            "Epoch 6/100\n",
            "25/25 [==============================] - 19s 747ms/step - loss: 2.4352 - acc: 0.3510 - val_loss: 2.3984 - val_acc: 0.3532\n",
            "Epoch 7/100\n",
            "25/25 [==============================] - 19s 751ms/step - loss: 2.4257 - acc: 0.3510 - val_loss: 2.3920 - val_acc: 0.3532\n",
            "Epoch 8/100\n",
            "25/25 [==============================] - 19s 752ms/step - loss: 2.4209 - acc: 0.3510 - val_loss: 2.3879 - val_acc: 0.3532\n",
            "Epoch 9/100\n",
            "25/25 [==============================] - 19s 749ms/step - loss: 2.4177 - acc: 0.3510 - val_loss: 2.3856 - val_acc: 0.3532\n",
            "Epoch 10/100\n",
            "25/25 [==============================] - 19s 744ms/step - loss: 2.4142 - acc: 0.3510 - val_loss: 2.3871 - val_acc: 0.3532\n",
            "Epoch 11/100\n",
            "25/25 [==============================] - 18s 737ms/step - loss: 2.4131 - acc: 0.3510 - val_loss: 2.3772 - val_acc: 0.3532\n",
            "Epoch 12/100\n",
            "25/25 [==============================] - 18s 742ms/step - loss: 2.3308 - acc: 0.3510 - val_loss: 2.2559 - val_acc: 0.3532\n",
            "Epoch 13/100\n",
            "25/25 [==============================] - 19s 747ms/step - loss: 2.2084 - acc: 0.3526 - val_loss: 2.1485 - val_acc: 0.3532\n",
            "Epoch 14/100\n",
            "25/25 [==============================] - 19s 745ms/step - loss: 2.0994 - acc: 0.3514 - val_loss: 2.0698 - val_acc: 0.3544\n",
            "Epoch 15/100\n",
            "25/25 [==============================] - 19s 757ms/step - loss: 2.0212 - acc: 0.3587 - val_loss: 2.0341 - val_acc: 0.3733\n",
            "Epoch 16/100\n",
            "25/25 [==============================] - 19s 752ms/step - loss: 1.9574 - acc: 0.3808 - val_loss: 1.9973 - val_acc: 0.3848\n",
            "Epoch 17/100\n",
            "25/25 [==============================] - 19s 746ms/step - loss: 1.8989 - acc: 0.4032 - val_loss: 1.9978 - val_acc: 0.3874\n",
            "Epoch 18/100\n",
            "25/25 [==============================] - 18s 739ms/step - loss: 1.8481 - acc: 0.4142 - val_loss: 1.9746 - val_acc: 0.3933\n",
            "Epoch 19/100\n",
            "25/25 [==============================] - 19s 747ms/step - loss: 1.8027 - acc: 0.4215 - val_loss: 1.9754 - val_acc: 0.3948\n",
            "Epoch 20/100\n",
            "25/25 [==============================] - 19s 746ms/step - loss: 1.7762 - acc: 0.4237 - val_loss: 1.9695 - val_acc: 0.3996\n",
            "Epoch 21/100\n",
            "25/25 [==============================] - 19s 745ms/step - loss: 1.7432 - acc: 0.4368 - val_loss: 1.9826 - val_acc: 0.3974\n",
            "Epoch 22/100\n",
            "25/25 [==============================] - 19s 751ms/step - loss: 1.7034 - acc: 0.4439 - val_loss: 1.9706 - val_acc: 0.3952\n",
            "Epoch 23/100\n",
            "25/25 [==============================] - 19s 749ms/step - loss: 1.6565 - acc: 0.4536 - val_loss: 1.9813 - val_acc: 0.3952\n",
            "Epoch 24/100\n",
            "25/25 [==============================] - 19s 750ms/step - loss: 1.6221 - acc: 0.4619 - val_loss: 2.0095 - val_acc: 0.3981\n",
            "Epoch 25/100\n",
            "25/25 [==============================] - 18s 731ms/step - loss: 1.5893 - acc: 0.4727 - val_loss: 2.0272 - val_acc: 0.3981\n",
            "Epoch 26/100\n",
            "25/25 [==============================] - 18s 741ms/step - loss: 1.5577 - acc: 0.4842 - val_loss: 2.0227 - val_acc: 0.4004\n",
            "Epoch 27/100\n",
            "25/25 [==============================] - 19s 754ms/step - loss: 1.5340 - acc: 0.4880 - val_loss: 2.0401 - val_acc: 0.3985\n",
            "Epoch 28/100\n",
            "25/25 [==============================] - 19s 753ms/step - loss: 1.5139 - acc: 0.4894 - val_loss: 2.0327 - val_acc: 0.4004\n",
            "Epoch 29/100\n",
            "25/25 [==============================] - 18s 738ms/step - loss: 1.4954 - acc: 0.4985 - val_loss: 2.0792 - val_acc: 0.3974\n",
            "Epoch 30/100\n",
            "25/25 [==============================] - 18s 740ms/step - loss: 1.4783 - acc: 0.4983 - val_loss: 2.0667 - val_acc: 0.3985\n",
            "Epoch 31/100\n",
            "25/25 [==============================] - 18s 741ms/step - loss: 1.4505 - acc: 0.5069 - val_loss: 2.0742 - val_acc: 0.4052\n",
            "Epoch 32/100\n",
            "25/25 [==============================] - 18s 741ms/step - loss: 1.4478 - acc: 0.5055 - val_loss: 2.0840 - val_acc: 0.4004\n",
            "Epoch 33/100\n",
            "25/25 [==============================] - 18s 741ms/step - loss: 1.4216 - acc: 0.5133 - val_loss: 2.1160 - val_acc: 0.4019\n",
            "Epoch 34/100\n",
            "25/25 [==============================] - 18s 742ms/step - loss: 1.4054 - acc: 0.5198 - val_loss: 2.1225 - val_acc: 0.4011\n",
            "Epoch 35/100\n",
            "25/25 [==============================] - 19s 753ms/step - loss: 1.3910 - acc: 0.5239 - val_loss: 2.1216 - val_acc: 0.4063\n",
            "Epoch 36/100\n",
            "25/25 [==============================] - 19s 745ms/step - loss: 1.3943 - acc: 0.5166 - val_loss: 2.1394 - val_acc: 0.4004\n",
            "Epoch 37/100\n",
            "25/25 [==============================] - 18s 738ms/step - loss: 1.3805 - acc: 0.5258 - val_loss: 2.1626 - val_acc: 0.4026\n",
            "Epoch 38/100\n",
            "25/25 [==============================] - 18s 740ms/step - loss: 1.3627 - acc: 0.5257 - val_loss: 2.1463 - val_acc: 0.3985\n",
            "Epoch 39/100\n",
            "25/25 [==============================] - 18s 737ms/step - loss: 1.3322 - acc: 0.5341 - val_loss: 2.1663 - val_acc: 0.4048\n",
            "Epoch 40/100\n",
            "25/25 [==============================] - 18s 741ms/step - loss: 1.3233 - acc: 0.5371 - val_loss: 2.1654 - val_acc: 0.4045\n",
            "Epoch 41/100\n",
            "25/25 [==============================] - 18s 739ms/step - loss: 1.3018 - acc: 0.5437 - val_loss: 2.1606 - val_acc: 0.4089\n",
            "Epoch 42/100\n",
            "25/25 [==============================] - 18s 739ms/step - loss: 1.2919 - acc: 0.5464 - val_loss: 2.1792 - val_acc: 0.4089\n",
            "Epoch 43/100\n",
            "25/25 [==============================] - 18s 731ms/step - loss: 1.2732 - acc: 0.5556 - val_loss: 2.2062 - val_acc: 0.4085\n",
            "Epoch 44/100\n",
            "25/25 [==============================] - 18s 741ms/step - loss: 1.2690 - acc: 0.5548 - val_loss: 2.2083 - val_acc: 0.4111\n",
            "Epoch 45/100\n",
            "25/25 [==============================] - 18s 736ms/step - loss: 1.2549 - acc: 0.5564 - val_loss: 2.2032 - val_acc: 0.4122\n",
            "Epoch 46/100\n",
            "25/25 [==============================] - 19s 746ms/step - loss: 1.2388 - acc: 0.5616 - val_loss: 2.2042 - val_acc: 0.4134\n",
            "Epoch 47/100\n",
            "25/25 [==============================] - 19s 744ms/step - loss: 1.2225 - acc: 0.5707 - val_loss: 2.2223 - val_acc: 0.4111\n",
            "Epoch 48/100\n",
            "25/25 [==============================] - 19s 752ms/step - loss: 1.2119 - acc: 0.5740 - val_loss: 2.2382 - val_acc: 0.4137\n",
            "Epoch 49/100\n",
            "25/25 [==============================] - 19s 744ms/step - loss: 1.2190 - acc: 0.5672 - val_loss: 2.2256 - val_acc: 0.4111\n",
            "Epoch 50/100\n",
            "25/25 [==============================] - 18s 732ms/step - loss: 1.2469 - acc: 0.5530 - val_loss: 2.2470 - val_acc: 0.4122\n",
            "Epoch 51/100\n",
            "25/25 [==============================] - 18s 729ms/step - loss: 1.2022 - acc: 0.5653 - val_loss: 2.2597 - val_acc: 0.4115\n",
            "Epoch 52/100\n",
            "25/25 [==============================] - 18s 735ms/step - loss: 1.1719 - acc: 0.5820 - val_loss: 2.2480 - val_acc: 0.4130\n",
            "Epoch 53/100\n",
            "25/25 [==============================] - 18s 738ms/step - loss: 1.1519 - acc: 0.5911 - val_loss: 2.2681 - val_acc: 0.4130\n",
            "Epoch 54/100\n",
            "25/25 [==============================] - 18s 735ms/step - loss: 1.1356 - acc: 0.5985 - val_loss: 2.2658 - val_acc: 0.4134\n",
            "Epoch 55/100\n",
            "25/25 [==============================] - 18s 742ms/step - loss: 1.1276 - acc: 0.6028 - val_loss: 2.2693 - val_acc: 0.4119\n",
            "Epoch 56/100\n",
            "25/25 [==============================] - 18s 732ms/step - loss: 1.1170 - acc: 0.6039 - val_loss: 2.2718 - val_acc: 0.4186\n",
            "Epoch 57/100\n",
            "25/25 [==============================] - 18s 727ms/step - loss: 1.1273 - acc: 0.5977 - val_loss: 2.3145 - val_acc: 0.4082\n",
            "Epoch 58/100\n",
            "25/25 [==============================] - 18s 735ms/step - loss: 1.1150 - acc: 0.6017 - val_loss: 2.2854 - val_acc: 0.4171\n",
            "Epoch 59/100\n",
            "25/25 [==============================] - 18s 743ms/step - loss: 1.0920 - acc: 0.6106 - val_loss: 2.2983 - val_acc: 0.4167\n",
            "Epoch 60/100\n",
            "25/25 [==============================] - 18s 742ms/step - loss: 1.0721 - acc: 0.6208 - val_loss: 2.3080 - val_acc: 0.4137\n",
            "Epoch 61/100\n",
            "25/25 [==============================] - 18s 734ms/step - loss: 1.0591 - acc: 0.6268 - val_loss: 2.3134 - val_acc: 0.4163\n",
            "Epoch 62/100\n",
            "25/25 [==============================] - 19s 743ms/step - loss: 1.0622 - acc: 0.6237 - val_loss: 2.3269 - val_acc: 0.4182\n",
            "Epoch 63/100\n",
            "25/25 [==============================] - 19s 745ms/step - loss: 1.0444 - acc: 0.6296 - val_loss: 2.3203 - val_acc: 0.4171\n",
            "Epoch 64/100\n",
            "25/25 [==============================] - 19s 749ms/step - loss: 1.0339 - acc: 0.6345 - val_loss: 2.3400 - val_acc: 0.4163\n",
            "Epoch 65/100\n",
            "25/25 [==============================] - 18s 726ms/step - loss: 1.0173 - acc: 0.6437 - val_loss: 2.3527 - val_acc: 0.4152\n",
            "Epoch 66/100\n",
            "25/25 [==============================] - 19s 750ms/step - loss: 1.0080 - acc: 0.6418 - val_loss: 2.3482 - val_acc: 0.4186\n",
            "Epoch 67/100\n",
            "25/25 [==============================] - 19s 744ms/step - loss: 0.9952 - acc: 0.6493 - val_loss: 2.3518 - val_acc: 0.4163\n",
            "Epoch 68/100\n",
            "25/25 [==============================] - 19s 746ms/step - loss: 0.9862 - acc: 0.6501 - val_loss: 2.3618 - val_acc: 0.4156\n",
            "Epoch 69/100\n",
            "25/25 [==============================] - 18s 733ms/step - loss: 0.9772 - acc: 0.6539 - val_loss: 2.3412 - val_acc: 0.4174\n",
            "Epoch 70/100\n",
            "25/25 [==============================] - 18s 739ms/step - loss: 0.9839 - acc: 0.6494 - val_loss: 2.3480 - val_acc: 0.4178\n",
            "Epoch 71/100\n",
            "25/25 [==============================] - 18s 735ms/step - loss: 0.9797 - acc: 0.6504 - val_loss: 2.3769 - val_acc: 0.4148\n",
            "Epoch 72/100\n",
            "25/25 [==============================] - 19s 750ms/step - loss: 0.9784 - acc: 0.6498 - val_loss: 2.3582 - val_acc: 0.4212\n",
            "Epoch 73/100\n",
            "25/25 [==============================] - 19s 750ms/step - loss: 0.9659 - acc: 0.6528 - val_loss: 2.3571 - val_acc: 0.4245\n",
            "Epoch 74/100\n",
            "25/25 [==============================] - 19s 751ms/step - loss: 0.9597 - acc: 0.6555 - val_loss: 2.3807 - val_acc: 0.4223\n",
            "Epoch 75/100\n",
            "25/25 [==============================] - 19s 755ms/step - loss: 0.9509 - acc: 0.6561 - val_loss: 2.3867 - val_acc: 0.4200\n",
            "Epoch 76/100\n",
            "25/25 [==============================] - 18s 735ms/step - loss: 0.9396 - acc: 0.6603 - val_loss: 2.3989 - val_acc: 0.4174\n",
            "Epoch 77/100\n",
            "25/25 [==============================] - 18s 733ms/step - loss: 0.9399 - acc: 0.6587 - val_loss: 2.3478 - val_acc: 0.4271\n",
            "Epoch 78/100\n",
            "25/25 [==============================] - 18s 741ms/step - loss: 0.9265 - acc: 0.6658 - val_loss: 2.3876 - val_acc: 0.4260\n",
            "Epoch 79/100\n",
            "25/25 [==============================] - 19s 754ms/step - loss: 0.9109 - acc: 0.6715 - val_loss: 2.3793 - val_acc: 0.4282\n",
            "Epoch 80/100\n",
            "25/25 [==============================] - 19s 759ms/step - loss: 0.8995 - acc: 0.6754 - val_loss: 2.4562 - val_acc: 0.4148\n",
            "Epoch 81/100\n",
            "25/25 [==============================] - 19s 750ms/step - loss: 0.9052 - acc: 0.6730 - val_loss: 2.4305 - val_acc: 0.4200\n",
            "Epoch 82/100\n",
            "25/25 [==============================] - 18s 741ms/step - loss: 0.9080 - acc: 0.6731 - val_loss: 2.3791 - val_acc: 0.4308\n",
            "Epoch 83/100\n",
            "25/25 [==============================] - 18s 744ms/step - loss: 0.8993 - acc: 0.6746 - val_loss: 2.4070 - val_acc: 0.4249\n",
            "Epoch 84/100\n",
            "25/25 [==============================] - 18s 738ms/step - loss: 0.8818 - acc: 0.6817 - val_loss: 2.4243 - val_acc: 0.4234\n",
            "Epoch 85/100\n",
            "25/25 [==============================] - 19s 747ms/step - loss: 0.8672 - acc: 0.6859 - val_loss: 2.4078 - val_acc: 0.4312\n",
            "Epoch 86/100\n",
            "25/25 [==============================] - 19s 754ms/step - loss: 0.8576 - acc: 0.6895 - val_loss: 2.4118 - val_acc: 0.4323\n",
            "Epoch 87/100\n",
            "25/25 [==============================] - 19s 748ms/step - loss: 0.8520 - acc: 0.6909 - val_loss: 2.4273 - val_acc: 0.4271\n",
            "Epoch 88/100\n",
            "25/25 [==============================] - 19s 746ms/step - loss: 0.8465 - acc: 0.6946 - val_loss: 2.4359 - val_acc: 0.4289\n",
            "Epoch 89/100\n",
            "25/25 [==============================] - 18s 738ms/step - loss: 0.8439 - acc: 0.6944 - val_loss: 2.4444 - val_acc: 0.4275\n",
            "Epoch 90/100\n",
            "25/25 [==============================] - 18s 735ms/step - loss: 0.8366 - acc: 0.6957 - val_loss: 2.4353 - val_acc: 0.4297\n",
            "Epoch 91/100\n",
            "25/25 [==============================] - 19s 744ms/step - loss: 0.8364 - acc: 0.6967 - val_loss: 2.4390 - val_acc: 0.4334\n",
            "Epoch 92/100\n",
            "25/25 [==============================] - 19s 744ms/step - loss: 0.8379 - acc: 0.6943 - val_loss: 2.4737 - val_acc: 0.4267\n",
            "Epoch 93/100\n",
            "25/25 [==============================] - 19s 745ms/step - loss: 0.8428 - acc: 0.6892 - val_loss: 2.4346 - val_acc: 0.4360\n",
            "Epoch 94/100\n",
            "25/25 [==============================] - 18s 742ms/step - loss: 0.8341 - acc: 0.6878 - val_loss: 2.4982 - val_acc: 0.4249\n",
            "Epoch 95/100\n",
            "25/25 [==============================] - 19s 745ms/step - loss: 0.8275 - acc: 0.6943 - val_loss: 2.4671 - val_acc: 0.4289\n",
            "Epoch 96/100\n",
            "25/25 [==============================] - 18s 736ms/step - loss: 0.8222 - acc: 0.6973 - val_loss: 2.4893 - val_acc: 0.4252\n",
            "Epoch 97/100\n",
            "25/25 [==============================] - 18s 729ms/step - loss: 0.8170 - acc: 0.6981 - val_loss: 2.4721 - val_acc: 0.4308\n",
            "Epoch 98/100\n",
            "25/25 [==============================] - 19s 745ms/step - loss: 0.8110 - acc: 0.6991 - val_loss: 2.5120 - val_acc: 0.4252\n",
            "Epoch 99/100\n",
            "25/25 [==============================] - 19s 751ms/step - loss: 0.8183 - acc: 0.6959 - val_loss: 2.5533 - val_acc: 0.4204\n",
            "Epoch 100/100\n",
            "25/25 [==============================] - 19s 752ms/step - loss: 0.8205 - acc: 0.6929 - val_loss: 2.5484 - val_acc: 0.4200\n"
          ],
          "name": "stdout"
        }
      ]
    },
    {
      "cell_type": "markdown",
      "metadata": {
        "id": "XSUNy6HdRgc4"
      },
      "source": [
        "# Evaluation"
      ]
    },
    {
      "cell_type": "code",
      "metadata": {
        "colab": {
          "base_uri": "https://localhost:8080/"
        },
        "id": "ZYxmTv5lIFeK",
        "outputId": "77d646aa-5a44-42d9-e346-276fc0c20f01"
      },
      "source": [
        "# 학습 시켰던 데이터\n",
        "model.evaluate(pad_x_train, y_train) # loss: 2.4030 - acc: 0.3517"
      ],
      "execution_count": 11,
      "outputs": [
        {
          "output_type": "stream",
          "text": [
            "281/281 [==============================] - 20s 69ms/step - loss: 1.3546 - acc: 0.6044\n"
          ],
          "name": "stdout"
        },
        {
          "output_type": "execute_result",
          "data": {
            "text/plain": [
              "[1.3546289205551147, 0.6044310927391052]"
            ]
          },
          "metadata": {
            "tags": []
          },
          "execution_count": 11
        }
      ]
    },
    {
      "cell_type": "code",
      "metadata": {
        "id": "_JzkBdh0UqqF"
      },
      "source": [
        "# x_test 전처리\n",
        "pad_x_test = tf.keras.preprocessing.sequence.pad_sequences(x_test, maxlen=500)"
      ],
      "execution_count": 12,
      "outputs": []
    },
    {
      "cell_type": "code",
      "metadata": {
        "id": "m793XVXuXNKd"
      },
      "source": [
        "# pad_x_train = tf.keras.preprocessing.sequence.pad_sequences(x_train, maxlen=500)\n",
        "# pad_x_test = tf.keras.preprocessing.sequence.pad_sequences(x_test, maxlen=500)\n",
        "# 이러한 전처리를 function 화 시키기\n",
        "def pad_make(x_data):\n",
        "  pad_x = tf.keras.preprocessing.sequence.pad_sequences(x_data, maxlen=500)\n",
        "  return pad_x"
      ],
      "execution_count": 13,
      "outputs": []
    },
    {
      "cell_type": "code",
      "metadata": {
        "id": "GHJrlxc0X67-"
      },
      "source": [
        " pad_make_x = pad_make(x_test)"
      ],
      "execution_count": 14,
      "outputs": []
    },
    {
      "cell_type": "code",
      "metadata": {
        "colab": {
          "base_uri": "https://localhost:8080/"
        },
        "id": "oP3TTvBpYPtA",
        "outputId": "70893052-5daa-4975-d05b-136bba3782a0"
      },
      "source": [
        "# 학습 시키지 않은 데이터 ( 함수 사용한 변수이용 )\n",
        "model.evaluate(pad_make_x, y_test)"
      ],
      "execution_count": 15,
      "outputs": [
        {
          "output_type": "stream",
          "text": [
            "71/71 [==============================] - 5s 70ms/step - loss: 2.7516 - acc: 0.4172\n"
          ],
          "name": "stdout"
        },
        {
          "output_type": "execute_result",
          "data": {
            "text/plain": [
              "[2.7516114711761475, 0.41718611121177673]"
            ]
          },
          "metadata": {
            "tags": []
          },
          "execution_count": 15
        }
      ]
    },
    {
      "cell_type": "code",
      "metadata": {
        "colab": {
          "base_uri": "https://localhost:8080/"
        },
        "id": "4pNVSH2ARqEI",
        "outputId": "6b194ed5-1e91-418a-9a0d-64df1b320aa8"
      },
      "source": [
        "# 학습 시키지 않은 데이터\n",
        "model.evaluate(pad_x_test, y_test) # loss: 2.4158 - acc: 0.3620"
      ],
      "execution_count": 16,
      "outputs": [
        {
          "output_type": "stream",
          "text": [
            "71/71 [==============================] - 5s 67ms/step - loss: 2.7516 - acc: 0.4172\n"
          ],
          "name": "stdout"
        },
        {
          "output_type": "execute_result",
          "data": {
            "text/plain": [
              "[2.7516114711761475, 0.41718611121177673]"
            ]
          },
          "metadata": {
            "tags": []
          },
          "execution_count": 16
        }
      ]
    },
    {
      "cell_type": "code",
      "metadata": {
        "id": "6pQwtUJmUmMl"
      },
      "source": [
        "# 과적합인가? 확실하게 판단 --> plot 그리기\n",
        "import matplotlib.pyplot as plt"
      ],
      "execution_count": 17,
      "outputs": []
    },
    {
      "cell_type": "code",
      "metadata": {
        "colab": {
          "base_uri": "https://localhost:8080/",
          "height": 265
        },
        "id": "2f8vVR_QVqu2",
        "outputId": "5ecebaa5-847a-4316-8ebe-3164b88ad614"
      },
      "source": [
        "plt.plot(hist.history['loss'])\n",
        "plt.plot(hist.history['val_loss'],'r-')\n",
        "plt.show()"
      ],
      "execution_count": 18,
      "outputs": [
        {
          "output_type": "display_data",
          "data": {
            "image/png": "[encoded data removed]",
            "text/plain": [
              "<Figure size 432x288 with 1 Axes>"
            ]
          },
          "metadata": {
            "tags": [],
            "needs_background": "light"
          }
        }
      ]
    },
    {
      "cell_type": "code",
      "metadata": {
        "colab": {
          "base_uri": "https://localhost:8080/",
          "height": 265
        },
        "id": "9vZ6yEfaWHY-",
        "outputId": "3c67d0c4-4c37-4070-f8b7-2f02863dc4ff"
      },
      "source": [
        "plt.plot(hist.history['acc'])\n",
        "plt.plot(hist.history['val_acc'],'r-')\n",
        "plt.show()\n",
        "# 'r-' 넣기 전 --> acc가 정상작동하지 않아서 이상한 결과값이 나옴"
      ],
      "execution_count": 19,
      "outputs": [
        {
          "output_type": "display_data",
          "data": {
            "image/png": "[encoded data removed]",
            "text/plain": [
              "<Figure size 432x288 with 1 Axes>"
            ]
          },
          "metadata": {
            "tags": [],
            "needs_background": "light"
          }
        }
      ]
    },
    {
      "cell_type": "code",
      "metadata": {
        "id": "lgYDPImhWWu9"
      },
      "source": [
        "from sklearn.metrics import classification_report"
      ],
      "execution_count": 30,
      "outputs": []
    },
    {
      "cell_type": "code",
      "metadata": {
        "colab": {
          "base_uri": "https://localhost:8080/"
        },
        "id": "9otjF-snpdOl",
        "outputId": "981d7e36-92b7-48d5-a2f2-c6d32d3fc84e"
      },
      "source": [
        "y_train_pred = model.predict(pad_x_train)\n",
        "y_train_pred[0]"
      ],
      "execution_count": 20,
      "outputs": [
        {
          "output_type": "execute_result",
          "data": {
            "text/plain": [
              "array([6.2281615e-04, 2.8919082e-03, 1.4765442e-05, 6.0348094e-01,\n",
              "       3.7369439e-01, 5.3882930e-05, 2.1079519e-05, 7.0590066e-04,\n",
              "       8.5960189e-04, 9.0425412e-05, 5.2833534e-04, 4.2639077e-03,\n",
              "       1.7929076e-04, 2.7482022e-04, 3.9007844e-04, 3.6070199e-04,\n",
              "       3.3690534e-03, 2.9881763e-05, 1.3126008e-05, 2.5160019e-03,\n",
              "       1.9656068e-03, 6.3311483e-05, 9.6672527e-05, 1.3965655e-04,\n",
              "       2.0959364e-05, 1.1155249e-05, 1.0710847e-05, 8.2663598e-04,\n",
              "       1.4204386e-04, 1.9583973e-05, 5.9398770e-04, 2.8294348e-04,\n",
              "       2.4756591e-04, 9.6408286e-05, 8.4826470e-06, 1.4266060e-04,\n",
              "       2.1548024e-04, 2.9650157e-05, 9.1236543e-05, 3.8436442e-04,\n",
              "       5.8918486e-05, 2.6634798e-06, 5.1742951e-05, 3.1500633e-05,\n",
              "       6.6918539e-05, 3.8332371e-05], dtype=float32)"
            ]
          },
          "metadata": {
            "tags": []
          },
          "execution_count": 20
        }
      ]
    },
    {
      "cell_type": "code",
      "metadata": {
        "id": "iKU7jHY5qWJl"
      },
      "source": [
        "import numpy as np"
      ],
      "execution_count": 21,
      "outputs": []
    },
    {
      "cell_type": "code",
      "metadata": {
        "colab": {
          "base_uri": "https://localhost:8080/"
        },
        "id": "1DWN2rYaqYSw",
        "outputId": "69816f64-1221-4bc4-c043-99bd764d81ce"
      },
      "source": [
        "y_pred = np.argmax(y_train_pred,axis=1)\n",
        "y_pred.shape"
      ],
      "execution_count": 23,
      "outputs": [
        {
          "output_type": "execute_result",
          "data": {
            "text/plain": [
              "(8982,)"
            ]
          },
          "metadata": {
            "tags": []
          },
          "execution_count": 23
        }
      ]
    },
    {
      "cell_type": "code",
      "metadata": {
        "colab": {
          "base_uri": "https://localhost:8080/"
        },
        "id": "fXmY8ptqq7WZ",
        "outputId": "b6e94cf4-6b0b-40eb-b9e4-4447915a7049"
      },
      "source": [
        "len(y_train)"
      ],
      "execution_count": 24,
      "outputs": [
        {
          "output_type": "execute_result",
          "data": {
            "text/plain": [
              "8982"
            ]
          },
          "metadata": {
            "tags": []
          },
          "execution_count": 24
        }
      ]
    },
    {
      "cell_type": "code",
      "metadata": {
        "id": "69ycsS-Gp4Gf"
      },
      "source": [
        "print(classification_report(y_train, y_pred))"
      ],
      "execution_count": null,
      "outputs": []
    },
    {
      "cell_type": "code",
      "metadata": {
        "id": "kgnya9bJqE_u"
      },
      "source": [
        "y_test_pred =  model.predict(pad_x_test)"
      ],
      "execution_count": 26,
      "outputs": []
    },
    {
      "cell_type": "code",
      "metadata": {
        "id": "xWgwylK-skC6"
      },
      "source": [
        "y_pred = np.argmax(y_test_pred, axis=1)"
      ],
      "execution_count": 27,
      "outputs": []
    },
    {
      "cell_type": "code",
      "metadata": {
        "colab": {
          "base_uri": "https://localhost:8080/"
        },
        "id": "7ms6GHKHtS7D",
        "outputId": "9b07ab26-360d-40d5-dde3-a05a9756e3eb"
      },
      "source": [
        "print(classification_report(y_test, y_pred))"
      ],
      "execution_count": 33,
      "outputs": [
        {
          "output_type": "stream",
          "text": [
            "              precision    recall  f1-score   support\n",
            "\n",
            "           0       0.09      0.17      0.12        12\n",
            "           1       0.38      0.19      0.25       105\n",
            "           2       0.03      0.05      0.04        20\n",
            "           3       0.63      0.92      0.75       813\n",
            "           4       0.11      0.00      0.01       474\n",
            "           5       0.00      0.00      0.00         5\n",
            "           6       0.08      0.07      0.08        14\n",
            "           7       1.00      0.33      0.50         3\n",
            "           8       0.37      0.18      0.25        38\n",
            "           9       0.16      0.20      0.18        25\n",
            "          10       0.00      0.00      0.00        30\n",
            "          11       0.18      0.35      0.23        83\n",
            "          12       0.25      0.08      0.12        13\n",
            "          13       0.03      0.05      0.04        37\n",
            "          14       0.00      0.00      0.00         2\n",
            "          15       0.00      0.00      0.00         9\n",
            "          16       0.21      0.26      0.24        99\n",
            "          17       0.00      0.00      0.00        12\n",
            "          18       0.11      0.10      0.11        20\n",
            "          19       0.34      0.40      0.37       133\n",
            "          20       0.10      0.27      0.15        70\n",
            "          21       0.18      0.11      0.14        27\n",
            "          22       0.00      0.00      0.00         7\n",
            "          23       0.00      0.00      0.00        12\n",
            "          24       0.12      0.05      0.07        19\n",
            "          25       0.62      0.16      0.26        31\n",
            "          26       0.00      0.00      0.00         8\n",
            "          27       0.20      0.25      0.22         4\n",
            "          28       0.00      0.00      0.00        10\n",
            "          29       0.00      0.00      0.00         4\n",
            "          30       0.00      0.00      0.00        12\n",
            "          31       0.17      0.08      0.11        13\n",
            "          32       0.00      0.00      0.00        10\n",
            "          33       0.00      0.00      0.00         5\n",
            "          34       0.00      0.00      0.00         7\n",
            "          35       0.00      0.00      0.00         6\n",
            "          36       0.25      0.09      0.13        11\n",
            "          37       0.00      0.00      0.00         2\n",
            "          38       0.00      0.00      0.00         3\n",
            "          39       0.00      0.00      0.00         5\n",
            "          40       0.15      0.20      0.17        10\n",
            "          41       0.00      0.00      0.00         8\n",
            "          42       0.00      0.00      0.00         3\n",
            "          43       0.00      0.00      0.00         6\n",
            "          44       0.00      0.00      0.00         5\n",
            "          45       0.00      0.00      0.00         1\n",
            "\n",
            "    accuracy                           0.42      2246\n",
            "   macro avg       0.13      0.10      0.10      2246\n",
            "weighted avg       0.34      0.42      0.35      2246\n",
            "\n"
          ],
          "name": "stdout"
        },
        {
          "output_type": "stream",
          "text": [
            "/usr/local/lib/python3.7/dist-packages/sklearn/metrics/_classification.py:1272: UndefinedMetricWarning: Precision and F-score are ill-defined and being set to 0.0 in labels with no predicted samples. Use `zero_division` parameter to control this behavior.\n",
            "  _warn_prf(average, modifier, msg_start, len(result))\n"
          ],
          "name": "stderr"
        }
      ]
    },
    {
      "cell_type": "markdown",
      "metadata": {
        "id": "NSD-FGzSuodH"
      },
      "source": [
        "# Service"
      ]
    },
    {
      "cell_type": "code",
      "metadata": {
        "id": "LEkEkGa5usJt"
      },
      "source": [
        "# 문장 입력\n",
        "# --> 문장을 숫자로( 사전을 기준으로 ) --> [, , , , ...] (스칼라(딕셔너리)) --> pad_sequence\n",
        "model.predict()"
      ],
      "execution_count": null,
      "outputs": []
    }
  ]
}
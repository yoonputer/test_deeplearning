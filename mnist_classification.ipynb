{
  "nbformat": 4,
  "nbformat_minor": 0,
  "metadata": {
    "colab": {
      "name": "mnist_classification.ipynb",
      "provenance": [],
      "include_colab_link": true
    },
    "kernelspec": {
      "name": "python3",
      "display_name": "Python 3"
    },
    "language_info": {
      "name": "python"
    }
  },
  "cells": [
    {
      "cell_type": "markdown",
      "metadata": {
        "id": "view-in-github",
        "colab_type": "text"
      },
      "source": [
        "<a href=\"https://colab.research.google.com/github/yoonputer/test_deeplearning/blob/master/mnist_classification.ipynb\" target=\"_parent\"><img src=\"https://colab.research.google.com/assets/colab-badge.svg\" alt=\"Open In Colab\"/></a>"
      ]
    },
    {
      "cell_type": "code",
      "metadata": {
        "id": "DoAZATgKlv2k"
      },
      "source": [
        "from tensorflow.keras.datasets.mnist import load_data"
      ],
      "execution_count": 33,
      "outputs": []
    },
    {
      "cell_type": "code",
      "metadata": {
        "colab": {
          "base_uri": "https://localhost:8080/"
        },
        "id": "wJ_VeHJjmql0",
        "outputId": "cf23b83a-f442-4650-9b4e-d97a6331baba"
      },
      "source": [
        "(x_train, y_train), (x_test, y_test) = load_data(path='mnist.npz')\n",
        "x_train.shape, y_train.shape, x_test.shape, y_test.shape"
      ],
      "execution_count": 34,
      "outputs": [
        {
          "output_type": "execute_result",
          "data": {
            "text/plain": [
              "((60000, 28, 28), (60000,), (10000, 28, 28), (10000,))"
            ]
          },
          "metadata": {
            "tags": []
          },
          "execution_count": 34
        }
      ]
    },
    {
      "cell_type": "code",
      "metadata": {
        "id": "qEibJyVYsHaj",
        "colab": {
          "base_uri": "https://localhost:8080/"
        },
        "outputId": "c7867ed5-05b0-4cb2-ecbc-3d46adb637e0"
      },
      "source": [
        "#  y_train[4], x_train[4],\n",
        "y_train[50000], x_train[50000]"
      ],
      "execution_count": 35,
      "outputs": [
        {
          "output_type": "execute_result",
          "data": {
            "text/plain": [
              "(3, array([[  0,   0,   0,   0,   0,   0,   0,   0,   0,   0,   0,   0,   0,\n",
              "           0,   0,   0,   0,   0,   0,   0,   0,   0,   0,   0,   0,   0,\n",
              "           0,   0],\n",
              "        [  0,   0,   0,   0,   0,   0,   0,   0,   0,   0,   0,   0,   0,\n",
              "           0,   0,   0,   0,   0,   0,   0,   0,   0,   0,   0,   0,   0,\n",
              "           0,   0],\n",
              "        [  0,   0,   0,   0,   0,   0,   0,   0,   0,   0,   0,   0,   0,\n",
              "           0,   0,   0,   0,   0,   0,   0,   0,   0,   0,   0,   0,   0,\n",
              "           0,   0],\n",
              "        [  0,   0,   0,   0,   0,   0,   0,   0,   0,   0,   0,   0,   0,\n",
              "           0,   0,   0,   0,   0,   0,   0,   0,   0,   0,   0,   0,   0,\n",
              "           0,   0],\n",
              "        [  0,   0,   0,   0,   0,   0,   0,   0,   0,   0,  47, 160, 195,\n",
              "         205,  71,  86,  13,   0,   0,   0,   0,   0,   0,   0,   0,   0,\n",
              "           0,   0],\n",
              "        [  0,   0,   0,   0,   0,   0,   0,   0,   0,  12, 238, 254, 254,\n",
              "         254, 254, 254, 227,  84,   0,   0,   0,   0,   0,   0,   0,   0,\n",
              "           0,   0],\n",
              "        [  0,   0,   0,   0,   0,   0,   0,   0,   0,  13, 196, 176, 127,\n",
              "         176, 207, 236, 245, 222,  23,   0,   0,   0,   0,   0,   0,   0,\n",
              "           0,   0],\n",
              "        [  0,   0,   0,   0,   0,   0,   0,   0,   0,   0,   0,   0,   0,\n",
              "           0,   0,  20, 137, 254,  95,   0,   0,   0,   0,   0,   0,   0,\n",
              "           0,   0],\n",
              "        [  0,   0,   0,   0,   0,   0,   0,   0,   0,   0,   0,   0,   0,\n",
              "           0,   0,   0,  78, 254, 144,   0,   0,   0,   0,   0,   0,   0,\n",
              "           0,   0],\n",
              "        [  0,   0,   0,   0,   0,   0,   0,   0,   0,   0,   0,   0,   0,\n",
              "           0,   0,  17, 200, 254, 170,   0,   0,   0,   0,   0,   0,   0,\n",
              "           0,   0],\n",
              "        [  0,   0,   0,   0,   0,   0,   0,   0,   0,   0,   0,   0,   0,\n",
              "           0,  47, 218, 254, 216,  29,   0,   0,   0,   0,   0,   0,   0,\n",
              "           0,   0],\n",
              "        [  0,   0,   0,   0,   0,   0,   0,   0,   0,   0,   0,   0,   0,\n",
              "          95, 225, 254, 245,  65,   0,   0,   0,   0,   0,   0,   0,   0,\n",
              "           0,   0],\n",
              "        [  0,   0,   0,   0,   0,   0,   0,   0,   0,   0,   0,  12, 128,\n",
              "         252, 254, 236,  40,   0,   0,   0,   0,   0,   0,   0,   0,   0,\n",
              "           0,   0],\n",
              "        [  0,   0,   0,   0,   0,   0,   0,   0,   0,   0,   0, 172, 254,\n",
              "         254, 170,  58,   0,   0,   0,   0,   0,   0,   0,   0,   0,   0,\n",
              "           0,   0],\n",
              "        [  0,   0,   0,   0,   0,   0,   0,   0,   0,   0,   0, 207, 254,\n",
              "         254,  65,   0,   0,   0,   0,   0,   0,   0,   0,   0,   0,   0,\n",
              "           0,   0],\n",
              "        [  0,   0,   0,   0,   0,   0,   0,   0,   0,   0,   0, 137, 254,\n",
              "         254, 251, 146,  26,   0,   0,   0,   0,   0,   0,   0,   0,   0,\n",
              "           0,   0],\n",
              "        [  0,   0,   0,   0,   0,   0,   0,   0,   0,   0,   0,   9, 173,\n",
              "         224, 254, 254, 230,  71,   0,   0,   0,   0,   0,   0,   0,   0,\n",
              "           0,   0],\n",
              "        [  0,   0,   0,   0,   0,   0,   0,   0,   0,   0,   0,   0,   8,\n",
              "          12, 254, 254, 254, 246, 104,   0,   0,   0,   0,   0,   0,   0,\n",
              "           0,   0],\n",
              "        [  0,   0,   0,   0,   0,   0,   0,   0,   0,   0,   0,   0,   0,\n",
              "           0,  46, 189, 254, 254, 224,   0,   0,   0,   0,   0,   0,   0,\n",
              "           0,   0],\n",
              "        [  0,   0,   0,   0,   0,   0,   0,   0,   0,  10,   0,   0,   0,\n",
              "           0,   0,  17, 175, 254, 254,  25,   0,   0,   0,   0,   0,   0,\n",
              "           0,   0],\n",
              "        [  0,   0,   0,   0,   0,   0,   0,   0,  35, 231, 156, 112,  87,\n",
              "         186, 191, 218, 254, 254, 219,   0,   0,   0,   0,   0,   0,   0,\n",
              "           0,   0],\n",
              "        [  0,   0,   0,   0,   0,   0,   0,   0, 120, 255, 254, 254, 254,\n",
              "         254, 255, 254, 254, 242,  67,   0,   0,   0,   0,   0,   0,   0,\n",
              "           0,   0],\n",
              "        [  0,   0,   0,   0,   0,   0,   0,   0, 139, 255, 254, 254, 254,\n",
              "         254, 255, 171,  46,  24,   0,   0,   0,   0,   0,   0,   0,   0,\n",
              "           0,   0],\n",
              "        [  0,   0,   0,   0,   0,   0,   0,   0,   5,  71, 164, 189, 174,\n",
              "         174,  66,   4,   0,   0,   0,   0,   0,   0,   0,   0,   0,   0,\n",
              "           0,   0],\n",
              "        [  0,   0,   0,   0,   0,   0,   0,   0,   0,   0,   0,   0,   0,\n",
              "           0,   0,   0,   0,   0,   0,   0,   0,   0,   0,   0,   0,   0,\n",
              "           0,   0],\n",
              "        [  0,   0,   0,   0,   0,   0,   0,   0,   0,   0,   0,   0,   0,\n",
              "           0,   0,   0,   0,   0,   0,   0,   0,   0,   0,   0,   0,   0,\n",
              "           0,   0],\n",
              "        [  0,   0,   0,   0,   0,   0,   0,   0,   0,   0,   0,   0,   0,\n",
              "           0,   0,   0,   0,   0,   0,   0,   0,   0,   0,   0,   0,   0,\n",
              "           0,   0],\n",
              "        [  0,   0,   0,   0,   0,   0,   0,   0,   0,   0,   0,   0,   0,\n",
              "           0,   0,   0,   0,   0,   0,   0,   0,   0,   0,   0,   0,   0,\n",
              "           0,   0]], dtype=uint8))"
            ]
          },
          "metadata": {
            "tags": []
          },
          "execution_count": 35
        }
      ]
    },
    {
      "cell_type": "code",
      "metadata": {
        "id": "W7sX8yJ_sqAL"
      },
      "source": [
        "# x_train[50000] / 255\n",
        "y_train[50000], x_train[50000]"
      ],
      "execution_count": null,
      "outputs": []
    },
    {
      "cell_type": "code",
      "metadata": {
        "colab": {
          "base_uri": "https://localhost:8080/",
          "height": 283
        },
        "id": "qz0Bng0oqgd2",
        "outputId": "e1b84e87-5255-4900-f53d-ca437ad1affc"
      },
      "source": [
        "import matplotlib.pyplot as plt\n",
        "\n",
        "plt.imshow(x_train[50000])\n",
        "print(y_train[50000], type(y_train[50000]))"
      ],
      "execution_count": 37,
      "outputs": [
        {
          "output_type": "stream",
          "text": [
            "3 <class 'numpy.uint8'>\n"
          ],
          "name": "stdout"
        },
        {
          "output_type": "display_data",
          "data": {
            "image/png": "[encoded data removed]",
            "text/plain": [
              "<Figure size 432x288 with 1 Axes>"
            ]
          },
          "metadata": {
            "tags": [],
            "needs_background": "light"
          }
        }
      ]
    },
    {
      "cell_type": "code",
      "metadata": {
        "colab": {
          "base_uri": "https://localhost:8080/"
        },
        "id": "fTiNIr89tBSP",
        "outputId": "2422683e-4947-41e8-bcc3-59cff20b66ea"
      },
      "source": [
        "x_train = x_train.reshape(-1,28*28) / 255\n",
        "x_train.shape"
      ],
      "execution_count": 38,
      "outputs": [
        {
          "output_type": "execute_result",
          "data": {
            "text/plain": [
              "(60000, 784)"
            ]
          },
          "metadata": {
            "tags": []
          },
          "execution_count": 38
        }
      ]
    },
    {
      "cell_type": "code",
      "metadata": {
        "colab": {
          "base_uri": "https://localhost:8080/"
        },
        "id": "V1zyuGoluo4V",
        "outputId": "7ab4120a-6b3d-42e7-f446-55f0d848a579"
      },
      "source": [
        "x_test = x_test.reshape(-1, 28*28) / 255\n",
        "x_test.shape"
      ],
      "execution_count": 39,
      "outputs": [
        {
          "output_type": "execute_result",
          "data": {
            "text/plain": [
              "(10000, 784)"
            ]
          },
          "metadata": {
            "tags": []
          },
          "execution_count": 39
        }
      ]
    },
    {
      "cell_type": "code",
      "metadata": {
        "colab": {
          "base_uri": "https://localhost:8080/"
        },
        "id": "Dc7yUgECvObX",
        "outputId": "5f82d653-48ab-4a24-ef09-33191055a797"
      },
      "source": [
        "y_train[2:10], y_train.shape"
      ],
      "execution_count": 40,
      "outputs": [
        {
          "output_type": "execute_result",
          "data": {
            "text/plain": [
              "(array([4, 1, 9, 2, 1, 3, 1, 4], dtype=uint8), (60000,))"
            ]
          },
          "metadata": {
            "tags": []
          },
          "execution_count": 40
        }
      ]
    },
    {
      "cell_type": "code",
      "metadata": {
        "colab": {
          "base_uri": "https://localhost:8080/"
        },
        "id": "7YhhIDYRxZdt",
        "outputId": "6c30a1e0-553a-471a-e97c-d24fc19ce48a"
      },
      "source": [
        "import numpy as np\n",
        "np.unique(y_train)"
      ],
      "execution_count": 41,
      "outputs": [
        {
          "output_type": "execute_result",
          "data": {
            "text/plain": [
              "array([0, 1, 2, 3, 4, 5, 6, 7, 8, 9], dtype=uint8)"
            ]
          },
          "metadata": {
            "tags": []
          },
          "execution_count": 41
        }
      ]
    },
    {
      "cell_type": "markdown",
      "metadata": {
        "id": "aQHnfCPrwB2U"
      },
      "source": [
        "# apply model "
      ]
    },
    {
      "cell_type": "code",
      "metadata": {
        "id": "r6buyTC2vggM"
      },
      "source": [
        "import tensorflow as tf"
      ],
      "execution_count": 42,
      "outputs": []
    },
    {
      "cell_type": "code",
      "metadata": {
        "colab": {
          "base_uri": "https://localhost:8080/"
        },
        "id": "TgGwaCwawOFg",
        "outputId": "e59f4626-7016-4c3c-89d3-3d02dc6a2326"
      },
      "source": [
        "model = tf.keras.models.Sequential()\n",
        "\n",
        "model.add(tf.keras.Input(shape=(784,))) # input layer\n",
        "model.add(tf.keras.layers.Dense(64, activation='relu')) # hidden layer\n",
        "model.add(tf.keras.layers.Dense(64, activation='relu')) # hidden layer\n",
        "# 3이상 --> softmax, binary --> sigmoid\n",
        "model.add(tf.keras.layers.Dense(10, activation='softmax')) # output layer \n",
        "\n",
        "# regression --> loss : mse\n",
        "# binary classification --> loss : binary crossentropy\n",
        "# over 3 classification --> loss : categorical crossentropy(sparse_categorical_crossentropy)\n",
        "model.compile(optimizer='adam', loss='sparse_categorical_crossentropy', metrics=['acc'])"
      ],
      "execution_count": 43,
      "outputs": [
        {
          "output_type": "stream",
          "text": [
            "WARNING:tensorflow:Please add `keras.layers.InputLayer` instead of `keras.Input` to Sequential model. `keras.Input` is intended to be used by Functional model.\n"
          ],
          "name": "stdout"
        }
      ]
    },
    {
      "cell_type": "code",
      "metadata": {
        "id": "lELE_1_q-5q1",
        "colab": {
          "base_uri": "https://localhost:8080/"
        },
        "outputId": "7cd7695d-7b29-40c5-f482-61dcb1a66e2b"
      },
      "source": [
        "hist = model.fit(x_train, y_train, epochs=100, validation_split=0.3)"
      ],
      "execution_count": 44,
      "outputs": [
        {
          "output_type": "stream",
          "text": [
            "Epoch 1/100\n",
            "1313/1313 [==============================] - 4s 3ms/step - loss: 0.3286 - acc: 0.9053 - val_loss: 0.1939 - val_acc: 0.9408\n",
            "Epoch 2/100\n",
            "1313/1313 [==============================] - 3s 3ms/step - loss: 0.1509 - acc: 0.9546 - val_loss: 0.1692 - val_acc: 0.9513\n",
            "Epoch 3/100\n",
            "1313/1313 [==============================] - 3s 3ms/step - loss: 0.1081 - acc: 0.9673 - val_loss: 0.1253 - val_acc: 0.9631\n",
            "Epoch 4/100\n",
            "1313/1313 [==============================] - 3s 3ms/step - loss: 0.0848 - acc: 0.9740 - val_loss: 0.1299 - val_acc: 0.9614\n",
            "Epoch 5/100\n",
            "1313/1313 [==============================] - 3s 3ms/step - loss: 0.0677 - acc: 0.9783 - val_loss: 0.1138 - val_acc: 0.9663\n",
            "Epoch 6/100\n",
            "1313/1313 [==============================] - 3s 3ms/step - loss: 0.0536 - acc: 0.9826 - val_loss: 0.1279 - val_acc: 0.9656\n",
            "Epoch 7/100\n",
            "1313/1313 [==============================] - 3s 2ms/step - loss: 0.0456 - acc: 0.9851 - val_loss: 0.1200 - val_acc: 0.9657\n",
            "Epoch 8/100\n",
            "1313/1313 [==============================] - 3s 3ms/step - loss: 0.0395 - acc: 0.9871 - val_loss: 0.1301 - val_acc: 0.9662\n",
            "Epoch 9/100\n",
            "1313/1313 [==============================] - 4s 3ms/step - loss: 0.0329 - acc: 0.9893 - val_loss: 0.1210 - val_acc: 0.9691\n",
            "Epoch 10/100\n",
            "1313/1313 [==============================] - 4s 3ms/step - loss: 0.0282 - acc: 0.9906 - val_loss: 0.1275 - val_acc: 0.9687\n",
            "Epoch 11/100\n",
            "1313/1313 [==============================] - 4s 3ms/step - loss: 0.0257 - acc: 0.9913 - val_loss: 0.1352 - val_acc: 0.9687\n",
            "Epoch 12/100\n",
            "1313/1313 [==============================] - 3s 3ms/step - loss: 0.0222 - acc: 0.9926 - val_loss: 0.1330 - val_acc: 0.9698\n",
            "Epoch 13/100\n",
            "1313/1313 [==============================] - 3s 3ms/step - loss: 0.0191 - acc: 0.9939 - val_loss: 0.1437 - val_acc: 0.9684\n",
            "Epoch 14/100\n",
            "1313/1313 [==============================] - 3s 3ms/step - loss: 0.0207 - acc: 0.9929 - val_loss: 0.1362 - val_acc: 0.9706\n",
            "Epoch 15/100\n",
            "1313/1313 [==============================] - 3s 3ms/step - loss: 0.0163 - acc: 0.9944 - val_loss: 0.1576 - val_acc: 0.9688\n",
            "Epoch 16/100\n",
            "1313/1313 [==============================] - 3s 3ms/step - loss: 0.0154 - acc: 0.9948 - val_loss: 0.1513 - val_acc: 0.9696\n",
            "Epoch 17/100\n",
            "1313/1313 [==============================] - 3s 3ms/step - loss: 0.0143 - acc: 0.9950 - val_loss: 0.1638 - val_acc: 0.9671\n",
            "Epoch 18/100\n",
            "1313/1313 [==============================] - 4s 3ms/step - loss: 0.0137 - acc: 0.9955 - val_loss: 0.1790 - val_acc: 0.9647\n",
            "Epoch 19/100\n",
            "1313/1313 [==============================] - 4s 3ms/step - loss: 0.0136 - acc: 0.9955 - val_loss: 0.1622 - val_acc: 0.9702\n",
            "Epoch 20/100\n",
            "1313/1313 [==============================] - 4s 3ms/step - loss: 0.0106 - acc: 0.9966 - val_loss: 0.1814 - val_acc: 0.9685\n",
            "Epoch 21/100\n",
            "1313/1313 [==============================] - 4s 3ms/step - loss: 0.0129 - acc: 0.9953 - val_loss: 0.1757 - val_acc: 0.9699\n",
            "Epoch 22/100\n",
            "1313/1313 [==============================] - 3s 3ms/step - loss: 0.0111 - acc: 0.9962 - val_loss: 0.1822 - val_acc: 0.9693\n",
            "Epoch 23/100\n",
            "1313/1313 [==============================] - 4s 3ms/step - loss: 0.0064 - acc: 0.9981 - val_loss: 0.1970 - val_acc: 0.9667\n",
            "Epoch 24/100\n",
            "1313/1313 [==============================] - 4s 3ms/step - loss: 0.0146 - acc: 0.9955 - val_loss: 0.1892 - val_acc: 0.9699\n",
            "Epoch 25/100\n",
            "1313/1313 [==============================] - 4s 3ms/step - loss: 0.0084 - acc: 0.9973 - val_loss: 0.1981 - val_acc: 0.9691\n",
            "Epoch 26/100\n",
            "1313/1313 [==============================] - 4s 3ms/step - loss: 0.0109 - acc: 0.9963 - val_loss: 0.2029 - val_acc: 0.9693\n",
            "Epoch 27/100\n",
            "1313/1313 [==============================] - 3s 3ms/step - loss: 0.0112 - acc: 0.9961 - val_loss: 0.1932 - val_acc: 0.9716\n",
            "Epoch 28/100\n",
            "1313/1313 [==============================] - 3s 3ms/step - loss: 0.0082 - acc: 0.9974 - val_loss: 0.1954 - val_acc: 0.9706\n",
            "Epoch 29/100\n",
            "1313/1313 [==============================] - 4s 3ms/step - loss: 0.0083 - acc: 0.9975 - val_loss: 0.2372 - val_acc: 0.9672\n",
            "Epoch 30/100\n",
            "1313/1313 [==============================] - 3s 3ms/step - loss: 0.0107 - acc: 0.9963 - val_loss: 0.2132 - val_acc: 0.9698\n",
            "Epoch 31/100\n",
            "1313/1313 [==============================] - 3s 2ms/step - loss: 0.0104 - acc: 0.9968 - val_loss: 0.2035 - val_acc: 0.9708\n",
            "Epoch 32/100\n",
            "1313/1313 [==============================] - 3s 3ms/step - loss: 0.0050 - acc: 0.9984 - val_loss: 0.2373 - val_acc: 0.9674\n",
            "Epoch 33/100\n",
            "1313/1313 [==============================] - 3s 3ms/step - loss: 0.0100 - acc: 0.9968 - val_loss: 0.2124 - val_acc: 0.9713\n",
            "Epoch 34/100\n",
            "1313/1313 [==============================] - 3s 2ms/step - loss: 0.0081 - acc: 0.9973 - val_loss: 0.2045 - val_acc: 0.9727\n",
            "Epoch 35/100\n",
            "1313/1313 [==============================] - 3s 3ms/step - loss: 0.0071 - acc: 0.9978 - val_loss: 0.2429 - val_acc: 0.9686\n",
            "Epoch 36/100\n",
            "1313/1313 [==============================] - 3s 3ms/step - loss: 0.0067 - acc: 0.9978 - val_loss: 0.2369 - val_acc: 0.9679\n",
            "Epoch 37/100\n",
            "1313/1313 [==============================] - 3s 3ms/step - loss: 0.0103 - acc: 0.9970 - val_loss: 0.2134 - val_acc: 0.9704\n",
            "Epoch 38/100\n",
            "1313/1313 [==============================] - 3s 2ms/step - loss: 0.0059 - acc: 0.9980 - val_loss: 0.2392 - val_acc: 0.9685\n",
            "Epoch 39/100\n",
            "1313/1313 [==============================] - 3s 2ms/step - loss: 0.0046 - acc: 0.9983 - val_loss: 0.2265 - val_acc: 0.9717\n",
            "Epoch 40/100\n",
            "1313/1313 [==============================] - 3s 3ms/step - loss: 0.0083 - acc: 0.9969 - val_loss: 0.2330 - val_acc: 0.9699\n",
            "Epoch 41/100\n",
            "1313/1313 [==============================] - 3s 2ms/step - loss: 0.0075 - acc: 0.9978 - val_loss: 0.2272 - val_acc: 0.9708\n",
            "Epoch 42/100\n",
            "1313/1313 [==============================] - 3s 2ms/step - loss: 0.0055 - acc: 0.9984 - val_loss: 0.2409 - val_acc: 0.9708\n",
            "Epoch 43/100\n",
            "1313/1313 [==============================] - 3s 3ms/step - loss: 0.0076 - acc: 0.9975 - val_loss: 0.2461 - val_acc: 0.9728\n",
            "Epoch 44/100\n",
            "1313/1313 [==============================] - 3s 2ms/step - loss: 0.0067 - acc: 0.9978 - val_loss: 0.2753 - val_acc: 0.9704\n",
            "Epoch 45/100\n",
            "1313/1313 [==============================] - 4s 3ms/step - loss: 0.0071 - acc: 0.9978 - val_loss: 0.2563 - val_acc: 0.9694\n",
            "Epoch 46/100\n",
            "1313/1313 [==============================] - 4s 3ms/step - loss: 0.0054 - acc: 0.9983 - val_loss: 0.2507 - val_acc: 0.9704\n",
            "Epoch 47/100\n",
            "1313/1313 [==============================] - 4s 3ms/step - loss: 0.0071 - acc: 0.9979 - val_loss: 0.2696 - val_acc: 0.9697\n",
            "Epoch 48/100\n",
            "1313/1313 [==============================] - 3s 3ms/step - loss: 0.0058 - acc: 0.9983 - val_loss: 0.2700 - val_acc: 0.9718\n",
            "Epoch 49/100\n",
            "1313/1313 [==============================] - 3s 3ms/step - loss: 0.0101 - acc: 0.9974 - val_loss: 0.2582 - val_acc: 0.9717\n",
            "Epoch 50/100\n",
            "1313/1313 [==============================] - 3s 3ms/step - loss: 0.0038 - acc: 0.9991 - val_loss: 0.2932 - val_acc: 0.9692\n",
            "Epoch 51/100\n",
            "1313/1313 [==============================] - 3s 3ms/step - loss: 0.0072 - acc: 0.9975 - val_loss: 0.2624 - val_acc: 0.9709\n",
            "Epoch 52/100\n",
            "1313/1313 [==============================] - 3s 3ms/step - loss: 0.0060 - acc: 0.9980 - val_loss: 0.2544 - val_acc: 0.9727\n",
            "Epoch 53/100\n",
            "1313/1313 [==============================] - 3s 3ms/step - loss: 0.0085 - acc: 0.9971 - val_loss: 0.2600 - val_acc: 0.9707\n",
            "Epoch 54/100\n",
            "1313/1313 [==============================] - 3s 2ms/step - loss: 0.0024 - acc: 0.9993 - val_loss: 0.2652 - val_acc: 0.9708\n",
            "Epoch 55/100\n",
            "1313/1313 [==============================] - 3s 3ms/step - loss: 0.0065 - acc: 0.9982 - val_loss: 0.2553 - val_acc: 0.9716\n",
            "Epoch 56/100\n",
            "1313/1313 [==============================] - 3s 2ms/step - loss: 0.0061 - acc: 0.9983 - val_loss: 0.2870 - val_acc: 0.9701\n",
            "Epoch 57/100\n",
            "1313/1313 [==============================] - 3s 2ms/step - loss: 0.0080 - acc: 0.9976 - val_loss: 0.2574 - val_acc: 0.9722\n",
            "Epoch 58/100\n",
            "1313/1313 [==============================] - 3s 3ms/step - loss: 0.0064 - acc: 0.9983 - val_loss: 0.2920 - val_acc: 0.9678\n",
            "Epoch 59/100\n",
            "1313/1313 [==============================] - 3s 3ms/step - loss: 0.0058 - acc: 0.9981 - val_loss: 0.2825 - val_acc: 0.9693\n",
            "Epoch 60/100\n",
            "1313/1313 [==============================] - 3s 2ms/step - loss: 0.0050 - acc: 0.9986 - val_loss: 0.2713 - val_acc: 0.9724\n",
            "Epoch 61/100\n",
            "1313/1313 [==============================] - 3s 2ms/step - loss: 0.0051 - acc: 0.9989 - val_loss: 0.2661 - val_acc: 0.9731\n",
            "Epoch 62/100\n",
            "1313/1313 [==============================] - 3s 3ms/step - loss: 0.0037 - acc: 0.9989 - val_loss: 0.2797 - val_acc: 0.9718\n",
            "Epoch 63/100\n",
            "1313/1313 [==============================] - 3s 3ms/step - loss: 0.0116 - acc: 0.9969 - val_loss: 0.2927 - val_acc: 0.9720\n",
            "Epoch 64/100\n",
            "1313/1313 [==============================] - 3s 3ms/step - loss: 0.0030 - acc: 0.9991 - val_loss: 0.2825 - val_acc: 0.9727\n",
            "Epoch 65/100\n",
            "1313/1313 [==============================] - 3s 3ms/step - loss: 0.0037 - acc: 0.9989 - val_loss: 0.3503 - val_acc: 0.9681\n",
            "Epoch 66/100\n",
            "1313/1313 [==============================] - 3s 3ms/step - loss: 0.0081 - acc: 0.9977 - val_loss: 0.3066 - val_acc: 0.9711\n",
            "Epoch 67/100\n",
            "1313/1313 [==============================] - 3s 2ms/step - loss: 0.0067 - acc: 0.9982 - val_loss: 0.3082 - val_acc: 0.9710\n",
            "Epoch 68/100\n",
            "1313/1313 [==============================] - 3s 3ms/step - loss: 0.0071 - acc: 0.9979 - val_loss: 0.3069 - val_acc: 0.9711\n",
            "Epoch 69/100\n",
            "1313/1313 [==============================] - 3s 2ms/step - loss: 0.0064 - acc: 0.9984 - val_loss: 0.2947 - val_acc: 0.9711\n",
            "Epoch 70/100\n",
            "1313/1313 [==============================] - 3s 3ms/step - loss: 0.0035 - acc: 0.9988 - val_loss: 0.3165 - val_acc: 0.9713\n",
            "Epoch 71/100\n",
            "1313/1313 [==============================] - 3s 2ms/step - loss: 0.0057 - acc: 0.9985 - val_loss: 0.3220 - val_acc: 0.9699\n",
            "Epoch 72/100\n",
            "1313/1313 [==============================] - 3s 3ms/step - loss: 0.0067 - acc: 0.9981 - val_loss: 0.3260 - val_acc: 0.9712\n",
            "Epoch 73/100\n",
            "1313/1313 [==============================] - 3s 2ms/step - loss: 0.0043 - acc: 0.9988 - val_loss: 0.3211 - val_acc: 0.9694\n",
            "Epoch 74/100\n",
            "1313/1313 [==============================] - 3s 3ms/step - loss: 0.0055 - acc: 0.9984 - val_loss: 0.3187 - val_acc: 0.9703\n",
            "Epoch 75/100\n",
            "1313/1313 [==============================] - 3s 3ms/step - loss: 0.0029 - acc: 0.9992 - val_loss: 0.3367 - val_acc: 0.9701\n",
            "Epoch 76/100\n",
            "1313/1313 [==============================] - 3s 3ms/step - loss: 0.0072 - acc: 0.9984 - val_loss: 0.3517 - val_acc: 0.9685\n",
            "Epoch 77/100\n",
            "1313/1313 [==============================] - 3s 2ms/step - loss: 0.0067 - acc: 0.9984 - val_loss: 0.3284 - val_acc: 0.9717\n",
            "Epoch 78/100\n",
            "1313/1313 [==============================] - 3s 3ms/step - loss: 0.0035 - acc: 0.9991 - val_loss: 0.3392 - val_acc: 0.9724\n",
            "Epoch 79/100\n",
            "1313/1313 [==============================] - 3s 3ms/step - loss: 0.0094 - acc: 0.9978 - val_loss: 0.3418 - val_acc: 0.9688\n",
            "Epoch 80/100\n",
            "1313/1313 [==============================] - 3s 3ms/step - loss: 0.0046 - acc: 0.9987 - val_loss: 0.3363 - val_acc: 0.9717\n",
            "Epoch 81/100\n",
            "1313/1313 [==============================] - 3s 3ms/step - loss: 0.0063 - acc: 0.9983 - val_loss: 0.3579 - val_acc: 0.9706\n",
            "Epoch 82/100\n",
            "1313/1313 [==============================] - 3s 3ms/step - loss: 0.0037 - acc: 0.9989 - val_loss: 0.3238 - val_acc: 0.9722\n",
            "Epoch 83/100\n",
            "1313/1313 [==============================] - 3s 3ms/step - loss: 0.0028 - acc: 0.9991 - val_loss: 0.3567 - val_acc: 0.9697\n",
            "Epoch 84/100\n",
            "1313/1313 [==============================] - 3s 3ms/step - loss: 0.0063 - acc: 0.9983 - val_loss: 0.3430 - val_acc: 0.9724\n",
            "Epoch 85/100\n",
            "1313/1313 [==============================] - 3s 2ms/step - loss: 0.0032 - acc: 0.9991 - val_loss: 0.3536 - val_acc: 0.9703\n",
            "Epoch 86/100\n",
            "1313/1313 [==============================] - 3s 2ms/step - loss: 0.0071 - acc: 0.9981 - val_loss: 0.3347 - val_acc: 0.9699\n",
            "Epoch 87/100\n",
            "1313/1313 [==============================] - 3s 3ms/step - loss: 0.0049 - acc: 0.9989 - val_loss: 0.3301 - val_acc: 0.9724\n",
            "Epoch 88/100\n",
            "1313/1313 [==============================] - 3s 3ms/step - loss: 0.0048 - acc: 0.9985 - val_loss: 0.3717 - val_acc: 0.9704\n",
            "Epoch 89/100\n",
            "1313/1313 [==============================] - 3s 3ms/step - loss: 0.0051 - acc: 0.9986 - val_loss: 0.3473 - val_acc: 0.9713\n",
            "Epoch 90/100\n",
            "1313/1313 [==============================] - 3s 3ms/step - loss: 0.0055 - acc: 0.9985 - val_loss: 0.3527 - val_acc: 0.9717\n",
            "Epoch 91/100\n",
            "1313/1313 [==============================] - 4s 3ms/step - loss: 0.0056 - acc: 0.9987 - val_loss: 0.3253 - val_acc: 0.9730\n",
            "Epoch 92/100\n",
            "1313/1313 [==============================] - 4s 3ms/step - loss: 0.0043 - acc: 0.9990 - val_loss: 0.3481 - val_acc: 0.9723\n",
            "Epoch 93/100\n",
            "1313/1313 [==============================] - 3s 2ms/step - loss: 0.0036 - acc: 0.9991 - val_loss: 0.3409 - val_acc: 0.9728\n",
            "Epoch 94/100\n",
            "1313/1313 [==============================] - 3s 3ms/step - loss: 0.0054 - acc: 0.9982 - val_loss: 0.3845 - val_acc: 0.9699\n",
            "Epoch 95/100\n",
            "1313/1313 [==============================] - 3s 3ms/step - loss: 0.0035 - acc: 0.9993 - val_loss: 0.3618 - val_acc: 0.9721\n",
            "Epoch 96/100\n",
            "1313/1313 [==============================] - 3s 3ms/step - loss: 0.0067 - acc: 0.9982 - val_loss: 0.3841 - val_acc: 0.9706\n",
            "Epoch 97/100\n",
            "1313/1313 [==============================] - 3s 2ms/step - loss: 0.0076 - acc: 0.9979 - val_loss: 0.3882 - val_acc: 0.9715\n",
            "Epoch 98/100\n",
            "1313/1313 [==============================] - 3s 3ms/step - loss: 0.0031 - acc: 0.9992 - val_loss: 0.3844 - val_acc: 0.9719\n",
            "Epoch 99/100\n",
            "1313/1313 [==============================] - 3s 3ms/step - loss: 0.0056 - acc: 0.9986 - val_loss: 0.3941 - val_acc: 0.9716\n",
            "Epoch 100/100\n",
            "1313/1313 [==============================] - 3s 3ms/step - loss: 0.0039 - acc: 0.9991 - val_loss: 0.4019 - val_acc: 0.9708\n"
          ],
          "name": "stdout"
        }
      ]
    },
    {
      "cell_type": "markdown",
      "metadata": {
        "id": "A9W-MmBNKqyI"
      },
      "source": [
        "# evaluation"
      ]
    },
    {
      "cell_type": "code",
      "metadata": {
        "colab": {
          "base_uri": "https://localhost:8080/"
        },
        "id": "H9QYcEYRK-Oy",
        "outputId": "c9c6a435-e0fc-4de2-b1c3-2fe75788cd89"
      },
      "source": [
        "hist.history.keys()"
      ],
      "execution_count": 45,
      "outputs": [
        {
          "output_type": "execute_result",
          "data": {
            "text/plain": [
              "dict_keys(['loss', 'acc', 'val_loss', 'val_acc'])"
            ]
          },
          "metadata": {
            "tags": []
          },
          "execution_count": 45
        }
      ]
    },
    {
      "cell_type": "code",
      "metadata": {
        "colab": {
          "base_uri": "https://localhost:8080/",
          "height": 265
        },
        "id": "U1gxiOtD_XjD",
        "outputId": "7f2ccf54-b4d6-47f7-aedc-aecd4721a0f5"
      },
      "source": [
        "import matplotlib.pyplot as plt\n",
        "\n",
        "plt.plot(hist.history['loss'])\n",
        "plt.plot(hist.history['val_loss'], 'b-')\n",
        "plt.show()"
      ],
      "execution_count": 46,
      "outputs": [
        {
          "output_type": "display_data",
          "data": {
            "image/png": "[encoded data removed]",
            "text/plain": [
              "<Figure size 432x288 with 1 Axes>"
            ]
          },
          "metadata": {
            "tags": [],
            "needs_background": "light"
          }
        }
      ]
    },
    {
      "cell_type": "code",
      "metadata": {
        "colab": {
          "base_uri": "https://localhost:8080/",
          "height": 265
        },
        "id": "E5izhgITLbLO",
        "outputId": "a7d52631-367d-450c-d5f5-d1fe036f9d43"
      },
      "source": [
        "plt.plot(hist.history['acc'])\n",
        "plt.plot(hist.history['val_acc'], 'r-')\n",
        "plt.show()"
      ],
      "execution_count": 47,
      "outputs": [
        {
          "output_type": "display_data",
          "data": {
            "image/png": "[encoded data removed]",
            "text/plain": [
              "<Figure size 432x288 with 1 Axes>"
            ]
          },
          "metadata": {
            "tags": [],
            "needs_background": "light"
          }
        }
      ]
    },
    {
      "cell_type": "markdown",
      "metadata": {
        "id": "_KJqtus_Mlkm"
      },
      "source": [
        "# service"
      ]
    },
    {
      "cell_type": "code",
      "metadata": {
        "id": "QVi74E3pMVOL"
      },
      "source": [
        "#x_test[30]"
      ],
      "execution_count": 48,
      "outputs": []
    },
    {
      "cell_type": "code",
      "metadata": {
        "id": "_ymhac0wMs-0",
        "colab": {
          "base_uri": "https://localhost:8080/"
        },
        "outputId": "08bc3dc8-8ac9-43ca-e9e9-0ea5e6540837"
      },
      "source": [
        "import numpy as np\n",
        "# np.set_printoptions(precision=8)\n",
        "\n",
        "pred = model.predict(x_test[30:31])\n",
        "pred"
      ],
      "execution_count": 49,
      "outputs": [
        {
          "output_type": "execute_result",
          "data": {
            "text/plain": [
              "array([[0.0000000e+00, 0.0000000e+00, 4.3517783e-38, 1.0000000e+00,\n",
              "        0.0000000e+00, 0.0000000e+00, 0.0000000e+00, 0.0000000e+00,\n",
              "        0.0000000e+00, 3.8812565e-38]], dtype=float32)"
            ]
          },
          "metadata": {
            "tags": []
          },
          "execution_count": 49
        }
      ]
    },
    {
      "cell_type": "code",
      "metadata": {
        "colab": {
          "base_uri": "https://localhost:8080/"
        },
        "id": "D0ZXtzxynfnQ",
        "outputId": "29cfc8de-8363-4ded-a564-5cd72c4ef101"
      },
      "source": [
        "np.argmax(pred, axis=1)"
      ],
      "execution_count": 50,
      "outputs": [
        {
          "output_type": "execute_result",
          "data": {
            "text/plain": [
              "array([3])"
            ]
          },
          "metadata": {
            "tags": []
          },
          "execution_count": 50
        }
      ]
    },
    {
      "cell_type": "code",
      "metadata": {
        "colab": {
          "base_uri": "https://localhost:8080/"
        },
        "id": "fdJi2tqYn1hH",
        "outputId": "39957404-f53c-4227-dab1-5b487c250f12"
      },
      "source": [
        "y_test[30]"
      ],
      "execution_count": 51,
      "outputs": [
        {
          "output_type": "execute_result",
          "data": {
            "text/plain": [
              "3"
            ]
          },
          "metadata": {
            "tags": []
          },
          "execution_count": 51
        }
      ]
    },
    {
      "cell_type": "code",
      "metadata": {
        "colab": {
          "base_uri": "https://localhost:8080/"
        },
        "id": "Ihz5X-s3kgx9",
        "outputId": "aac3e0cc-9177-4603-d284-a6578bca34e1"
      },
      "source": [
        "a = np.arange(6).reshape(2,3) + 10\n",
        "print(a)\n",
        "np.argmax(a, axis=0)"
      ],
      "execution_count": 52,
      "outputs": [
        {
          "output_type": "stream",
          "text": [
            "[[10 11 12]\n",
            " [13 14 15]]\n"
          ],
          "name": "stdout"
        },
        {
          "output_type": "execute_result",
          "data": {
            "text/plain": [
              "array([1, 1, 1])"
            ]
          },
          "metadata": {
            "tags": []
          },
          "execution_count": 52
        }
      ]
    },
    {
      "cell_type": "code",
      "metadata": {
        "colab": {
          "base_uri": "https://localhost:8080/"
        },
        "id": "3IAu96j_ln2x",
        "outputId": "b0cbed77-f82a-4841-d65f-68168bb78db6"
      },
      "source": [
        "np.argmax(np.array([[10,11,12]]), axis=1)"
      ],
      "execution_count": 53,
      "outputs": [
        {
          "output_type": "execute_result",
          "data": {
            "text/plain": [
              "array([2])"
            ]
          },
          "metadata": {
            "tags": []
          },
          "execution_count": 53
        }
      ]
    },
    {
      "cell_type": "code",
      "metadata": {
        "colab": {
          "base_uri": "https://localhost:8080/"
        },
        "id": "aNQ_L7A-833O",
        "outputId": "5c6ea12c-c931-4b40-e05c-791b4191cb4b"
      },
      "source": [
        "import numpy as np\n",
        "# np.set_printoptions(precision=8)\n",
        "\n",
        "pred = model.predict(x_test[30:31])\n",
        "pred, np.argmax(pred)"
      ],
      "execution_count": 58,
      "outputs": [
        {
          "output_type": "execute_result",
          "data": {
            "text/plain": [
              "(array([[0.0000000e+00, 0.0000000e+00, 4.3517783e-38, 1.0000000e+00,\n",
              "         0.0000000e+00, 0.0000000e+00, 0.0000000e+00, 0.0000000e+00,\n",
              "         0.0000000e+00, 3.8812565e-38]], dtype=float32), 3)"
            ]
          },
          "metadata": {
            "tags": []
          },
          "execution_count": 58
        }
      ]
    },
    {
      "cell_type": "code",
      "metadata": {
        "colab": {
          "base_uri": "https://localhost:8080/"
        },
        "id": "MeLpSgpvnV6H",
        "outputId": "9c23a71a-e98f-4876-a398-25790eab8776"
      },
      "source": [
        "model.save('./model_save')"
      ],
      "execution_count": 54,
      "outputs": [
        {
          "output_type": "stream",
          "text": [
            "INFO:tensorflow:Assets written to: ./model_save/assets\n"
          ],
          "name": "stdout"
        }
      ]
    },
    {
      "cell_type": "code",
      "metadata": {
        "id": "Fx7Ha3wI6fjT"
      },
      "source": [
        "model.save('./model_save01.h5')"
      ],
      "execution_count": 55,
      "outputs": []
    },
    {
      "cell_type": "code",
      "metadata": {
        "colab": {
          "base_uri": "https://localhost:8080/"
        },
        "id": "hlQ0z0AZ7DgH",
        "outputId": "f263b26c-0f13-4e13-d156-269f42d56c1c"
      },
      "source": [
        "model_load = tf.keras.models.load_model('./model_save01.h5')\n",
        "model_load"
      ],
      "execution_count": 57,
      "outputs": [
        {
          "output_type": "execute_result",
          "data": {
            "text/plain": [
              "<tensorflow.python.keras.engine.sequential.Sequential at 0x7fe4cc6f6990>"
            ]
          },
          "metadata": {
            "tags": []
          },
          "execution_count": 57
        }
      ]
    },
    {
      "cell_type": "code",
      "metadata": {
        "colab": {
          "base_uri": "https://localhost:8080/"
        },
        "id": "Wh_PDCk18YKN",
        "outputId": "58f3a633-5ad4-4660-8207-741b2fac4a2e"
      },
      "source": [
        "load_pred = model_load.predict(x_test[30:31])\n",
        "load_pred, np.argmax(load_pred)"
      ],
      "execution_count": 60,
      "outputs": [
        {
          "output_type": "execute_result",
          "data": {
            "text/plain": [
              "(array([[0.0000000e+00, 0.0000000e+00, 4.3517783e-38, 1.0000000e+00,\n",
              "         0.0000000e+00, 0.0000000e+00, 0.0000000e+00, 0.0000000e+00,\n",
              "         0.0000000e+00, 3.8812565e-38]], dtype=float32), 3)"
            ]
          },
          "metadata": {
            "tags": []
          },
          "execution_count": 60
        }
      ]
    },
    {
      "cell_type": "code",
      "metadata": {
        "id": "i1FrXF1m9ORS"
      },
      "source": [
        ""
      ],
      "execution_count": null,
      "outputs": []
    }
  ]
}
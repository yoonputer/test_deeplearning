{
  "nbformat": 4,
  "nbformat_minor": 0,
  "metadata": {
    "colab": {
      "name": "Notescale_LSTM.ipynb",
      "provenance": [],
      "collapsed_sections": [],
      "authorship_tag": "ABX9TyO/uceyo/7yGQ9X20qfOFHc",
      "include_colab_link": true
    },
    "kernelspec": {
      "name": "python3",
      "display_name": "Python 3"
    },
    "language_info": {
      "name": "python"
    }
  },
  "cells": [
    {
      "cell_type": "markdown",
      "metadata": {
        "id": "view-in-github",
        "colab_type": "text"
      },
      "source": [
        "<a href=\"https://colab.research.google.com/github/yoonputer/test_deeplearning/blob/master/Notescale_LSTM.ipynb\" target=\"_parent\"><img src=\"https://colab.research.google.com/assets/colab-badge.svg\" alt=\"Open In Colab\"/></a>"
      ]
    },
    {
      "cell_type": "code",
      "metadata": {
        "id": "dWpWwhKBlE8i"
      },
      "source": [
        "# 시계열 데이터 공부\n",
        "# 나비야 노래를 계명으로 만든것\n",
        "note_seq = ['g8', 'e8', 'e4', 'f8', 'd8', 'd4', 'c8', 'd8', 'e8', 'f8', 'g8', 'g8', 'g4',\n",
        "       'g8', 'e8', 'e8', 'e8', 'f8', 'd8', 'd4', 'c8', 'e8', 'g8', 'g8', 'e8', 'e8', 'e4',\n",
        "       'd8', 'd8', 'd8', 'd8', 'd8', 'e8', 'f4', 'e8', 'e8', 'e8', 'e8', 'e8', 'f8', 'g4',\n",
        "       'g8', 'e8', 'e4', 'f8', 'd8', 'd4', 'c8', 'e8', 'g8', 'g8', 'e8', 'e8', 'e4']"
      ],
      "execution_count": 1,
      "outputs": []
    },
    {
      "cell_type": "code",
      "metadata": {
        "colab": {
          "base_uri": "https://localhost:8080/"
        },
        "id": "Qp5uYlFxnx0a",
        "outputId": "d6c71cd4-204b-4aeb-c01c-76a1995f2a38"
      },
      "source": [
        "note_seq[0:4], note_seq[1:5], note_seq[2:6]"
      ],
      "execution_count": 2,
      "outputs": [
        {
          "output_type": "execute_result",
          "data": {
            "text/plain": [
              "(['g8', 'e8', 'e4', 'f8'], ['e8', 'e4', 'f8', 'd8'], ['e4', 'f8', 'd8', 'd4'])"
            ]
          },
          "metadata": {
            "tags": []
          },
          "execution_count": 2
        }
      ]
    },
    {
      "cell_type": "code",
      "metadata": {
        "id": "ZtNjcCMsldXR"
      },
      "source": [
        "# 데이터 사전\n",
        "code2idx = {'c4':0, 'd4':1, 'e4':2, 'f4':3, 'g4':4, 'a4':5, 'b4':6,\n",
        "            'c8':7, 'd8':8, 'e8':9, 'f8':10, 'g8':11, 'a8':12, 'b8':13}"
      ],
      "execution_count": 3,
      "outputs": []
    },
    {
      "cell_type": "code",
      "metadata": {
        "colab": {
          "base_uri": "https://localhost:8080/"
        },
        "id": "y6zR1_wrmTaz",
        "outputId": "d7a7a5c4-6686-404c-e9be-41e5256a1917"
      },
      "source": [
        "range(len(note_seq)-4) # [4,8,12,....]"
      ],
      "execution_count": 4,
      "outputs": [
        {
          "output_type": "execute_result",
          "data": {
            "text/plain": [
              "range(0, 50)"
            ]
          },
          "metadata": {
            "tags": []
          },
          "execution_count": 4
        }
      ]
    },
    {
      "cell_type": "code",
      "metadata": {
        "colab": {
          "base_uri": "https://localhost:8080/"
        },
        "id": "e7JYgT_GUhBq",
        "outputId": "19c361f6-b435-40fa-823d-4dad7e1f4f32"
      },
      "source": [
        "code2idx['g8']"
      ],
      "execution_count": 5,
      "outputs": [
        {
          "output_type": "execute_result",
          "data": {
            "text/plain": [
              "11"
            ]
          },
          "metadata": {
            "tags": []
          },
          "execution_count": 5
        }
      ]
    },
    {
      "cell_type": "code",
      "metadata": {
        "colab": {
          "base_uri": "https://localhost:8080/"
        },
        "id": "Zj7-J9yelgQU",
        "outputId": "b50b2f67-d627-40eb-b281-bd84f245a679"
      },
      "source": [
        "dataset = list()\n",
        "for i in range(len(note_seq)-3):\n",
        "  subset = note_seq[i:i+4]\n",
        "  items = list()\n",
        "  #print(subset)\n",
        "  for item in subset:\n",
        "    code2idx[item]\n",
        "    #print(code2idx[item])\n",
        "    items.append(code2idx[item])\n",
        "  #print(items)\n",
        "  dataset.append(items)\n",
        "\n",
        "print(dataset)"
      ],
      "execution_count": 6,
      "outputs": [
        {
          "output_type": "stream",
          "text": [
            "[[11, 9, 2, 10], [9, 2, 10, 8], [2, 10, 8, 1], [10, 8, 1, 7], [8, 1, 7, 8], [1, 7, 8, 9], [7, 8, 9, 10], [8, 9, 10, 11], [9, 10, 11, 11], [10, 11, 11, 4], [11, 11, 4, 11], [11, 4, 11, 9], [4, 11, 9, 9], [11, 9, 9, 9], [9, 9, 9, 10], [9, 9, 10, 8], [9, 10, 8, 1], [10, 8, 1, 7], [8, 1, 7, 9], [1, 7, 9, 11], [7, 9, 11, 11], [9, 11, 11, 9], [11, 11, 9, 9], [11, 9, 9, 2], [9, 9, 2, 8], [9, 2, 8, 8], [2, 8, 8, 8], [8, 8, 8, 8], [8, 8, 8, 8], [8, 8, 8, 9], [8, 8, 9, 3], [8, 9, 3, 9], [9, 3, 9, 9], [3, 9, 9, 9], [9, 9, 9, 9], [9, 9, 9, 9], [9, 9, 9, 10], [9, 9, 10, 4], [9, 10, 4, 11], [10, 4, 11, 9], [4, 11, 9, 2], [11, 9, 2, 10], [9, 2, 10, 8], [2, 10, 8, 1], [10, 8, 1, 7], [8, 1, 7, 9], [1, 7, 9, 11], [7, 9, 11, 11], [9, 11, 11, 9], [11, 11, 9, 9], [11, 9, 9, 2]]\n"
          ],
          "name": "stdout"
        }
      ]
    },
    {
      "cell_type": "code",
      "metadata": {
        "id": "EhaSQgrHV15n"
      },
      "source": [
        "import numpy as np\n",
        "datasets = np.array(dataset)"
      ],
      "execution_count": 7,
      "outputs": []
    },
    {
      "cell_type": "code",
      "metadata": {
        "colab": {
          "base_uri": "https://localhost:8080/"
        },
        "id": "ktsWA7AdUMIY",
        "outputId": "95c76487-5c7e-4e24-fab8-c9443c2d55d1"
      },
      "source": [
        "x_train = datasets[:,0:3]\n",
        "x_train.shape"
      ],
      "execution_count": 8,
      "outputs": [
        {
          "output_type": "execute_result",
          "data": {
            "text/plain": [
              "(51, 3)"
            ]
          },
          "metadata": {
            "tags": []
          },
          "execution_count": 8
        }
      ]
    },
    {
      "cell_type": "code",
      "metadata": {
        "colab": {
          "base_uri": "https://localhost:8080/"
        },
        "id": "8hWgh_Q5WM7f",
        "outputId": "7e4620da-c031-4f8d-f45b-a617d305ccbc"
      },
      "source": [
        "y_train = datasets[:,3]\n",
        "y_train.shape"
      ],
      "execution_count": 9,
      "outputs": [
        {
          "output_type": "execute_result",
          "data": {
            "text/plain": [
              "(51,)"
            ]
          },
          "metadata": {
            "tags": []
          },
          "execution_count": 9
        }
      ]
    },
    {
      "cell_type": "code",
      "metadata": {
        "colab": {
          "base_uri": "https://localhost:8080/"
        },
        "id": "CSlbFBRzXS6L",
        "outputId": "bafec49c-2703-405a-9313-7f501b9665fc"
      },
      "source": [
        "len(code2idx)"
      ],
      "execution_count": 10,
      "outputs": [
        {
          "output_type": "execute_result",
          "data": {
            "text/plain": [
              "14"
            ]
          },
          "metadata": {
            "tags": []
          },
          "execution_count": 10
        }
      ]
    },
    {
      "cell_type": "code",
      "metadata": {
        "colab": {
          "base_uri": "https://localhost:8080/"
        },
        "id": "kon-zYYOWWZe",
        "outputId": "f169082d-d106-4df9-b90a-20be9a24c164"
      },
      "source": [
        "x_train = x_train / 14 # len(code2idx)\n",
        "x_train[3]"
      ],
      "execution_count": 11,
      "outputs": [
        {
          "output_type": "execute_result",
          "data": {
            "text/plain": [
              "array([0.71428571, 0.57142857, 0.07142857])"
            ]
          },
          "metadata": {
            "tags": []
          },
          "execution_count": 11
        }
      ]
    },
    {
      "cell_type": "markdown",
      "metadata": {
        "id": "78KzEriKXlR4"
      },
      "source": [
        "# make model"
      ]
    },
    {
      "cell_type": "code",
      "metadata": {
        "id": "MiVl_pU7XeyX"
      },
      "source": [
        "import tensorflow as tf"
      ],
      "execution_count": 12,
      "outputs": []
    },
    {
      "cell_type": "code",
      "metadata": {
        "colab": {
          "base_uri": "https://localhost:8080/"
        },
        "id": "10H8AebLZBsT",
        "outputId": "ba38f799-a680-419e-d987-4ff0a66b0795"
      },
      "source": [
        "x_train.shape, x_train[2] # --> tensorflow type(tensor) (50,3,1)\n",
        "# -- > 스칼라"
      ],
      "execution_count": 13,
      "outputs": [
        {
          "output_type": "execute_result",
          "data": {
            "text/plain": [
              "((51, 3), array([0.14285714, 0.71428571, 0.57142857]))"
            ]
          },
          "metadata": {
            "tags": []
          },
          "execution_count": 13
        }
      ]
    },
    {
      "cell_type": "code",
      "metadata": {
        "colab": {
          "base_uri": "https://localhost:8080/"
        },
        "id": "9M_P4Caad7BS",
        "outputId": "0c78eb38-8880-45f5-a936-1311d456b52c"
      },
      "source": [
        "X_train = np.reshape(x_train,(51,3,1)) # tensor\n",
        "X_train.shape, X_train[2]"
      ],
      "execution_count": 14,
      "outputs": [
        {
          "output_type": "execute_result",
          "data": {
            "text/plain": [
              "((51, 3, 1), array([[0.14285714],\n",
              "        [0.71428571],\n",
              "        [0.57142857]]))"
            ]
          },
          "metadata": {
            "tags": []
          },
          "execution_count": 14
        }
      ]
    },
    {
      "cell_type": "code",
      "metadata": {
        "colab": {
          "base_uri": "https://localhost:8080/"
        },
        "id": "p5Hilrs2glTj",
        "outputId": "1d424c26-9064-4b4c-ea1e-554579d4d2c6"
      },
      "source": [
        "np.unique(y_train) # 없어서 그런거지 데이터 사전을 보면 13개임 (음계)"
      ],
      "execution_count": 15,
      "outputs": [
        {
          "output_type": "execute_result",
          "data": {
            "text/plain": [
              "array([ 1,  2,  3,  4,  7,  8,  9, 10, 11])"
            ]
          },
          "metadata": {
            "tags": []
          },
          "execution_count": 15
        }
      ]
    },
    {
      "cell_type": "code",
      "metadata": {
        "colab": {
          "base_uri": "https://localhost:8080/"
        },
        "id": "fNv5Ckl5X1Pz",
        "outputId": "4a1bdb34-a948-43b5-9939-d6baf23473f7"
      },
      "source": [
        "model = tf.keras.models.Sequential()\n",
        "\n",
        "#tf.keras.layers.LSTM(batch_input_shape=(51, 3, 1)) # batch_size, timesteps, input_dim) -- > (rows, cols, 1) \n",
        "                                                   \n",
        "# # model.add() # input layer\n",
        "# model.add(tf.keras.layers.LSTM(128, batch_input_shape=(50, 3, 1))) # input and hidden layer\n",
        "# model.add(tf.keras.layers.Dense(13, activation='softmax')) # output layer\n",
        "\n",
        "model.add(tf.keras.Input(shape=(3,1))) #input layer\n",
        "model.add(tf.keras.layers.LSTM(128)) # hidden layer\n",
        "model.add(tf.keras.layers.Dense(13, activation='softmax')) # output layer\n",
        "\n",
        "model.compile(optimizer='adam',loss='sparse_categorical_crossentropy', metrics=['accuracy']) # gadget"
      ],
      "execution_count": 16,
      "outputs": [
        {
          "output_type": "stream",
          "text": [
            "WARNING:tensorflow:Please add `keras.layers.InputLayer` instead of `keras.Input` to Sequential model. `keras.Input` is intended to be used by Functional model.\n"
          ],
          "name": "stdout"
        }
      ]
    },
    {
      "cell_type": "code",
      "metadata": {
        "colab": {
          "base_uri": "https://localhost:8080/"
        },
        "id": "Z6-sxvhOhpPp",
        "outputId": "8aa77482-4632-498f-9c44-32976799fbb8"
      },
      "source": [
        "hist = model.fit(X_train, y_train, epochs=500, batch_size=5) # 50 / 5 = 10"
      ],
      "execution_count": 17,
      "outputs": [
        {
          "output_type": "stream",
          "text": [
            "Epoch 1/500\n",
            "11/11 [==============================] - 2s 4ms/step - loss: 2.5552 - accuracy: 0.1961 \n",
            "Epoch 2/500\n",
            "11/11 [==============================] - 0s 4ms/step - loss: 2.4940 - accuracy: 0.3333\n",
            "Epoch 3/500\n",
            "11/11 [==============================] - 0s 4ms/step - loss: 2.4263 - accuracy: 0.3333\n",
            "Epoch 4/500\n",
            "11/11 [==============================] - 0s 4ms/step - loss: 2.3284 - accuracy: 0.3333\n",
            "Epoch 5/500\n",
            "11/11 [==============================] - 0s 4ms/step - loss: 2.1863 - accuracy: 0.3333\n",
            "Epoch 6/500\n",
            "11/11 [==============================] - 0s 5ms/step - loss: 2.0608 - accuracy: 0.3333\n",
            "Epoch 7/500\n",
            "11/11 [==============================] - 0s 4ms/step - loss: 1.9941 - accuracy: 0.3333\n",
            "Epoch 8/500\n",
            "11/11 [==============================] - 0s 4ms/step - loss: 1.9658 - accuracy: 0.3333\n",
            "Epoch 9/500\n",
            "11/11 [==============================] - 0s 4ms/step - loss: 1.9630 - accuracy: 0.3333\n",
            "Epoch 10/500\n",
            "11/11 [==============================] - 0s 4ms/step - loss: 1.9457 - accuracy: 0.3333\n",
            "Epoch 11/500\n",
            "11/11 [==============================] - 0s 4ms/step - loss: 1.9361 - accuracy: 0.3333\n",
            "Epoch 12/500\n",
            "11/11 [==============================] - 0s 4ms/step - loss: 1.9295 - accuracy: 0.3333\n",
            "Epoch 13/500\n",
            "11/11 [==============================] - 0s 5ms/step - loss: 1.9323 - accuracy: 0.3333\n",
            "Epoch 14/500\n",
            "11/11 [==============================] - 0s 4ms/step - loss: 1.9248 - accuracy: 0.3333\n",
            "Epoch 15/500\n",
            "11/11 [==============================] - 0s 4ms/step - loss: 1.9201 - accuracy: 0.3333\n",
            "Epoch 16/500\n",
            "11/11 [==============================] - 0s 5ms/step - loss: 1.9216 - accuracy: 0.3333\n",
            "Epoch 17/500\n",
            "11/11 [==============================] - 0s 5ms/step - loss: 1.9190 - accuracy: 0.3333\n",
            "Epoch 18/500\n",
            "11/11 [==============================] - 0s 4ms/step - loss: 1.9104 - accuracy: 0.3333\n",
            "Epoch 19/500\n",
            "11/11 [==============================] - 0s 5ms/step - loss: 1.9131 - accuracy: 0.3333\n",
            "Epoch 20/500\n",
            "11/11 [==============================] - 0s 5ms/step - loss: 1.9152 - accuracy: 0.3333\n",
            "Epoch 21/500\n",
            "11/11 [==============================] - 0s 6ms/step - loss: 1.9071 - accuracy: 0.3333\n",
            "Epoch 22/500\n",
            "11/11 [==============================] - 0s 5ms/step - loss: 1.9073 - accuracy: 0.3333\n",
            "Epoch 23/500\n",
            "11/11 [==============================] - 0s 5ms/step - loss: 1.9121 - accuracy: 0.3333\n",
            "Epoch 24/500\n",
            "11/11 [==============================] - 0s 4ms/step - loss: 1.9060 - accuracy: 0.3333\n",
            "Epoch 25/500\n",
            "11/11 [==============================] - 0s 5ms/step - loss: 1.9037 - accuracy: 0.3333\n",
            "Epoch 26/500\n",
            "11/11 [==============================] - 0s 4ms/step - loss: 1.9026 - accuracy: 0.3333\n",
            "Epoch 27/500\n",
            "11/11 [==============================] - 0s 4ms/step - loss: 1.9022 - accuracy: 0.3333\n",
            "Epoch 28/500\n",
            "11/11 [==============================] - 0s 4ms/step - loss: 1.8970 - accuracy: 0.3333\n",
            "Epoch 29/500\n",
            "11/11 [==============================] - 0s 4ms/step - loss: 1.9025 - accuracy: 0.3333\n",
            "Epoch 30/500\n",
            "11/11 [==============================] - 0s 5ms/step - loss: 1.8995 - accuracy: 0.3333\n",
            "Epoch 31/500\n",
            "11/11 [==============================] - 0s 4ms/step - loss: 1.9049 - accuracy: 0.3333\n",
            "Epoch 32/500\n",
            "11/11 [==============================] - 0s 4ms/step - loss: 1.9015 - accuracy: 0.3333\n",
            "Epoch 33/500\n",
            "11/11 [==============================] - 0s 4ms/step - loss: 1.8934 - accuracy: 0.3333\n",
            "Epoch 34/500\n",
            "11/11 [==============================] - 0s 4ms/step - loss: 1.8945 - accuracy: 0.3333\n",
            "Epoch 35/500\n",
            "11/11 [==============================] - 0s 5ms/step - loss: 1.8905 - accuracy: 0.3333\n",
            "Epoch 36/500\n",
            "11/11 [==============================] - 0s 5ms/step - loss: 1.8968 - accuracy: 0.3333\n",
            "Epoch 37/500\n",
            "11/11 [==============================] - 0s 4ms/step - loss: 1.8920 - accuracy: 0.3333\n",
            "Epoch 38/500\n",
            "11/11 [==============================] - 0s 5ms/step - loss: 1.8944 - accuracy: 0.3333\n",
            "Epoch 39/500\n",
            "11/11 [==============================] - 0s 4ms/step - loss: 1.8833 - accuracy: 0.3333\n",
            "Epoch 40/500\n",
            "11/11 [==============================] - 0s 4ms/step - loss: 1.8846 - accuracy: 0.3333\n",
            "Epoch 41/500\n",
            "11/11 [==============================] - 0s 5ms/step - loss: 1.8861 - accuracy: 0.3333\n",
            "Epoch 42/500\n",
            "11/11 [==============================] - 0s 4ms/step - loss: 1.8740 - accuracy: 0.3333\n",
            "Epoch 43/500\n",
            "11/11 [==============================] - 0s 4ms/step - loss: 1.8772 - accuracy: 0.3333\n",
            "Epoch 44/500\n",
            "11/11 [==============================] - 0s 4ms/step - loss: 1.8701 - accuracy: 0.3333\n",
            "Epoch 45/500\n",
            "11/11 [==============================] - 0s 4ms/step - loss: 1.8738 - accuracy: 0.3333\n",
            "Epoch 46/500\n",
            "11/11 [==============================] - 0s 4ms/step - loss: 1.8706 - accuracy: 0.3333\n",
            "Epoch 47/500\n",
            "11/11 [==============================] - 0s 4ms/step - loss: 1.8706 - accuracy: 0.3333\n",
            "Epoch 48/500\n",
            "11/11 [==============================] - 0s 4ms/step - loss: 1.8612 - accuracy: 0.3333\n",
            "Epoch 49/500\n",
            "11/11 [==============================] - 0s 5ms/step - loss: 1.8529 - accuracy: 0.3333\n",
            "Epoch 50/500\n",
            "11/11 [==============================] - 0s 4ms/step - loss: 1.8559 - accuracy: 0.3333\n",
            "Epoch 51/500\n",
            "11/11 [==============================] - 0s 4ms/step - loss: 1.8518 - accuracy: 0.3333\n",
            "Epoch 52/500\n",
            "11/11 [==============================] - 0s 5ms/step - loss: 1.8398 - accuracy: 0.3333\n",
            "Epoch 53/500\n",
            "11/11 [==============================] - 0s 5ms/step - loss: 1.8360 - accuracy: 0.3333\n",
            "Epoch 54/500\n",
            "11/11 [==============================] - 0s 4ms/step - loss: 1.8327 - accuracy: 0.3333\n",
            "Epoch 55/500\n",
            "11/11 [==============================] - 0s 4ms/step - loss: 1.8299 - accuracy: 0.3333\n",
            "Epoch 56/500\n",
            "11/11 [==============================] - 0s 4ms/step - loss: 1.8303 - accuracy: 0.3333\n",
            "Epoch 57/500\n",
            "11/11 [==============================] - 0s 5ms/step - loss: 1.8172 - accuracy: 0.3333\n",
            "Epoch 58/500\n",
            "11/11 [==============================] - 0s 6ms/step - loss: 1.8174 - accuracy: 0.3333\n",
            "Epoch 59/500\n",
            "11/11 [==============================] - 0s 5ms/step - loss: 1.8085 - accuracy: 0.3333\n",
            "Epoch 60/500\n",
            "11/11 [==============================] - 0s 4ms/step - loss: 1.8110 - accuracy: 0.3333\n",
            "Epoch 61/500\n",
            "11/11 [==============================] - 0s 4ms/step - loss: 1.8016 - accuracy: 0.3333\n",
            "Epoch 62/500\n",
            "11/11 [==============================] - 0s 4ms/step - loss: 1.8002 - accuracy: 0.3333\n",
            "Epoch 63/500\n",
            "11/11 [==============================] - 0s 5ms/step - loss: 1.7937 - accuracy: 0.3333\n",
            "Epoch 64/500\n",
            "11/11 [==============================] - 0s 4ms/step - loss: 1.7792 - accuracy: 0.3333\n",
            "Epoch 65/500\n",
            "11/11 [==============================] - 0s 4ms/step - loss: 1.7712 - accuracy: 0.3333\n",
            "Epoch 66/500\n",
            "11/11 [==============================] - 0s 4ms/step - loss: 1.7730 - accuracy: 0.3333\n",
            "Epoch 67/500\n",
            "11/11 [==============================] - 0s 5ms/step - loss: 1.7612 - accuracy: 0.3333\n",
            "Epoch 68/500\n",
            "11/11 [==============================] - 0s 5ms/step - loss: 1.7436 - accuracy: 0.3137\n",
            "Epoch 69/500\n",
            "11/11 [==============================] - 0s 6ms/step - loss: 1.7522 - accuracy: 0.3333\n",
            "Epoch 70/500\n",
            "11/11 [==============================] - 0s 5ms/step - loss: 1.7406 - accuracy: 0.3137\n",
            "Epoch 71/500\n",
            "11/11 [==============================] - 0s 5ms/step - loss: 1.7239 - accuracy: 0.3529\n",
            "Epoch 72/500\n",
            "11/11 [==============================] - 0s 8ms/step - loss: 1.7219 - accuracy: 0.3137\n",
            "Epoch 73/500\n",
            "11/11 [==============================] - 0s 4ms/step - loss: 1.7168 - accuracy: 0.3137\n",
            "Epoch 74/500\n",
            "11/11 [==============================] - 0s 4ms/step - loss: 1.7067 - accuracy: 0.3922\n",
            "Epoch 75/500\n",
            "11/11 [==============================] - 0s 5ms/step - loss: 1.7076 - accuracy: 0.3725\n",
            "Epoch 76/500\n",
            "11/11 [==============================] - 0s 4ms/step - loss: 1.7090 - accuracy: 0.3922\n",
            "Epoch 77/500\n",
            "11/11 [==============================] - 0s 4ms/step - loss: 1.6831 - accuracy: 0.3725\n",
            "Epoch 78/500\n",
            "11/11 [==============================] - 0s 6ms/step - loss: 1.6881 - accuracy: 0.3137\n",
            "Epoch 79/500\n",
            "11/11 [==============================] - 0s 4ms/step - loss: 1.6897 - accuracy: 0.3137\n",
            "Epoch 80/500\n",
            "11/11 [==============================] - 0s 5ms/step - loss: 1.6911 - accuracy: 0.3922\n",
            "Epoch 81/500\n",
            "11/11 [==============================] - 0s 4ms/step - loss: 1.6823 - accuracy: 0.3529\n",
            "Epoch 82/500\n",
            "11/11 [==============================] - 0s 5ms/step - loss: 1.6697 - accuracy: 0.3333\n",
            "Epoch 83/500\n",
            "11/11 [==============================] - 0s 5ms/step - loss: 1.6554 - accuracy: 0.3725\n",
            "Epoch 84/500\n",
            "11/11 [==============================] - 0s 5ms/step - loss: 1.6618 - accuracy: 0.3725\n",
            "Epoch 85/500\n",
            "11/11 [==============================] - 0s 5ms/step - loss: 1.6696 - accuracy: 0.3725\n",
            "Epoch 86/500\n",
            "11/11 [==============================] - 0s 5ms/step - loss: 1.6517 - accuracy: 0.3922\n",
            "Epoch 87/500\n",
            "11/11 [==============================] - 0s 5ms/step - loss: 1.6443 - accuracy: 0.3529\n",
            "Epoch 88/500\n",
            "11/11 [==============================] - 0s 5ms/step - loss: 1.6460 - accuracy: 0.3137\n",
            "Epoch 89/500\n",
            "11/11 [==============================] - 0s 5ms/step - loss: 1.6394 - accuracy: 0.4314\n",
            "Epoch 90/500\n",
            "11/11 [==============================] - 0s 7ms/step - loss: 1.6588 - accuracy: 0.3333\n",
            "Epoch 91/500\n",
            "11/11 [==============================] - 0s 5ms/step - loss: 1.6528 - accuracy: 0.3333\n",
            "Epoch 92/500\n",
            "11/11 [==============================] - 0s 5ms/step - loss: 1.6710 - accuracy: 0.3922\n",
            "Epoch 93/500\n",
            "11/11 [==============================] - 0s 4ms/step - loss: 1.6405 - accuracy: 0.3922\n",
            "Epoch 94/500\n",
            "11/11 [==============================] - 0s 4ms/step - loss: 1.6450 - accuracy: 0.3137\n",
            "Epoch 95/500\n",
            "11/11 [==============================] - 0s 5ms/step - loss: 1.6220 - accuracy: 0.3922\n",
            "Epoch 96/500\n",
            "11/11 [==============================] - 0s 4ms/step - loss: 1.6530 - accuracy: 0.3529\n",
            "Epoch 97/500\n",
            "11/11 [==============================] - 0s 4ms/step - loss: 1.6070 - accuracy: 0.4118\n",
            "Epoch 98/500\n",
            "11/11 [==============================] - 0s 4ms/step - loss: 1.6207 - accuracy: 0.3137\n",
            "Epoch 99/500\n",
            "11/11 [==============================] - 0s 4ms/step - loss: 1.6123 - accuracy: 0.3529\n",
            "Epoch 100/500\n",
            "11/11 [==============================] - 0s 4ms/step - loss: 1.6285 - accuracy: 0.3529\n",
            "Epoch 101/500\n",
            "11/11 [==============================] - 0s 5ms/step - loss: 1.6570 - accuracy: 0.3725\n",
            "Epoch 102/500\n",
            "11/11 [==============================] - 0s 4ms/step - loss: 1.6071 - accuracy: 0.3725\n",
            "Epoch 103/500\n",
            "11/11 [==============================] - 0s 4ms/step - loss: 1.6401 - accuracy: 0.2941\n",
            "Epoch 104/500\n",
            "11/11 [==============================] - 0s 4ms/step - loss: 1.5968 - accuracy: 0.3725\n",
            "Epoch 105/500\n",
            "11/11 [==============================] - 0s 4ms/step - loss: 1.6483 - accuracy: 0.3922\n",
            "Epoch 106/500\n",
            "11/11 [==============================] - 0s 5ms/step - loss: 1.6051 - accuracy: 0.3725\n",
            "Epoch 107/500\n",
            "11/11 [==============================] - 0s 5ms/step - loss: 1.6053 - accuracy: 0.3529\n",
            "Epoch 108/500\n",
            "11/11 [==============================] - 0s 5ms/step - loss: 1.5975 - accuracy: 0.3529\n",
            "Epoch 109/500\n",
            "11/11 [==============================] - 0s 4ms/step - loss: 1.6009 - accuracy: 0.3725\n",
            "Epoch 110/500\n",
            "11/11 [==============================] - 0s 4ms/step - loss: 1.5889 - accuracy: 0.4118\n",
            "Epoch 111/500\n",
            "11/11 [==============================] - 0s 5ms/step - loss: 1.5937 - accuracy: 0.4118\n",
            "Epoch 112/500\n",
            "11/11 [==============================] - 0s 4ms/step - loss: 1.6004 - accuracy: 0.3922\n",
            "Epoch 113/500\n",
            "11/11 [==============================] - 0s 4ms/step - loss: 1.5957 - accuracy: 0.3725\n",
            "Epoch 114/500\n",
            "11/11 [==============================] - 0s 5ms/step - loss: 1.5813 - accuracy: 0.3725\n",
            "Epoch 115/500\n",
            "11/11 [==============================] - 0s 4ms/step - loss: 1.5862 - accuracy: 0.3922\n",
            "Epoch 116/500\n",
            "11/11 [==============================] - 0s 4ms/step - loss: 1.5923 - accuracy: 0.4118\n",
            "Epoch 117/500\n",
            "11/11 [==============================] - 0s 5ms/step - loss: 1.5725 - accuracy: 0.4118\n",
            "Epoch 118/500\n",
            "11/11 [==============================] - 0s 4ms/step - loss: 1.6288 - accuracy: 0.3333\n",
            "Epoch 119/500\n",
            "11/11 [==============================] - 0s 5ms/step - loss: 1.6304 - accuracy: 0.3333\n",
            "Epoch 120/500\n",
            "11/11 [==============================] - 0s 5ms/step - loss: 1.6100 - accuracy: 0.3725\n",
            "Epoch 121/500\n",
            "11/11 [==============================] - 0s 5ms/step - loss: 1.5764 - accuracy: 0.4314\n",
            "Epoch 122/500\n",
            "11/11 [==============================] - 0s 6ms/step - loss: 1.5850 - accuracy: 0.3922\n",
            "Epoch 123/500\n",
            "11/11 [==============================] - 0s 5ms/step - loss: 1.5704 - accuracy: 0.3922\n",
            "Epoch 124/500\n",
            "11/11 [==============================] - 0s 5ms/step - loss: 1.6023 - accuracy: 0.3922\n",
            "Epoch 125/500\n",
            "11/11 [==============================] - 0s 4ms/step - loss: 1.6017 - accuracy: 0.3922\n",
            "Epoch 126/500\n",
            "11/11 [==============================] - 0s 4ms/step - loss: 1.5755 - accuracy: 0.3922\n",
            "Epoch 127/500\n",
            "11/11 [==============================] - 0s 4ms/step - loss: 1.5869 - accuracy: 0.3137\n",
            "Epoch 128/500\n",
            "11/11 [==============================] - 0s 4ms/step - loss: 1.5776 - accuracy: 0.3333\n",
            "Epoch 129/500\n",
            "11/11 [==============================] - 0s 4ms/step - loss: 1.5867 - accuracy: 0.3137\n",
            "Epoch 130/500\n",
            "11/11 [==============================] - 0s 5ms/step - loss: 1.5965 - accuracy: 0.3922\n",
            "Epoch 131/500\n",
            "11/11 [==============================] - 0s 5ms/step - loss: 1.5775 - accuracy: 0.3529\n",
            "Epoch 132/500\n",
            "11/11 [==============================] - 0s 4ms/step - loss: 1.5837 - accuracy: 0.3137\n",
            "Epoch 133/500\n",
            "11/11 [==============================] - 0s 5ms/step - loss: 1.5738 - accuracy: 0.3529\n",
            "Epoch 134/500\n",
            "11/11 [==============================] - 0s 4ms/step - loss: 1.5837 - accuracy: 0.3529\n",
            "Epoch 135/500\n",
            "11/11 [==============================] - 0s 4ms/step - loss: 1.5686 - accuracy: 0.3922\n",
            "Epoch 136/500\n",
            "11/11 [==============================] - 0s 4ms/step - loss: 1.5878 - accuracy: 0.3137\n",
            "Epoch 137/500\n",
            "11/11 [==============================] - 0s 4ms/step - loss: 1.5400 - accuracy: 0.3922\n",
            "Epoch 138/500\n",
            "11/11 [==============================] - 0s 4ms/step - loss: 1.5885 - accuracy: 0.3725\n",
            "Epoch 139/500\n",
            "11/11 [==============================] - 0s 5ms/step - loss: 1.5726 - accuracy: 0.3922\n",
            "Epoch 140/500\n",
            "11/11 [==============================] - 0s 4ms/step - loss: 1.5582 - accuracy: 0.3529\n",
            "Epoch 141/500\n",
            "11/11 [==============================] - 0s 4ms/step - loss: 1.5548 - accuracy: 0.3529\n",
            "Epoch 142/500\n",
            "11/11 [==============================] - 0s 4ms/step - loss: 1.5593 - accuracy: 0.3725\n",
            "Epoch 143/500\n",
            "11/11 [==============================] - 0s 4ms/step - loss: 1.5547 - accuracy: 0.4118\n",
            "Epoch 144/500\n",
            "11/11 [==============================] - 0s 5ms/step - loss: 1.5630 - accuracy: 0.3529\n",
            "Epoch 145/500\n",
            "11/11 [==============================] - 0s 4ms/step - loss: 1.5564 - accuracy: 0.3725\n",
            "Epoch 146/500\n",
            "11/11 [==============================] - 0s 5ms/step - loss: 1.5562 - accuracy: 0.4118\n",
            "Epoch 147/500\n",
            "11/11 [==============================] - 0s 4ms/step - loss: 1.5720 - accuracy: 0.3333\n",
            "Epoch 148/500\n",
            "11/11 [==============================] - 0s 5ms/step - loss: 1.5568 - accuracy: 0.3922\n",
            "Epoch 149/500\n",
            "11/11 [==============================] - 0s 5ms/step - loss: 1.5664 - accuracy: 0.3333\n",
            "Epoch 150/500\n",
            "11/11 [==============================] - 0s 4ms/step - loss: 1.5522 - accuracy: 0.3725\n",
            "Epoch 151/500\n",
            "11/11 [==============================] - 0s 4ms/step - loss: 1.5425 - accuracy: 0.3922\n",
            "Epoch 152/500\n",
            "11/11 [==============================] - 0s 4ms/step - loss: 1.5615 - accuracy: 0.4118\n",
            "Epoch 153/500\n",
            "11/11 [==============================] - 0s 4ms/step - loss: 1.5586 - accuracy: 0.3529\n",
            "Epoch 154/500\n",
            "11/11 [==============================] - 0s 4ms/step - loss: 1.5420 - accuracy: 0.3725\n",
            "Epoch 155/500\n",
            "11/11 [==============================] - 0s 6ms/step - loss: 1.5532 - accuracy: 0.2941\n",
            "Epoch 156/500\n",
            "11/11 [==============================] - 0s 4ms/step - loss: 1.5565 - accuracy: 0.3529\n",
            "Epoch 157/500\n",
            "11/11 [==============================] - 0s 4ms/step - loss: 1.5396 - accuracy: 0.3922\n",
            "Epoch 158/500\n",
            "11/11 [==============================] - 0s 4ms/step - loss: 1.5552 - accuracy: 0.3529\n",
            "Epoch 159/500\n",
            "11/11 [==============================] - 0s 4ms/step - loss: 1.5673 - accuracy: 0.4314\n",
            "Epoch 160/500\n",
            "11/11 [==============================] - 0s 5ms/step - loss: 1.5391 - accuracy: 0.4118\n",
            "Epoch 161/500\n",
            "11/11 [==============================] - 0s 4ms/step - loss: 1.5722 - accuracy: 0.3725\n",
            "Epoch 162/500\n",
            "11/11 [==============================] - 0s 4ms/step - loss: 1.5483 - accuracy: 0.3529\n",
            "Epoch 163/500\n",
            "11/11 [==============================] - 0s 4ms/step - loss: 1.5418 - accuracy: 0.3922\n",
            "Epoch 164/500\n",
            "11/11 [==============================] - 0s 4ms/step - loss: 1.5624 - accuracy: 0.3333\n",
            "Epoch 165/500\n",
            "11/11 [==============================] - 0s 5ms/step - loss: 1.5582 - accuracy: 0.3529\n",
            "Epoch 166/500\n",
            "11/11 [==============================] - 0s 4ms/step - loss: 1.5409 - accuracy: 0.3725\n",
            "Epoch 167/500\n",
            "11/11 [==============================] - 0s 4ms/step - loss: 1.5496 - accuracy: 0.3333\n",
            "Epoch 168/500\n",
            "11/11 [==============================] - 0s 4ms/step - loss: 1.5433 - accuracy: 0.3529\n",
            "Epoch 169/500\n",
            "11/11 [==============================] - 0s 4ms/step - loss: 1.5311 - accuracy: 0.3529\n",
            "Epoch 170/500\n",
            "11/11 [==============================] - 0s 5ms/step - loss: 1.5284 - accuracy: 0.3725\n",
            "Epoch 171/500\n",
            "11/11 [==============================] - 0s 4ms/step - loss: 1.5383 - accuracy: 0.3529\n",
            "Epoch 172/500\n",
            "11/11 [==============================] - 0s 4ms/step - loss: 1.5251 - accuracy: 0.3725\n",
            "Epoch 173/500\n",
            "11/11 [==============================] - 0s 5ms/step - loss: 1.5360 - accuracy: 0.3922\n",
            "Epoch 174/500\n",
            "11/11 [==============================] - 0s 5ms/step - loss: 1.5284 - accuracy: 0.3725\n",
            "Epoch 175/500\n",
            "11/11 [==============================] - 0s 4ms/step - loss: 1.5441 - accuracy: 0.3725\n",
            "Epoch 176/500\n",
            "11/11 [==============================] - 0s 5ms/step - loss: 1.5368 - accuracy: 0.3725\n",
            "Epoch 177/500\n",
            "11/11 [==============================] - 0s 4ms/step - loss: 1.5438 - accuracy: 0.3725\n",
            "Epoch 178/500\n",
            "11/11 [==============================] - 0s 5ms/step - loss: 1.5246 - accuracy: 0.3725\n",
            "Epoch 179/500\n",
            "11/11 [==============================] - 0s 4ms/step - loss: 1.5429 - accuracy: 0.3725\n",
            "Epoch 180/500\n",
            "11/11 [==============================] - 0s 4ms/step - loss: 1.5502 - accuracy: 0.3725\n",
            "Epoch 181/500\n",
            "11/11 [==============================] - 0s 4ms/step - loss: 1.5269 - accuracy: 0.3922\n",
            "Epoch 182/500\n",
            "11/11 [==============================] - 0s 4ms/step - loss: 1.5359 - accuracy: 0.3333\n",
            "Epoch 183/500\n",
            "11/11 [==============================] - 0s 4ms/step - loss: 1.5466 - accuracy: 0.3529\n",
            "Epoch 184/500\n",
            "11/11 [==============================] - 0s 5ms/step - loss: 1.5514 - accuracy: 0.3922\n",
            "Epoch 185/500\n",
            "11/11 [==============================] - 0s 4ms/step - loss: 1.5322 - accuracy: 0.3137\n",
            "Epoch 186/500\n",
            "11/11 [==============================] - 0s 4ms/step - loss: 1.5280 - accuracy: 0.3922\n",
            "Epoch 187/500\n",
            "11/11 [==============================] - 0s 4ms/step - loss: 1.5275 - accuracy: 0.3725\n",
            "Epoch 188/500\n",
            "11/11 [==============================] - 0s 4ms/step - loss: 1.5273 - accuracy: 0.3529\n",
            "Epoch 189/500\n",
            "11/11 [==============================] - 0s 5ms/step - loss: 1.5185 - accuracy: 0.3725\n",
            "Epoch 190/500\n",
            "11/11 [==============================] - 0s 4ms/step - loss: 1.5228 - accuracy: 0.3922\n",
            "Epoch 191/500\n",
            "11/11 [==============================] - 0s 5ms/step - loss: 1.5439 - accuracy: 0.3529\n",
            "Epoch 192/500\n",
            "11/11 [==============================] - 0s 6ms/step - loss: 1.5363 - accuracy: 0.3137\n",
            "Epoch 193/500\n",
            "11/11 [==============================] - 0s 4ms/step - loss: 1.5151 - accuracy: 0.3725\n",
            "Epoch 194/500\n",
            "11/11 [==============================] - 0s 5ms/step - loss: 1.5224 - accuracy: 0.3529\n",
            "Epoch 195/500\n",
            "11/11 [==============================] - 0s 4ms/step - loss: 1.5511 - accuracy: 0.4510\n",
            "Epoch 196/500\n",
            "11/11 [==============================] - 0s 5ms/step - loss: 1.5040 - accuracy: 0.4118\n",
            "Epoch 197/500\n",
            "11/11 [==============================] - 0s 4ms/step - loss: 1.5352 - accuracy: 0.3725\n",
            "Epoch 198/500\n",
            "11/11 [==============================] - 0s 4ms/step - loss: 1.5269 - accuracy: 0.4118\n",
            "Epoch 199/500\n",
            "11/11 [==============================] - 0s 4ms/step - loss: 1.5181 - accuracy: 0.3922\n",
            "Epoch 200/500\n",
            "11/11 [==============================] - 0s 5ms/step - loss: 1.5189 - accuracy: 0.3725\n",
            "Epoch 201/500\n",
            "11/11 [==============================] - 0s 4ms/step - loss: 1.5084 - accuracy: 0.3333\n",
            "Epoch 202/500\n",
            "11/11 [==============================] - 0s 4ms/step - loss: 1.5143 - accuracy: 0.3725\n",
            "Epoch 203/500\n",
            "11/11 [==============================] - 0s 5ms/step - loss: 1.5220 - accuracy: 0.3333\n",
            "Epoch 204/500\n",
            "11/11 [==============================] - 0s 4ms/step - loss: 1.5375 - accuracy: 0.3922\n",
            "Epoch 205/500\n",
            "11/11 [==============================] - 0s 4ms/step - loss: 1.5121 - accuracy: 0.4510\n",
            "Epoch 206/500\n",
            "11/11 [==============================] - 0s 4ms/step - loss: 1.5120 - accuracy: 0.3922\n",
            "Epoch 207/500\n",
            "11/11 [==============================] - 0s 5ms/step - loss: 1.5141 - accuracy: 0.3922\n",
            "Epoch 208/500\n",
            "11/11 [==============================] - 0s 5ms/step - loss: 1.5220 - accuracy: 0.3529\n",
            "Epoch 209/500\n",
            "11/11 [==============================] - 0s 4ms/step - loss: 1.5037 - accuracy: 0.4118\n",
            "Epoch 210/500\n",
            "11/11 [==============================] - 0s 5ms/step - loss: 1.5095 - accuracy: 0.4118\n",
            "Epoch 211/500\n",
            "11/11 [==============================] - 0s 4ms/step - loss: 1.5234 - accuracy: 0.4118\n",
            "Epoch 212/500\n",
            "11/11 [==============================] - 0s 5ms/step - loss: 1.5296 - accuracy: 0.3922\n",
            "Epoch 213/500\n",
            "11/11 [==============================] - 0s 5ms/step - loss: 1.5000 - accuracy: 0.3922\n",
            "Epoch 214/500\n",
            "11/11 [==============================] - 0s 5ms/step - loss: 1.5063 - accuracy: 0.3725\n",
            "Epoch 215/500\n",
            "11/11 [==============================] - 0s 4ms/step - loss: 1.5047 - accuracy: 0.3725\n",
            "Epoch 216/500\n",
            "11/11 [==============================] - 0s 4ms/step - loss: 1.5118 - accuracy: 0.3922\n",
            "Epoch 217/500\n",
            "11/11 [==============================] - 0s 5ms/step - loss: 1.5010 - accuracy: 0.4118\n",
            "Epoch 218/500\n",
            "11/11 [==============================] - 0s 5ms/step - loss: 1.5011 - accuracy: 0.4118\n",
            "Epoch 219/500\n",
            "11/11 [==============================] - 0s 4ms/step - loss: 1.5060 - accuracy: 0.3922\n",
            "Epoch 220/500\n",
            "11/11 [==============================] - 0s 4ms/step - loss: 1.4932 - accuracy: 0.3922\n",
            "Epoch 221/500\n",
            "11/11 [==============================] - 0s 4ms/step - loss: 1.4883 - accuracy: 0.4118\n",
            "Epoch 222/500\n",
            "11/11 [==============================] - 0s 5ms/step - loss: 1.4881 - accuracy: 0.3529\n",
            "Epoch 223/500\n",
            "11/11 [==============================] - 0s 4ms/step - loss: 1.5122 - accuracy: 0.3529\n",
            "Epoch 224/500\n",
            "11/11 [==============================] - 0s 4ms/step - loss: 1.5002 - accuracy: 0.3529\n",
            "Epoch 225/500\n",
            "11/11 [==============================] - 0s 4ms/step - loss: 1.4940 - accuracy: 0.3529\n",
            "Epoch 226/500\n",
            "11/11 [==============================] - 0s 5ms/step - loss: 1.5012 - accuracy: 0.3725\n",
            "Epoch 227/500\n",
            "11/11 [==============================] - 0s 4ms/step - loss: 1.4944 - accuracy: 0.3922\n",
            "Epoch 228/500\n",
            "11/11 [==============================] - 0s 5ms/step - loss: 1.4923 - accuracy: 0.3529\n",
            "Epoch 229/500\n",
            "11/11 [==============================] - 0s 6ms/step - loss: 1.5021 - accuracy: 0.3529\n",
            "Epoch 230/500\n",
            "11/11 [==============================] - 0s 4ms/step - loss: 1.4872 - accuracy: 0.3333\n",
            "Epoch 231/500\n",
            "11/11 [==============================] - 0s 5ms/step - loss: 1.4945 - accuracy: 0.3725\n",
            "Epoch 232/500\n",
            "11/11 [==============================] - 0s 4ms/step - loss: 1.4932 - accuracy: 0.3529\n",
            "Epoch 233/500\n",
            "11/11 [==============================] - 0s 5ms/step - loss: 1.5004 - accuracy: 0.3333\n",
            "Epoch 234/500\n",
            "11/11 [==============================] - 0s 4ms/step - loss: 1.4913 - accuracy: 0.4118\n",
            "Epoch 235/500\n",
            "11/11 [==============================] - 0s 5ms/step - loss: 1.4898 - accuracy: 0.4118\n",
            "Epoch 236/500\n",
            "11/11 [==============================] - 0s 4ms/step - loss: 1.5061 - accuracy: 0.3922\n",
            "Epoch 237/500\n",
            "11/11 [==============================] - 0s 4ms/step - loss: 1.4870 - accuracy: 0.3529\n",
            "Epoch 238/500\n",
            "11/11 [==============================] - 0s 6ms/step - loss: 1.4893 - accuracy: 0.3529\n",
            "Epoch 239/500\n",
            "11/11 [==============================] - 0s 5ms/step - loss: 1.4859 - accuracy: 0.3529\n",
            "Epoch 240/500\n",
            "11/11 [==============================] - 0s 4ms/step - loss: 1.5067 - accuracy: 0.3529\n",
            "Epoch 241/500\n",
            "11/11 [==============================] - 0s 5ms/step - loss: 1.4858 - accuracy: 0.3333\n",
            "Epoch 242/500\n",
            "11/11 [==============================] - 0s 5ms/step - loss: 1.4853 - accuracy: 0.3333\n",
            "Epoch 243/500\n",
            "11/11 [==============================] - 0s 5ms/step - loss: 1.4874 - accuracy: 0.3922\n",
            "Epoch 244/500\n",
            "11/11 [==============================] - 0s 6ms/step - loss: 1.4858 - accuracy: 0.4118\n",
            "Epoch 245/500\n",
            "11/11 [==============================] - 0s 4ms/step - loss: 1.4779 - accuracy: 0.3333\n",
            "Epoch 246/500\n",
            "11/11 [==============================] - 0s 5ms/step - loss: 1.4795 - accuracy: 0.3725\n",
            "Epoch 247/500\n",
            "11/11 [==============================] - 0s 5ms/step - loss: 1.4894 - accuracy: 0.3725\n",
            "Epoch 248/500\n",
            "11/11 [==============================] - 0s 5ms/step - loss: 1.4808 - accuracy: 0.3333\n",
            "Epoch 249/500\n",
            "11/11 [==============================] - 0s 4ms/step - loss: 1.4779 - accuracy: 0.3529\n",
            "Epoch 250/500\n",
            "11/11 [==============================] - 0s 4ms/step - loss: 1.4849 - accuracy: 0.3333\n",
            "Epoch 251/500\n",
            "11/11 [==============================] - 0s 6ms/step - loss: 1.4731 - accuracy: 0.3333\n",
            "Epoch 252/500\n",
            "11/11 [==============================] - 0s 5ms/step - loss: 1.4574 - accuracy: 0.3333\n",
            "Epoch 253/500\n",
            "11/11 [==============================] - 0s 5ms/step - loss: 1.4706 - accuracy: 0.3529\n",
            "Epoch 254/500\n",
            "11/11 [==============================] - 0s 4ms/step - loss: 1.4726 - accuracy: 0.3725\n",
            "Epoch 255/500\n",
            "11/11 [==============================] - 0s 5ms/step - loss: 1.4709 - accuracy: 0.4314\n",
            "Epoch 256/500\n",
            "11/11 [==============================] - 0s 5ms/step - loss: 1.4688 - accuracy: 0.3922\n",
            "Epoch 257/500\n",
            "11/11 [==============================] - 0s 5ms/step - loss: 1.4674 - accuracy: 0.3922\n",
            "Epoch 258/500\n",
            "11/11 [==============================] - 0s 4ms/step - loss: 1.4608 - accuracy: 0.3922\n",
            "Epoch 259/500\n",
            "11/11 [==============================] - 0s 4ms/step - loss: 1.4630 - accuracy: 0.3922\n",
            "Epoch 260/500\n",
            "11/11 [==============================] - 0s 5ms/step - loss: 1.4927 - accuracy: 0.3922\n",
            "Epoch 261/500\n",
            "11/11 [==============================] - 0s 4ms/step - loss: 1.4571 - accuracy: 0.3922\n",
            "Epoch 262/500\n",
            "11/11 [==============================] - 0s 5ms/step - loss: 1.4746 - accuracy: 0.3725\n",
            "Epoch 263/500\n",
            "11/11 [==============================] - 0s 5ms/step - loss: 1.4634 - accuracy: 0.3922\n",
            "Epoch 264/500\n",
            "11/11 [==============================] - 0s 4ms/step - loss: 1.4819 - accuracy: 0.3922\n",
            "Epoch 265/500\n",
            "11/11 [==============================] - 0s 5ms/step - loss: 1.4552 - accuracy: 0.4118\n",
            "Epoch 266/500\n",
            "11/11 [==============================] - 0s 5ms/step - loss: 1.4569 - accuracy: 0.3529\n",
            "Epoch 267/500\n",
            "11/11 [==============================] - 0s 5ms/step - loss: 1.4575 - accuracy: 0.4314\n",
            "Epoch 268/500\n",
            "11/11 [==============================] - 0s 5ms/step - loss: 1.4741 - accuracy: 0.3725\n",
            "Epoch 269/500\n",
            "11/11 [==============================] - 0s 5ms/step - loss: 1.4726 - accuracy: 0.4118\n",
            "Epoch 270/500\n",
            "11/11 [==============================] - 0s 5ms/step - loss: 1.4651 - accuracy: 0.3922\n",
            "Epoch 271/500\n",
            "11/11 [==============================] - 0s 5ms/step - loss: 1.4565 - accuracy: 0.4510\n",
            "Epoch 272/500\n",
            "11/11 [==============================] - 0s 4ms/step - loss: 1.4563 - accuracy: 0.3725\n",
            "Epoch 273/500\n",
            "11/11 [==============================] - 0s 5ms/step - loss: 1.4668 - accuracy: 0.3725\n",
            "Epoch 274/500\n",
            "11/11 [==============================] - 0s 5ms/step - loss: 1.4512 - accuracy: 0.3529\n",
            "Epoch 275/500\n",
            "11/11 [==============================] - 0s 5ms/step - loss: 1.4515 - accuracy: 0.3725\n",
            "Epoch 276/500\n",
            "11/11 [==============================] - 0s 5ms/step - loss: 1.4472 - accuracy: 0.4118\n",
            "Epoch 277/500\n",
            "11/11 [==============================] - 0s 5ms/step - loss: 1.4480 - accuracy: 0.3922\n",
            "Epoch 278/500\n",
            "11/11 [==============================] - 0s 4ms/step - loss: 1.4358 - accuracy: 0.4118\n",
            "Epoch 279/500\n",
            "11/11 [==============================] - 0s 4ms/step - loss: 1.4482 - accuracy: 0.3725\n",
            "Epoch 280/500\n",
            "11/11 [==============================] - 0s 5ms/step - loss: 1.4337 - accuracy: 0.4314\n",
            "Epoch 281/500\n",
            "11/11 [==============================] - 0s 4ms/step - loss: 1.4567 - accuracy: 0.3725\n",
            "Epoch 282/500\n",
            "11/11 [==============================] - 0s 5ms/step - loss: 1.4723 - accuracy: 0.3922\n",
            "Epoch 283/500\n",
            "11/11 [==============================] - 0s 6ms/step - loss: 1.4273 - accuracy: 0.4510\n",
            "Epoch 284/500\n",
            "11/11 [==============================] - 0s 6ms/step - loss: 1.4536 - accuracy: 0.4510\n",
            "Epoch 285/500\n",
            "11/11 [==============================] - 0s 4ms/step - loss: 1.4585 - accuracy: 0.4118\n",
            "Epoch 286/500\n",
            "11/11 [==============================] - 0s 5ms/step - loss: 1.4083 - accuracy: 0.4118\n",
            "Epoch 287/500\n",
            "11/11 [==============================] - 0s 4ms/step - loss: 1.4425 - accuracy: 0.4118\n",
            "Epoch 288/500\n",
            "11/11 [==============================] - 0s 4ms/step - loss: 1.4282 - accuracy: 0.3725\n",
            "Epoch 289/500\n",
            "11/11 [==============================] - 0s 5ms/step - loss: 1.4338 - accuracy: 0.3922\n",
            "Epoch 290/500\n",
            "11/11 [==============================] - 0s 5ms/step - loss: 1.4165 - accuracy: 0.3922\n",
            "Epoch 291/500\n",
            "11/11 [==============================] - 0s 4ms/step - loss: 1.4232 - accuracy: 0.3725\n",
            "Epoch 292/500\n",
            "11/11 [==============================] - 0s 5ms/step - loss: 1.4384 - accuracy: 0.3922\n",
            "Epoch 293/500\n",
            "11/11 [==============================] - 0s 5ms/step - loss: 1.4349 - accuracy: 0.3922\n",
            "Epoch 294/500\n",
            "11/11 [==============================] - 0s 4ms/step - loss: 1.4408 - accuracy: 0.3725\n",
            "Epoch 295/500\n",
            "11/11 [==============================] - 0s 4ms/step - loss: 1.4357 - accuracy: 0.3922\n",
            "Epoch 296/500\n",
            "11/11 [==============================] - 0s 5ms/step - loss: 1.4209 - accuracy: 0.4118\n",
            "Epoch 297/500\n",
            "11/11 [==============================] - 0s 4ms/step - loss: 1.4220 - accuracy: 0.3725\n",
            "Epoch 298/500\n",
            "11/11 [==============================] - 0s 5ms/step - loss: 1.4148 - accuracy: 0.3725\n",
            "Epoch 299/500\n",
            "11/11 [==============================] - 0s 6ms/step - loss: 1.4126 - accuracy: 0.3529\n",
            "Epoch 300/500\n",
            "11/11 [==============================] - 0s 4ms/step - loss: 1.4042 - accuracy: 0.3529\n",
            "Epoch 301/500\n",
            "11/11 [==============================] - 0s 6ms/step - loss: 1.4125 - accuracy: 0.4118\n",
            "Epoch 302/500\n",
            "11/11 [==============================] - 0s 5ms/step - loss: 1.4279 - accuracy: 0.4118\n",
            "Epoch 303/500\n",
            "11/11 [==============================] - 0s 4ms/step - loss: 1.4240 - accuracy: 0.3922\n",
            "Epoch 304/500\n",
            "11/11 [==============================] - 0s 5ms/step - loss: 1.4085 - accuracy: 0.3725\n",
            "Epoch 305/500\n",
            "11/11 [==============================] - 0s 4ms/step - loss: 1.3996 - accuracy: 0.4118\n",
            "Epoch 306/500\n",
            "11/11 [==============================] - 0s 4ms/step - loss: 1.4047 - accuracy: 0.4314\n",
            "Epoch 307/500\n",
            "11/11 [==============================] - 0s 5ms/step - loss: 1.4133 - accuracy: 0.4118\n",
            "Epoch 308/500\n",
            "11/11 [==============================] - 0s 5ms/step - loss: 1.4149 - accuracy: 0.4314\n",
            "Epoch 309/500\n",
            "11/11 [==============================] - 0s 6ms/step - loss: 1.3948 - accuracy: 0.3725\n",
            "Epoch 310/500\n",
            "11/11 [==============================] - 0s 5ms/step - loss: 1.4153 - accuracy: 0.4314\n",
            "Epoch 311/500\n",
            "11/11 [==============================] - 0s 5ms/step - loss: 1.4426 - accuracy: 0.4314\n",
            "Epoch 312/500\n",
            "11/11 [==============================] - 0s 6ms/step - loss: 1.4118 - accuracy: 0.4118\n",
            "Epoch 313/500\n",
            "11/11 [==============================] - 0s 5ms/step - loss: 1.3846 - accuracy: 0.4118\n",
            "Epoch 314/500\n",
            "11/11 [==============================] - 0s 5ms/step - loss: 1.4023 - accuracy: 0.4118\n",
            "Epoch 315/500\n",
            "11/11 [==============================] - 0s 6ms/step - loss: 1.3913 - accuracy: 0.4706\n",
            "Epoch 316/500\n",
            "11/11 [==============================] - 0s 4ms/step - loss: 1.3940 - accuracy: 0.4314\n",
            "Epoch 317/500\n",
            "11/11 [==============================] - 0s 4ms/step - loss: 1.3777 - accuracy: 0.3922\n",
            "Epoch 318/500\n",
            "11/11 [==============================] - 0s 4ms/step - loss: 1.3984 - accuracy: 0.4314\n",
            "Epoch 319/500\n",
            "11/11 [==============================] - 0s 4ms/step - loss: 1.3946 - accuracy: 0.4314\n",
            "Epoch 320/500\n",
            "11/11 [==============================] - 0s 6ms/step - loss: 1.3686 - accuracy: 0.4118\n",
            "Epoch 321/500\n",
            "11/11 [==============================] - 0s 5ms/step - loss: 1.3904 - accuracy: 0.3922\n",
            "Epoch 322/500\n",
            "11/11 [==============================] - 0s 4ms/step - loss: 1.3710 - accuracy: 0.4118\n",
            "Epoch 323/500\n",
            "11/11 [==============================] - 0s 5ms/step - loss: 1.3642 - accuracy: 0.4118\n",
            "Epoch 324/500\n",
            "11/11 [==============================] - 0s 5ms/step - loss: 1.3646 - accuracy: 0.3529\n",
            "Epoch 325/500\n",
            "11/11 [==============================] - 0s 4ms/step - loss: 1.3854 - accuracy: 0.4706\n",
            "Epoch 326/500\n",
            "11/11 [==============================] - 0s 5ms/step - loss: 1.3622 - accuracy: 0.4510\n",
            "Epoch 327/500\n",
            "11/11 [==============================] - 0s 4ms/step - loss: 1.3652 - accuracy: 0.3725\n",
            "Epoch 328/500\n",
            "11/11 [==============================] - 0s 4ms/step - loss: 1.3579 - accuracy: 0.4314\n",
            "Epoch 329/500\n",
            "11/11 [==============================] - 0s 5ms/step - loss: 1.3750 - accuracy: 0.4314\n",
            "Epoch 330/500\n",
            "11/11 [==============================] - 0s 5ms/step - loss: 1.3982 - accuracy: 0.3922\n",
            "Epoch 331/500\n",
            "11/11 [==============================] - 0s 4ms/step - loss: 1.3594 - accuracy: 0.3725\n",
            "Epoch 332/500\n",
            "11/11 [==============================] - 0s 4ms/step - loss: 1.3470 - accuracy: 0.3922\n",
            "Epoch 333/500\n",
            "11/11 [==============================] - 0s 4ms/step - loss: 1.3671 - accuracy: 0.4706\n",
            "Epoch 334/500\n",
            "11/11 [==============================] - 0s 4ms/step - loss: 1.3562 - accuracy: 0.3922\n",
            "Epoch 335/500\n",
            "11/11 [==============================] - 0s 5ms/step - loss: 1.4296 - accuracy: 0.3725\n",
            "Epoch 336/500\n",
            "11/11 [==============================] - 0s 5ms/step - loss: 1.3821 - accuracy: 0.3922\n",
            "Epoch 337/500\n",
            "11/11 [==============================] - 0s 5ms/step - loss: 1.3554 - accuracy: 0.4510\n",
            "Epoch 338/500\n",
            "11/11 [==============================] - 0s 6ms/step - loss: 1.3416 - accuracy: 0.4314\n",
            "Epoch 339/500\n",
            "11/11 [==============================] - 0s 6ms/step - loss: 1.3492 - accuracy: 0.4118\n",
            "Epoch 340/500\n",
            "11/11 [==============================] - 0s 5ms/step - loss: 1.3456 - accuracy: 0.4314\n",
            "Epoch 341/500\n",
            "11/11 [==============================] - 0s 5ms/step - loss: 1.3336 - accuracy: 0.4118\n",
            "Epoch 342/500\n",
            "11/11 [==============================] - 0s 5ms/step - loss: 1.3354 - accuracy: 0.4118\n",
            "Epoch 343/500\n",
            "11/11 [==============================] - 0s 4ms/step - loss: 1.3348 - accuracy: 0.4510\n",
            "Epoch 344/500\n",
            "11/11 [==============================] - 0s 5ms/step - loss: 1.3379 - accuracy: 0.4706\n",
            "Epoch 345/500\n",
            "11/11 [==============================] - 0s 4ms/step - loss: 1.3256 - accuracy: 0.4510\n",
            "Epoch 346/500\n",
            "11/11 [==============================] - 0s 5ms/step - loss: 1.3291 - accuracy: 0.3922\n",
            "Epoch 347/500\n",
            "11/11 [==============================] - 0s 5ms/step - loss: 1.3248 - accuracy: 0.3922\n",
            "Epoch 348/500\n",
            "11/11 [==============================] - 0s 4ms/step - loss: 1.3178 - accuracy: 0.4706\n",
            "Epoch 349/500\n",
            "11/11 [==============================] - 0s 5ms/step - loss: 1.3158 - accuracy: 0.4314\n",
            "Epoch 350/500\n",
            "11/11 [==============================] - 0s 4ms/step - loss: 1.3453 - accuracy: 0.3922\n",
            "Epoch 351/500\n",
            "11/11 [==============================] - 0s 5ms/step - loss: 1.3062 - accuracy: 0.4902\n",
            "Epoch 352/500\n",
            "11/11 [==============================] - 0s 5ms/step - loss: 1.3353 - accuracy: 0.4706\n",
            "Epoch 353/500\n",
            "11/11 [==============================] - 0s 4ms/step - loss: 1.3152 - accuracy: 0.4510\n",
            "Epoch 354/500\n",
            "11/11 [==============================] - 0s 5ms/step - loss: 1.3016 - accuracy: 0.4902\n",
            "Epoch 355/500\n",
            "11/11 [==============================] - 0s 5ms/step - loss: 1.3426 - accuracy: 0.4314\n",
            "Epoch 356/500\n",
            "11/11 [==============================] - 0s 4ms/step - loss: 1.3020 - accuracy: 0.4706\n",
            "Epoch 357/500\n",
            "11/11 [==============================] - 0s 4ms/step - loss: 1.3349 - accuracy: 0.4118\n",
            "Epoch 358/500\n",
            "11/11 [==============================] - 0s 5ms/step - loss: 1.2931 - accuracy: 0.4902\n",
            "Epoch 359/500\n",
            "11/11 [==============================] - 0s 5ms/step - loss: 1.2981 - accuracy: 0.5490\n",
            "Epoch 360/500\n",
            "11/11 [==============================] - 0s 4ms/step - loss: 1.3120 - accuracy: 0.4510\n",
            "Epoch 361/500\n",
            "11/11 [==============================] - 0s 4ms/step - loss: 1.2804 - accuracy: 0.5294\n",
            "Epoch 362/500\n",
            "11/11 [==============================] - 0s 4ms/step - loss: 1.2740 - accuracy: 0.5098\n",
            "Epoch 363/500\n",
            "11/11 [==============================] - 0s 5ms/step - loss: 1.2748 - accuracy: 0.4902\n",
            "Epoch 364/500\n",
            "11/11 [==============================] - 0s 5ms/step - loss: 1.2875 - accuracy: 0.4902\n",
            "Epoch 365/500\n",
            "11/11 [==============================] - 0s 4ms/step - loss: 1.3309 - accuracy: 0.3922\n",
            "Epoch 366/500\n",
            "11/11 [==============================] - 0s 4ms/step - loss: 1.2818 - accuracy: 0.4510\n",
            "Epoch 367/500\n",
            "11/11 [==============================] - 0s 4ms/step - loss: 1.3063 - accuracy: 0.3725\n",
            "Epoch 368/500\n",
            "11/11 [==============================] - 0s 4ms/step - loss: 1.2698 - accuracy: 0.4706\n",
            "Epoch 369/500\n",
            "11/11 [==============================] - 0s 6ms/step - loss: 1.2799 - accuracy: 0.4706\n",
            "Epoch 370/500\n",
            "11/11 [==============================] - 0s 4ms/step - loss: 1.2818 - accuracy: 0.4902\n",
            "Epoch 371/500\n",
            "11/11 [==============================] - 0s 5ms/step - loss: 1.2585 - accuracy: 0.5490\n",
            "Epoch 372/500\n",
            "11/11 [==============================] - 0s 5ms/step - loss: 1.2701 - accuracy: 0.4510\n",
            "Epoch 373/500\n",
            "11/11 [==============================] - 0s 5ms/step - loss: 1.2746 - accuracy: 0.4510\n",
            "Epoch 374/500\n",
            "11/11 [==============================] - 0s 6ms/step - loss: 1.2720 - accuracy: 0.4314\n",
            "Epoch 375/500\n",
            "11/11 [==============================] - 0s 5ms/step - loss: 1.2758 - accuracy: 0.4902\n",
            "Epoch 376/500\n",
            "11/11 [==============================] - 0s 5ms/step - loss: 1.2603 - accuracy: 0.5098\n",
            "Epoch 377/500\n",
            "11/11 [==============================] - 0s 5ms/step - loss: 1.2649 - accuracy: 0.4902\n",
            "Epoch 378/500\n",
            "11/11 [==============================] - 0s 7ms/step - loss: 1.2657 - accuracy: 0.4706\n",
            "Epoch 379/500\n",
            "11/11 [==============================] - 0s 5ms/step - loss: 1.2355 - accuracy: 0.5098\n",
            "Epoch 380/500\n",
            "11/11 [==============================] - 0s 5ms/step - loss: 1.2610 - accuracy: 0.4510\n",
            "Epoch 381/500\n",
            "11/11 [==============================] - 0s 5ms/step - loss: 1.2631 - accuracy: 0.4902\n",
            "Epoch 382/500\n",
            "11/11 [==============================] - 0s 5ms/step - loss: 1.2414 - accuracy: 0.4510\n",
            "Epoch 383/500\n",
            "11/11 [==============================] - 0s 6ms/step - loss: 1.2652 - accuracy: 0.4706\n",
            "Epoch 384/500\n",
            "11/11 [==============================] - 0s 4ms/step - loss: 1.2422 - accuracy: 0.5294\n",
            "Epoch 385/500\n",
            "11/11 [==============================] - 0s 6ms/step - loss: 1.2423 - accuracy: 0.4510\n",
            "Epoch 386/500\n",
            "11/11 [==============================] - 0s 5ms/step - loss: 1.2434 - accuracy: 0.4902\n",
            "Epoch 387/500\n",
            "11/11 [==============================] - 0s 7ms/step - loss: 1.2388 - accuracy: 0.5098\n",
            "Epoch 388/500\n",
            "11/11 [==============================] - 0s 5ms/step - loss: 1.2704 - accuracy: 0.5490\n",
            "Epoch 389/500\n",
            "11/11 [==============================] - 0s 5ms/step - loss: 1.2380 - accuracy: 0.5098\n",
            "Epoch 390/500\n",
            "11/11 [==============================] - 0s 6ms/step - loss: 1.2283 - accuracy: 0.5490\n",
            "Epoch 391/500\n",
            "11/11 [==============================] - 0s 5ms/step - loss: 1.2158 - accuracy: 0.4902\n",
            "Epoch 392/500\n",
            "11/11 [==============================] - 0s 5ms/step - loss: 1.2293 - accuracy: 0.5294\n",
            "Epoch 393/500\n",
            "11/11 [==============================] - 0s 5ms/step - loss: 1.2110 - accuracy: 0.5098\n",
            "Epoch 394/500\n",
            "11/11 [==============================] - 0s 6ms/step - loss: 1.2468 - accuracy: 0.4902\n",
            "Epoch 395/500\n",
            "11/11 [==============================] - 0s 5ms/step - loss: 1.2144 - accuracy: 0.4902\n",
            "Epoch 396/500\n",
            "11/11 [==============================] - 0s 6ms/step - loss: 1.2420 - accuracy: 0.4706\n",
            "Epoch 397/500\n",
            "11/11 [==============================] - 0s 4ms/step - loss: 1.2100 - accuracy: 0.4706\n",
            "Epoch 398/500\n",
            "11/11 [==============================] - 0s 5ms/step - loss: 1.2239 - accuracy: 0.5098\n",
            "Epoch 399/500\n",
            "11/11 [==============================] - 0s 4ms/step - loss: 1.2203 - accuracy: 0.4902\n",
            "Epoch 400/500\n",
            "11/11 [==============================] - 0s 5ms/step - loss: 1.2153 - accuracy: 0.4902\n",
            "Epoch 401/500\n",
            "11/11 [==============================] - 0s 6ms/step - loss: 1.2318 - accuracy: 0.4902\n",
            "Epoch 402/500\n",
            "11/11 [==============================] - 0s 5ms/step - loss: 1.2206 - accuracy: 0.5098\n",
            "Epoch 403/500\n",
            "11/11 [==============================] - 0s 5ms/step - loss: 1.2127 - accuracy: 0.4706\n",
            "Epoch 404/500\n",
            "11/11 [==============================] - 0s 4ms/step - loss: 1.2135 - accuracy: 0.5294\n",
            "Epoch 405/500\n",
            "11/11 [==============================] - 0s 6ms/step - loss: 1.2454 - accuracy: 0.4902\n",
            "Epoch 406/500\n",
            "11/11 [==============================] - 0s 5ms/step - loss: 1.2257 - accuracy: 0.4706\n",
            "Epoch 407/500\n",
            "11/11 [==============================] - 0s 5ms/step - loss: 1.2086 - accuracy: 0.5098\n",
            "Epoch 408/500\n",
            "11/11 [==============================] - 0s 4ms/step - loss: 1.2040 - accuracy: 0.4510\n",
            "Epoch 409/500\n",
            "11/11 [==============================] - 0s 5ms/step - loss: 1.1881 - accuracy: 0.4902\n",
            "Epoch 410/500\n",
            "11/11 [==============================] - 0s 4ms/step - loss: 1.1944 - accuracy: 0.5490\n",
            "Epoch 411/500\n",
            "11/11 [==============================] - 0s 5ms/step - loss: 1.2097 - accuracy: 0.5490\n",
            "Epoch 412/500\n",
            "11/11 [==============================] - 0s 5ms/step - loss: 1.2381 - accuracy: 0.4510\n",
            "Epoch 413/500\n",
            "11/11 [==============================] - 0s 6ms/step - loss: 1.2016 - accuracy: 0.4902\n",
            "Epoch 414/500\n",
            "11/11 [==============================] - 0s 8ms/step - loss: 1.2071 - accuracy: 0.5686\n",
            "Epoch 415/500\n",
            "11/11 [==============================] - 0s 4ms/step - loss: 1.2009 - accuracy: 0.5294\n",
            "Epoch 416/500\n",
            "11/11 [==============================] - 0s 5ms/step - loss: 1.1796 - accuracy: 0.5098\n",
            "Epoch 417/500\n",
            "11/11 [==============================] - 0s 5ms/step - loss: 1.1797 - accuracy: 0.5098\n",
            "Epoch 418/500\n",
            "11/11 [==============================] - 0s 5ms/step - loss: 1.1883 - accuracy: 0.5294\n",
            "Epoch 419/500\n",
            "11/11 [==============================] - 0s 5ms/step - loss: 1.1749 - accuracy: 0.5098\n",
            "Epoch 420/500\n",
            "11/11 [==============================] - 0s 6ms/step - loss: 1.1901 - accuracy: 0.5490\n",
            "Epoch 421/500\n",
            "11/11 [==============================] - 0s 5ms/step - loss: 1.1801 - accuracy: 0.5098\n",
            "Epoch 422/500\n",
            "11/11 [==============================] - 0s 5ms/step - loss: 1.1602 - accuracy: 0.5098\n",
            "Epoch 423/500\n",
            "11/11 [==============================] - 0s 5ms/step - loss: 1.1820 - accuracy: 0.4510\n",
            "Epoch 424/500\n",
            "11/11 [==============================] - 0s 4ms/step - loss: 1.1951 - accuracy: 0.4510\n",
            "Epoch 425/500\n",
            "11/11 [==============================] - 0s 5ms/step - loss: 1.2265 - accuracy: 0.4902\n",
            "Epoch 426/500\n",
            "11/11 [==============================] - 0s 5ms/step - loss: 1.1659 - accuracy: 0.4902\n",
            "Epoch 427/500\n",
            "11/11 [==============================] - 0s 5ms/step - loss: 1.1845 - accuracy: 0.5294\n",
            "Epoch 428/500\n",
            "11/11 [==============================] - 0s 5ms/step - loss: 1.1836 - accuracy: 0.4902\n",
            "Epoch 429/500\n",
            "11/11 [==============================] - 0s 6ms/step - loss: 1.1999 - accuracy: 0.4902\n",
            "Epoch 430/500\n",
            "11/11 [==============================] - 0s 5ms/step - loss: 1.2124 - accuracy: 0.5098\n",
            "Epoch 431/500\n",
            "11/11 [==============================] - 0s 5ms/step - loss: 1.1887 - accuracy: 0.4902\n",
            "Epoch 432/500\n",
            "11/11 [==============================] - 0s 6ms/step - loss: 1.1526 - accuracy: 0.5686\n",
            "Epoch 433/500\n",
            "11/11 [==============================] - 0s 6ms/step - loss: 1.1611 - accuracy: 0.4706\n",
            "Epoch 434/500\n",
            "11/11 [==============================] - 0s 4ms/step - loss: 1.1706 - accuracy: 0.4706\n",
            "Epoch 435/500\n",
            "11/11 [==============================] - 0s 7ms/step - loss: 1.1759 - accuracy: 0.5686\n",
            "Epoch 436/500\n",
            "11/11 [==============================] - 0s 5ms/step - loss: 1.1489 - accuracy: 0.4706\n",
            "Epoch 437/500\n",
            "11/11 [==============================] - 0s 5ms/step - loss: 1.1550 - accuracy: 0.5294\n",
            "Epoch 438/500\n",
            "11/11 [==============================] - 0s 5ms/step - loss: 1.1557 - accuracy: 0.4902\n",
            "Epoch 439/500\n",
            "11/11 [==============================] - 0s 5ms/step - loss: 1.1513 - accuracy: 0.5294\n",
            "Epoch 440/500\n",
            "11/11 [==============================] - 0s 5ms/step - loss: 1.1627 - accuracy: 0.5686\n",
            "Epoch 441/500\n",
            "11/11 [==============================] - 0s 5ms/step - loss: 1.1577 - accuracy: 0.5882\n",
            "Epoch 442/500\n",
            "11/11 [==============================] - 0s 5ms/step - loss: 1.1578 - accuracy: 0.4902\n",
            "Epoch 443/500\n",
            "11/11 [==============================] - 0s 4ms/step - loss: 1.1394 - accuracy: 0.5686\n",
            "Epoch 444/500\n",
            "11/11 [==============================] - 0s 5ms/step - loss: 1.1258 - accuracy: 0.5490\n",
            "Epoch 445/500\n",
            "11/11 [==============================] - 0s 5ms/step - loss: 1.1373 - accuracy: 0.5686\n",
            "Epoch 446/500\n",
            "11/11 [==============================] - 0s 6ms/step - loss: 1.1332 - accuracy: 0.5294\n",
            "Epoch 447/500\n",
            "11/11 [==============================] - 0s 6ms/step - loss: 1.1281 - accuracy: 0.5686\n",
            "Epoch 448/500\n",
            "11/11 [==============================] - 0s 5ms/step - loss: 1.1510 - accuracy: 0.5098\n",
            "Epoch 449/500\n",
            "11/11 [==============================] - 0s 5ms/step - loss: 1.1395 - accuracy: 0.5294\n",
            "Epoch 450/500\n",
            "11/11 [==============================] - 0s 6ms/step - loss: 1.1229 - accuracy: 0.5294\n",
            "Epoch 451/500\n",
            "11/11 [==============================] - 0s 5ms/step - loss: 1.1177 - accuracy: 0.5490\n",
            "Epoch 452/500\n",
            "11/11 [==============================] - 0s 4ms/step - loss: 1.1292 - accuracy: 0.5098\n",
            "Epoch 453/500\n",
            "11/11 [==============================] - 0s 5ms/step - loss: 1.1176 - accuracy: 0.4902\n",
            "Epoch 454/500\n",
            "11/11 [==============================] - 0s 5ms/step - loss: 1.1401 - accuracy: 0.4706\n",
            "Epoch 455/500\n",
            "11/11 [==============================] - 0s 5ms/step - loss: 1.1396 - accuracy: 0.5294\n",
            "Epoch 456/500\n",
            "11/11 [==============================] - 0s 5ms/step - loss: 1.1313 - accuracy: 0.5098\n",
            "Epoch 457/500\n",
            "11/11 [==============================] - 0s 5ms/step - loss: 1.1278 - accuracy: 0.4902\n",
            "Epoch 458/500\n",
            "11/11 [==============================] - 0s 5ms/step - loss: 1.1116 - accuracy: 0.5490\n",
            "Epoch 459/500\n",
            "11/11 [==============================] - 0s 4ms/step - loss: 1.1329 - accuracy: 0.5098\n",
            "Epoch 460/500\n",
            "11/11 [==============================] - 0s 5ms/step - loss: 1.1186 - accuracy: 0.5294\n",
            "Epoch 461/500\n",
            "11/11 [==============================] - 0s 5ms/step - loss: 1.1120 - accuracy: 0.5098\n",
            "Epoch 462/500\n",
            "11/11 [==============================] - 0s 5ms/step - loss: 1.1182 - accuracy: 0.5490\n",
            "Epoch 463/500\n",
            "11/11 [==============================] - 0s 5ms/step - loss: 1.1069 - accuracy: 0.5098\n",
            "Epoch 464/500\n",
            "11/11 [==============================] - 0s 5ms/step - loss: 1.1388 - accuracy: 0.4902\n",
            "Epoch 465/500\n",
            "11/11 [==============================] - 0s 6ms/step - loss: 1.1690 - accuracy: 0.4510\n",
            "Epoch 466/500\n",
            "11/11 [==============================] - 0s 5ms/step - loss: 1.1240 - accuracy: 0.5294\n",
            "Epoch 467/500\n",
            "11/11 [==============================] - 0s 5ms/step - loss: 1.1249 - accuracy: 0.4902\n",
            "Epoch 468/500\n",
            "11/11 [==============================] - 0s 5ms/step - loss: 1.1024 - accuracy: 0.5098\n",
            "Epoch 469/500\n",
            "11/11 [==============================] - 0s 7ms/step - loss: 1.1040 - accuracy: 0.5686\n",
            "Epoch 470/500\n",
            "11/11 [==============================] - 0s 5ms/step - loss: 1.1100 - accuracy: 0.5098\n",
            "Epoch 471/500\n",
            "11/11 [==============================] - 0s 4ms/step - loss: 1.1213 - accuracy: 0.5098\n",
            "Epoch 472/500\n",
            "11/11 [==============================] - 0s 4ms/step - loss: 1.1392 - accuracy: 0.4706\n",
            "Epoch 473/500\n",
            "11/11 [==============================] - 0s 5ms/step - loss: 1.1503 - accuracy: 0.5294\n",
            "Epoch 474/500\n",
            "11/11 [==============================] - 0s 7ms/step - loss: 1.1580 - accuracy: 0.5098\n",
            "Epoch 475/500\n",
            "11/11 [==============================] - 0s 5ms/step - loss: 1.1263 - accuracy: 0.4706\n",
            "Epoch 476/500\n",
            "11/11 [==============================] - 0s 4ms/step - loss: 1.1058 - accuracy: 0.5098\n",
            "Epoch 477/500\n",
            "11/11 [==============================] - 0s 5ms/step - loss: 1.1185 - accuracy: 0.5098\n",
            "Epoch 478/500\n",
            "11/11 [==============================] - 0s 5ms/step - loss: 1.1169 - accuracy: 0.5294\n",
            "Epoch 479/500\n",
            "11/11 [==============================] - 0s 4ms/step - loss: 1.0885 - accuracy: 0.5686\n",
            "Epoch 480/500\n",
            "11/11 [==============================] - 0s 5ms/step - loss: 1.1034 - accuracy: 0.5490\n",
            "Epoch 481/500\n",
            "11/11 [==============================] - 0s 5ms/step - loss: 1.1285 - accuracy: 0.5294\n",
            "Epoch 482/500\n",
            "11/11 [==============================] - 0s 5ms/step - loss: 1.1564 - accuracy: 0.5098\n",
            "Epoch 483/500\n",
            "11/11 [==============================] - 0s 5ms/step - loss: 1.1201 - accuracy: 0.5490\n",
            "Epoch 484/500\n",
            "11/11 [==============================] - 0s 5ms/step - loss: 1.1077 - accuracy: 0.5490\n",
            "Epoch 485/500\n",
            "11/11 [==============================] - 0s 4ms/step - loss: 1.0972 - accuracy: 0.5490\n",
            "Epoch 486/500\n",
            "11/11 [==============================] - 0s 5ms/step - loss: 1.1490 - accuracy: 0.5098\n",
            "Epoch 487/500\n",
            "11/11 [==============================] - 0s 5ms/step - loss: 1.1632 - accuracy: 0.4706\n",
            "Epoch 488/500\n",
            "11/11 [==============================] - 0s 7ms/step - loss: 1.0980 - accuracy: 0.5882\n",
            "Epoch 489/500\n",
            "11/11 [==============================] - 0s 6ms/step - loss: 1.0919 - accuracy: 0.5294\n",
            "Epoch 490/500\n",
            "11/11 [==============================] - 0s 6ms/step - loss: 1.0817 - accuracy: 0.5686\n",
            "Epoch 491/500\n",
            "11/11 [==============================] - 0s 5ms/step - loss: 1.0792 - accuracy: 0.5294\n",
            "Epoch 492/500\n",
            "11/11 [==============================] - 0s 5ms/step - loss: 1.0736 - accuracy: 0.5294\n",
            "Epoch 493/500\n",
            "11/11 [==============================] - 0s 5ms/step - loss: 1.0780 - accuracy: 0.5098\n",
            "Epoch 494/500\n",
            "11/11 [==============================] - 0s 5ms/step - loss: 1.0763 - accuracy: 0.4902\n",
            "Epoch 495/500\n",
            "11/11 [==============================] - 0s 5ms/step - loss: 1.0835 - accuracy: 0.5098\n",
            "Epoch 496/500\n",
            "11/11 [==============================] - 0s 7ms/step - loss: 1.0661 - accuracy: 0.5882\n",
            "Epoch 497/500\n",
            "11/11 [==============================] - 0s 5ms/step - loss: 1.0851 - accuracy: 0.5294\n",
            "Epoch 498/500\n",
            "11/11 [==============================] - 0s 5ms/step - loss: 1.0760 - accuracy: 0.5294\n",
            "Epoch 499/500\n",
            "11/11 [==============================] - 0s 4ms/step - loss: 1.0862 - accuracy: 0.5686\n",
            "Epoch 500/500\n",
            "11/11 [==============================] - 0s 5ms/step - loss: 1.0567 - accuracy: 0.5490\n"
          ],
          "name": "stdout"
        }
      ]
    },
    {
      "cell_type": "code",
      "metadata": {
        "colab": {
          "base_uri": "https://localhost:8080/"
        },
        "id": "9gWXwLxti0fY",
        "outputId": "7704133b-a810-4665-eb72-61a2058ddf3a"
      },
      "source": [
        "model.evaluate(X_train,y_train)"
      ],
      "execution_count": 18,
      "outputs": [
        {
          "output_type": "stream",
          "text": [
            "2/2 [==============================] - 0s 7ms/step - loss: 1.0648 - accuracy: 0.5490\n"
          ],
          "name": "stdout"
        },
        {
          "output_type": "execute_result",
          "data": {
            "text/plain": [
              "[1.0647741556167603, 0.5490196347236633]"
            ]
          },
          "metadata": {
            "tags": []
          },
          "execution_count": 18
        }
      ]
    },
    {
      "cell_type": "code",
      "metadata": {
        "colab": {
          "base_uri": "https://localhost:8080/"
        },
        "id": "2UhCgmMvrbeL",
        "outputId": "d2613fab-d13c-44df-e9f5-dce9a655f52f"
      },
      "source": [
        "X_train[4:5]"
      ],
      "execution_count": 19,
      "outputs": [
        {
          "output_type": "execute_result",
          "data": {
            "text/plain": [
              "array([[[0.57142857],\n",
              "        [0.07142857],\n",
              "        [0.5       ]]])"
            ]
          },
          "metadata": {
            "tags": []
          },
          "execution_count": 19
        }
      ]
    },
    {
      "cell_type": "code",
      "metadata": {
        "colab": {
          "base_uri": "https://localhost:8080/"
        },
        "id": "FjlO_YJ9lx_v",
        "outputId": "2d4cea28-ba93-458d-f31e-3c57839df7e5"
      },
      "source": [
        "model.predict(X_train[4:5])"
      ],
      "execution_count": 20,
      "outputs": [
        {
          "output_type": "execute_result",
          "data": {
            "text/plain": [
              "array([[3.1485524e-07, 4.6310191e-08, 4.2024498e-05, 1.5930954e-03,\n",
              "        1.4447596e-06, 4.5676492e-07, 1.8821225e-07, 3.2406482e-03,\n",
              "        5.2247995e-01, 4.7094080e-01, 1.5960082e-03, 1.0486221e-04,\n",
              "        1.9792591e-07]], dtype=float32)"
            ]
          },
          "metadata": {
            "tags": []
          },
          "execution_count": 20
        }
      ]
    },
    {
      "cell_type": "code",
      "metadata": {
        "id": "UqFBCiVXsPyA"
      },
      "source": [
        "first = 0.61538462\n",
        "second = 0.07692308\n",
        "third = 0.53846154"
      ],
      "execution_count": 21,
      "outputs": []
    },
    {
      "cell_type": "code",
      "metadata": {
        "id": "mciIp6UimdkC"
      },
      "source": [
        "#[[[[0.61538462],[0.07692308], [0.53846154]]]]\n",
        "#pred = model.predict([[[first],[second],[third]]])\n",
        "pred = model.predict(X_train[0:1])"
      ],
      "execution_count": 22,
      "outputs": []
    },
    {
      "cell_type": "code",
      "metadata": {
        "colab": {
          "base_uri": "https://localhost:8080/"
        },
        "id": "PXYRPdE4snrm",
        "outputId": "b67b2469-ba28-4374-9404-2d3f7be0e8d7"
      },
      "source": [
        "np.argmax(pred)"
      ],
      "execution_count": 23,
      "outputs": [
        {
          "output_type": "execute_result",
          "data": {
            "text/plain": [
              "10"
            ]
          },
          "metadata": {
            "tags": []
          },
          "execution_count": 23
        }
      ]
    },
    {
      "cell_type": "code",
      "metadata": {
        "id": "KYGqWEkat0cL"
      },
      "source": [
        "# code2idx = {'c4':0, 'd4':1, 'e4':2, 'f4':3, 'g4':4, 'a4':5, 'b4':6,\n",
        "#             'c8':7, 'd8':8, 'e8':9, 'f8':10, 'g8':11, 'a8':12, 'b8':13}"
      ],
      "execution_count": 24,
      "outputs": []
    },
    {
      "cell_type": "code",
      "metadata": {
        "id": "ZIlx9L2muNz2"
      },
      "source": [
        "# note_seq = ['g8', 'e8', 'e4', 'f8', 'd8', 'd4', 'c8', 'd8', 'e8', 'f8', 'g8', 'g8', 'g4',\n",
        "#        'g8', 'e8', 'e8', 'e8', 'f8', 'd8', 'd4', 'c8', 'e8', 'g8', 'g8', 'e8', 'e8', 'e4',\n",
        "#        'd8', 'd8', 'd8', 'd8', 'd8', 'e8', 'f4', 'e8', 'e8', 'e8', 'e8', 'e8', 'f8', 'g4',\n",
        "#        'g8', 'e8', 'e4', 'f8', 'd8', 'd4', 'c8', 'e8', 'g8', 'g8', 'e8', 'e8', 'e4']"
      ],
      "execution_count": 25,
      "outputs": []
    }
  ]
}
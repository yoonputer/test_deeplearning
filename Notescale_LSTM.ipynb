{
  "nbformat": 4,
  "nbformat_minor": 0,
  "metadata": {
    "colab": {
      "name": "Notescale_LSTM.ipynb",
      "provenance": [],
      "collapsed_sections": [],
      "authorship_tag": "ABX9TyP5fc4bDX8ZNQ7KqFySSYYR",
      "include_colab_link": true
    },
    "kernelspec": {
      "name": "python3",
      "display_name": "Python 3"
    },
    "language_info": {
      "name": "python"
    }
  },
  "cells": [
    {
      "cell_type": "markdown",
      "metadata": {
        "id": "view-in-github",
        "colab_type": "text"
      },
      "source": [
        "<a href=\"https://colab.research.google.com/github/yoonputer/test_deeplearning/blob/master/Notescale_LSTM.ipynb\" target=\"_parent\"><img src=\"https://colab.research.google.com/assets/colab-badge.svg\" alt=\"Open In Colab\"/></a>"
      ]
    },
    {
      "cell_type": "code",
      "metadata": {
        "id": "dWpWwhKBlE8i"
      },
      "source": [
        "# 시계열 데이터 공부\n",
        "# 나비야 노래를 계명으로 만든것\n",
        "note_seq = ['g8', 'e8', 'e4', 'f8', 'd8', 'd4', 'c8', 'd8', 'e8', 'f8', 'g8', 'g8', 'g4',\n",
        "       'g8', 'e8', 'e8', 'e8', 'f8', 'd8', 'd4', 'c8', 'e8', 'g8', 'g8', 'e8', 'e8', 'e4',\n",
        "       'd8', 'd8', 'd8', 'd8', 'd8', 'e8', 'f4', 'e8', 'e8', 'e8', 'e8', 'e8', 'f8', 'g4',\n",
        "       'g8', 'e8', 'e4', 'f8', 'd8', 'd4', 'c8', 'e8', 'g8', 'g8', 'e8', 'e8', 'e4']"
      ],
      "execution_count": 1,
      "outputs": []
    },
    {
      "cell_type": "code",
      "metadata": {
        "colab": {
          "base_uri": "https://localhost:8080/"
        },
        "id": "Qp5uYlFxnx0a",
        "outputId": "d8d76d80-e5ba-4849-eaaf-16d469ac2911"
      },
      "source": [
        "note_seq[0:4], note_seq[1:5], note_seq[2:6]"
      ],
      "execution_count": 2,
      "outputs": [
        {
          "output_type": "execute_result",
          "data": {
            "text/plain": [
              "(['g8', 'e8', 'e4', 'f8'], ['e8', 'e4', 'f8', 'd8'], ['e4', 'f8', 'd8', 'd4'])"
            ]
          },
          "metadata": {
            "tags": []
          },
          "execution_count": 2
        }
      ]
    },
    {
      "cell_type": "code",
      "metadata": {
        "id": "ZtNjcCMsldXR"
      },
      "source": [
        "# 데이터 사전\n",
        "code2idx = {'c4':0, 'd4':1, 'e4':2, 'f4':3, 'g4':4, 'a4':5, 'b4':6,\n",
        "            'c8':7, 'd8':8, 'e8':9, 'f8':10, 'g8':11, 'a8':12, 'b8':13}"
      ],
      "execution_count": 3,
      "outputs": []
    },
    {
      "cell_type": "code",
      "metadata": {
        "colab": {
          "base_uri": "https://localhost:8080/"
        },
        "id": "y6zR1_wrmTaz",
        "outputId": "b9ea629b-52af-4200-ea0e-dfd07b1ffd2b"
      },
      "source": [
        "range(len(note_seq)-4) # [4,8,12,....]"
      ],
      "execution_count": 4,
      "outputs": [
        {
          "output_type": "execute_result",
          "data": {
            "text/plain": [
              "range(0, 50)"
            ]
          },
          "metadata": {
            "tags": []
          },
          "execution_count": 4
        }
      ]
    },
    {
      "cell_type": "code",
      "metadata": {
        "colab": {
          "base_uri": "https://localhost:8080/"
        },
        "id": "e7JYgT_GUhBq",
        "outputId": "3c8877a4-8752-4ada-8fcc-5656cf531c8d"
      },
      "source": [
        "code2idx['g8']"
      ],
      "execution_count": 5,
      "outputs": [
        {
          "output_type": "execute_result",
          "data": {
            "text/plain": [
              "11"
            ]
          },
          "metadata": {
            "tags": []
          },
          "execution_count": 5
        }
      ]
    },
    {
      "cell_type": "code",
      "metadata": {
        "colab": {
          "base_uri": "https://localhost:8080/"
        },
        "id": "Zj7-J9yelgQU",
        "outputId": "41d24077-b733-42a7-c103-d4f54489c155"
      },
      "source": [
        "dataset = list()\n",
        "for i in range(len(note_seq)-4):\n",
        "  subset = note_seq[i:i+4]\n",
        "  items = list()\n",
        "  #print(subset)\n",
        "  for item in subset:\n",
        "    code2idx[item]\n",
        "    #print(code2idx[item])\n",
        "    items.append(code2idx[item])\n",
        "  #print(items)\n",
        "  dataset.append(items)\n",
        "\n",
        "print(dataset)"
      ],
      "execution_count": 6,
      "outputs": [
        {
          "output_type": "stream",
          "text": [
            "[[11, 9, 2, 10], [9, 2, 10, 8], [2, 10, 8, 1], [10, 8, 1, 7], [8, 1, 7, 8], [1, 7, 8, 9], [7, 8, 9, 10], [8, 9, 10, 11], [9, 10, 11, 11], [10, 11, 11, 4], [11, 11, 4, 11], [11, 4, 11, 9], [4, 11, 9, 9], [11, 9, 9, 9], [9, 9, 9, 10], [9, 9, 10, 8], [9, 10, 8, 1], [10, 8, 1, 7], [8, 1, 7, 9], [1, 7, 9, 11], [7, 9, 11, 11], [9, 11, 11, 9], [11, 11, 9, 9], [11, 9, 9, 2], [9, 9, 2, 8], [9, 2, 8, 8], [2, 8, 8, 8], [8, 8, 8, 8], [8, 8, 8, 8], [8, 8, 8, 9], [8, 8, 9, 3], [8, 9, 3, 9], [9, 3, 9, 9], [3, 9, 9, 9], [9, 9, 9, 9], [9, 9, 9, 9], [9, 9, 9, 10], [9, 9, 10, 4], [9, 10, 4, 11], [10, 4, 11, 9], [4, 11, 9, 2], [11, 9, 2, 10], [9, 2, 10, 8], [2, 10, 8, 1], [10, 8, 1, 7], [8, 1, 7, 9], [1, 7, 9, 11], [7, 9, 11, 11], [9, 11, 11, 9], [11, 11, 9, 9]]\n"
          ],
          "name": "stdout"
        }
      ]
    },
    {
      "cell_type": "code",
      "metadata": {
        "id": "EhaSQgrHV15n"
      },
      "source": [
        "import numpy as np\n",
        "datasets = np.array(dataset)"
      ],
      "execution_count": 7,
      "outputs": []
    },
    {
      "cell_type": "code",
      "metadata": {
        "colab": {
          "base_uri": "https://localhost:8080/"
        },
        "id": "ktsWA7AdUMIY",
        "outputId": "fa203193-ccc6-4e05-fd74-e3a02841badd"
      },
      "source": [
        "x_train = datasets[:,0:3]\n",
        "x_train.shape"
      ],
      "execution_count": 8,
      "outputs": [
        {
          "output_type": "execute_result",
          "data": {
            "text/plain": [
              "(50, 3)"
            ]
          },
          "metadata": {
            "tags": []
          },
          "execution_count": 8
        }
      ]
    },
    {
      "cell_type": "code",
      "metadata": {
        "colab": {
          "base_uri": "https://localhost:8080/"
        },
        "id": "8hWgh_Q5WM7f",
        "outputId": "c4e25a85-9436-4fb7-e9eb-218f54c73dab"
      },
      "source": [
        "y_train = datasets[:,3]\n",
        "y_train.shape"
      ],
      "execution_count": 9,
      "outputs": [
        {
          "output_type": "execute_result",
          "data": {
            "text/plain": [
              "(50,)"
            ]
          },
          "metadata": {
            "tags": []
          },
          "execution_count": 9
        }
      ]
    },
    {
      "cell_type": "code",
      "metadata": {
        "colab": {
          "base_uri": "https://localhost:8080/"
        },
        "id": "CSlbFBRzXS6L",
        "outputId": "ea1e2fb5-ae1d-4ee6-dcdc-f5762b865b40"
      },
      "source": [
        "len(code2idx)"
      ],
      "execution_count": 10,
      "outputs": [
        {
          "output_type": "execute_result",
          "data": {
            "text/plain": [
              "14"
            ]
          },
          "metadata": {
            "tags": []
          },
          "execution_count": 10
        }
      ]
    },
    {
      "cell_type": "code",
      "metadata": {
        "colab": {
          "base_uri": "https://localhost:8080/"
        },
        "id": "kon-zYYOWWZe",
        "outputId": "d43ab57d-49b2-4c19-acaf-382b0d4b090f"
      },
      "source": [
        "x_train = x_train / 13 # len(code2idx)\n",
        "x_train[3]"
      ],
      "execution_count": 11,
      "outputs": [
        {
          "output_type": "execute_result",
          "data": {
            "text/plain": [
              "array([0.76923077, 0.61538462, 0.07692308])"
            ]
          },
          "metadata": {
            "tags": []
          },
          "execution_count": 11
        }
      ]
    },
    {
      "cell_type": "markdown",
      "metadata": {
        "id": "78KzEriKXlR4"
      },
      "source": [
        "# make model"
      ]
    },
    {
      "cell_type": "code",
      "metadata": {
        "id": "MiVl_pU7XeyX"
      },
      "source": [
        "import tensorflow as tf"
      ],
      "execution_count": 12,
      "outputs": []
    },
    {
      "cell_type": "code",
      "metadata": {
        "colab": {
          "base_uri": "https://localhost:8080/"
        },
        "id": "10H8AebLZBsT",
        "outputId": "f96acb08-5ed2-4dc3-ae49-295e8906f120"
      },
      "source": [
        "x_train.shape, x_train[2] # --> tensorflow type(tensor) (50,3,1)\n",
        "# -- > 스칼라"
      ],
      "execution_count": 13,
      "outputs": [
        {
          "output_type": "execute_result",
          "data": {
            "text/plain": [
              "((50, 3), array([0.15384615, 0.76923077, 0.61538462]))"
            ]
          },
          "metadata": {
            "tags": []
          },
          "execution_count": 13
        }
      ]
    },
    {
      "cell_type": "code",
      "metadata": {
        "colab": {
          "base_uri": "https://localhost:8080/"
        },
        "id": "9M_P4Caad7BS",
        "outputId": "ee2939c1-ba1e-400b-b9a9-21d57296313d"
      },
      "source": [
        "X_train = np.reshape(x_train,(50,3,1)) # tensor\n",
        "X_train.shape, X_train[2]"
      ],
      "execution_count": 14,
      "outputs": [
        {
          "output_type": "execute_result",
          "data": {
            "text/plain": [
              "((50, 3, 1), array([[0.15384615],\n",
              "        [0.76923077],\n",
              "        [0.61538462]]))"
            ]
          },
          "metadata": {
            "tags": []
          },
          "execution_count": 14
        }
      ]
    },
    {
      "cell_type": "code",
      "metadata": {
        "colab": {
          "base_uri": "https://localhost:8080/"
        },
        "id": "p5Hilrs2glTj",
        "outputId": "d5b75ade-fa88-4919-8814-91b84a5ce5da"
      },
      "source": [
        "np.unique(y_train) # 없어서 그런거지 데이터 사전을 보면 13개임 (음계)"
      ],
      "execution_count": 15,
      "outputs": [
        {
          "output_type": "execute_result",
          "data": {
            "text/plain": [
              "array([ 1,  2,  3,  4,  7,  8,  9, 10, 11])"
            ]
          },
          "metadata": {
            "tags": []
          },
          "execution_count": 15
        }
      ]
    },
    {
      "cell_type": "code",
      "metadata": {
        "colab": {
          "base_uri": "https://localhost:8080/"
        },
        "id": "fNv5Ckl5X1Pz",
        "outputId": "46081f5e-9a1e-468d-862b-ffaf60f8ce10"
      },
      "source": [
        "model = tf.keras.models.Sequential()\n",
        "\n",
        "#tf.keras.layers.LSTM(batch_input_shape=(50, 3, 1)) # batch_size, timesteps, input_dim) -- > (rows, cols, 1) \n",
        "                                                   \n",
        "# # model.add() # input layer\n",
        "# model.add(tf.keras.layers.LSTM(128, batch_input_shape=(50, 3, 1))) # input and hidden layer\n",
        "# model.add(tf.keras.layers.Dense(13, activation='softmax')) # output layer\n",
        "\n",
        "model.add(tf.keras.Input(shape=(3,1))) #input layer\n",
        "model.add(tf.keras.layers.LSTM(128)) # hidden layer\n",
        "model.add(tf.keras.layers.Dense(13, activation='softmax')) # output layer\n",
        "\n",
        "model.compile(optimizer='adam',loss='sparse_categorical_crossentropy', metrics=['accuracy']) # gadget"
      ],
      "execution_count": 21,
      "outputs": [
        {
          "output_type": "stream",
          "text": [
            "WARNING:tensorflow:Please add `keras.layers.InputLayer` instead of `keras.Input` to Sequential model. `keras.Input` is intended to be used by Functional model.\n"
          ],
          "name": "stdout"
        }
      ]
    },
    {
      "cell_type": "code",
      "metadata": {
        "colab": {
          "base_uri": "https://localhost:8080/"
        },
        "id": "Z6-sxvhOhpPp",
        "outputId": "2423bc06-3e07-40a3-9315-309557b667be"
      },
      "source": [
        "hist = model.fit(X_train, y_train, epochs=2, batch_size=5) # 50 / 5 = 10"
      ],
      "execution_count": 22,
      "outputs": [
        {
          "output_type": "stream",
          "text": [
            "Epoch 1/2\n",
            "10/10 [==============================] - 1s 3ms/step - loss: 2.5459 - accuracy: 0.2200\n",
            "Epoch 2/2\n",
            "10/10 [==============================] - 0s 3ms/step - loss: 2.4706 - accuracy: 0.3400\n"
          ],
          "name": "stdout"
        }
      ]
    },
    {
      "cell_type": "code",
      "metadata": {
        "colab": {
          "base_uri": "https://localhost:8080/"
        },
        "id": "9gWXwLxti0fY",
        "outputId": "2862d03e-1866-4be9-af32-4455f5aaf132"
      },
      "source": [
        "model.evaluate(X_train,y_train)"
      ],
      "execution_count": 23,
      "outputs": [
        {
          "output_type": "stream",
          "text": [
            "2/2 [==============================] - 0s 6ms/step - loss: 2.4219 - accuracy: 0.3400\n"
          ],
          "name": "stdout"
        },
        {
          "output_type": "execute_result",
          "data": {
            "text/plain": [
              "[2.421875476837158, 0.3400000035762787]"
            ]
          },
          "metadata": {
            "tags": []
          },
          "execution_count": 23
        }
      ]
    },
    {
      "cell_type": "code",
      "metadata": {
        "id": "FjlO_YJ9lx_v"
      },
      "source": [
        "model.predict()"
      ],
      "execution_count": null,
      "outputs": []
    },
    {
      "cell_type": "code",
      "metadata": {
        "id": "mciIp6UimdkC"
      },
      "source": [
        ""
      ],
      "execution_count": null,
      "outputs": []
    }
  ]
}